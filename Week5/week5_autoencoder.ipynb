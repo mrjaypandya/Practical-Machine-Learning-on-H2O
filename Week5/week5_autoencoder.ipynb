{
 "cells": [
  {
   "cell_type": "code",
   "execution_count": 1,
   "metadata": {},
   "outputs": [],
   "source": [
    "import h2o \n",
    "import matplotlib.pyplot as plt\n",
    "%matplotlib inline"
   ]
  },
  {
   "cell_type": "code",
   "execution_count": 2,
   "metadata": {},
   "outputs": [
    {
     "name": "stdout",
     "output_type": "stream",
     "text": [
      "Checking whether there is an H2O instance running at http://localhost:54321 ..... not found.\n",
      "Attempting to start a local H2O server...\n",
      "  Java Version: openjdk version \"1.8.0_121\"; OpenJDK Runtime Environment (Zulu 8.20.0.5-linux64) (build 1.8.0_121-b15); OpenJDK 64-Bit Server VM (Zulu 8.20.0.5-linux64) (build 25.121-b15, mixed mode)\n",
      "  Starting server from /home/alchemist/.conda/envs/tensorflow/lib/python3.6/site-packages/h2o/backend/bin/h2o.jar\n",
      "  Ice root: /tmp/tmpug_mx4du\n",
      "  JVM stdout: /tmp/tmpug_mx4du/h2o_alchemist_started_from_python.out\n",
      "  JVM stderr: /tmp/tmpug_mx4du/h2o_alchemist_started_from_python.err\n",
      "  Server is running at http://127.0.0.1:54321\n",
      "Connecting to H2O server at http://127.0.0.1:54321 ... successful.\n"
     ]
    },
    {
     "data": {
      "text/html": [
       "<div style=\"overflow:auto\"><table style=\"width:50%\"><tr><td>H2O cluster uptime:</td>\n",
       "<td>04 secs</td></tr>\n",
       "<tr><td>H2O cluster timezone:</td>\n",
       "<td>Asia/Kolkata</td></tr>\n",
       "<tr><td>H2O data parsing timezone:</td>\n",
       "<td>UTC</td></tr>\n",
       "<tr><td>H2O cluster version:</td>\n",
       "<td>3.23.0.4597</td></tr>\n",
       "<tr><td>H2O cluster version age:</td>\n",
       "<td>9 days </td></tr>\n",
       "<tr><td>H2O cluster name:</td>\n",
       "<td>H2O_from_python_alchemist_uv1d5s</td></tr>\n",
       "<tr><td>H2O cluster total nodes:</td>\n",
       "<td>1</td></tr>\n",
       "<tr><td>H2O cluster free memory:</td>\n",
       "<td>1.280 Gb</td></tr>\n",
       "<tr><td>H2O cluster total cores:</td>\n",
       "<td>4</td></tr>\n",
       "<tr><td>H2O cluster allowed cores:</td>\n",
       "<td>4</td></tr>\n",
       "<tr><td>H2O cluster status:</td>\n",
       "<td>accepting new members, healthy</td></tr>\n",
       "<tr><td>H2O connection url:</td>\n",
       "<td>http://127.0.0.1:54321</td></tr>\n",
       "<tr><td>H2O connection proxy:</td>\n",
       "<td>None</td></tr>\n",
       "<tr><td>H2O internal security:</td>\n",
       "<td>False</td></tr>\n",
       "<tr><td>H2O API Extensions:</td>\n",
       "<td>Amazon S3, XGBoost, Algos, AutoML, Core V3, Core V4</td></tr>\n",
       "<tr><td>Python version:</td>\n",
       "<td>3.6.7 final</td></tr></table></div>"
      ],
      "text/plain": [
       "--------------------------  ---------------------------------------------------\n",
       "H2O cluster uptime:         04 secs\n",
       "H2O cluster timezone:       Asia/Kolkata\n",
       "H2O data parsing timezone:  UTC\n",
       "H2O cluster version:        3.23.0.4597\n",
       "H2O cluster version age:    9 days\n",
       "H2O cluster name:           H2O_from_python_alchemist_uv1d5s\n",
       "H2O cluster total nodes:    1\n",
       "H2O cluster free memory:    1.280 Gb\n",
       "H2O cluster total cores:    4\n",
       "H2O cluster allowed cores:  4\n",
       "H2O cluster status:         accepting new members, healthy\n",
       "H2O connection url:         http://127.0.0.1:54321\n",
       "H2O connection proxy:\n",
       "H2O internal security:      False\n",
       "H2O API Extensions:         Amazon S3, XGBoost, Algos, AutoML, Core V3, Core V4\n",
       "Python version:             3.6.7 final\n",
       "--------------------------  ---------------------------------------------------"
      ]
     },
     "metadata": {},
     "output_type": "display_data"
    }
   ],
   "source": [
    "h2o.init()"
   ]
  },
  {
   "cell_type": "code",
   "execution_count": 3,
   "metadata": {},
   "outputs": [
    {
     "name": "stdout",
     "output_type": "stream",
     "text": [
      "Parse progress: |█████████████████████████████████████████████████████████| 100%\n"
     ]
    }
   ],
   "source": [
    "url = \"http://h2o-public-test-data.s3.amazonaws.com/smalldata/iris/iris_wheader.csv\"\n",
    "iris = h2o.import_file(url)"
   ]
  },
  {
   "cell_type": "code",
   "execution_count": 4,
   "metadata": {},
   "outputs": [],
   "source": [
    "train, test = iris.split_frame([0.8],seed =123)"
   ]
  },
  {
   "cell_type": "code",
   "execution_count": 5,
   "metadata": {},
   "outputs": [
    {
     "data": {
      "text/plain": [
       "121"
      ]
     },
     "execution_count": 5,
     "metadata": {},
     "output_type": "execute_result"
    }
   ],
   "source": [
    "train.nrow"
   ]
  },
  {
   "cell_type": "code",
   "execution_count": 10,
   "metadata": {},
   "outputs": [],
   "source": [
    "x = [\"sepal_len\",\"sepal_wid\",\"petal_len\",\"petal_wid\"]"
   ]
  },
  {
   "cell_type": "code",
   "execution_count": 11,
   "metadata": {},
   "outputs": [],
   "source": [
    "from h2o.estimators.deeplearning import H2OAutoEncoderEstimator"
   ]
  },
  {
   "cell_type": "code",
   "execution_count": null,
   "metadata": {},
   "outputs": [],
   "source": []
  },
  {
   "cell_type": "code",
   "execution_count": 12,
   "metadata": {},
   "outputs": [
    {
     "name": "stdout",
     "output_type": "stream",
     "text": [
      "deeplearning Model Build progress: |██████████████████████████████████████| 100%\n",
      "CPU times: user 274 ms, sys: 30.8 ms, total: 305 ms\n",
      "Wall time: 6.01 s\n"
     ]
    }
   ],
   "source": [
    "m_AE_4 = H2OAutoEncoderEstimator(\n",
    "    hidden = [4],\n",
    "    activation = \"Tanh\",\n",
    "    epochs = 300,    \n",
    "    model_id =\"m_AE_4\",\n",
    "    \n",
    "    train_samples_per_iteration = train.nrow,\n",
    "    score_interval = 0,\n",
    "    score_duty_cycle = 1.0,    \n",
    ")\n",
    "%time m_AE_4.train(x,None, train)"
   ]
  },
  {
   "cell_type": "code",
   "execution_count": 13,
   "metadata": {},
   "outputs": [
    {
     "data": {
      "text/html": [
       "<div>\n",
       "<style scoped>\n",
       "    .dataframe tbody tr th:only-of-type {\n",
       "        vertical-align: middle;\n",
       "    }\n",
       "\n",
       "    .dataframe tbody tr th {\n",
       "        vertical-align: top;\n",
       "    }\n",
       "\n",
       "    .dataframe thead th {\n",
       "        text-align: right;\n",
       "    }\n",
       "</style>\n",
       "<table border=\"1\" class=\"dataframe\">\n",
       "  <thead>\n",
       "    <tr style=\"text-align: right;\">\n",
       "      <th></th>\n",
       "      <th></th>\n",
       "      <th>timestamp</th>\n",
       "      <th>duration</th>\n",
       "      <th>training_speed</th>\n",
       "      <th>epochs</th>\n",
       "      <th>iterations</th>\n",
       "      <th>samples</th>\n",
       "      <th>training_rmse</th>\n",
       "      <th>training_mse</th>\n",
       "    </tr>\n",
       "  </thead>\n",
       "  <tbody>\n",
       "    <tr>\n",
       "      <th>0</th>\n",
       "      <td></td>\n",
       "      <td>2019-03-16 10:56:23</td>\n",
       "      <td>0.258 sec</td>\n",
       "      <td>0.00000 obs/sec</td>\n",
       "      <td>0.0</td>\n",
       "      <td>0</td>\n",
       "      <td>0.0</td>\n",
       "      <td>0.429160</td>\n",
       "      <td>0.184179</td>\n",
       "    </tr>\n",
       "    <tr>\n",
       "      <th>1</th>\n",
       "      <td></td>\n",
       "      <td>2019-03-16 10:56:23</td>\n",
       "      <td>0.379 sec</td>\n",
       "      <td>1025 obs/sec</td>\n",
       "      <td>1.0</td>\n",
       "      <td>1</td>\n",
       "      <td>121.0</td>\n",
       "      <td>0.327844</td>\n",
       "      <td>0.107482</td>\n",
       "    </tr>\n",
       "    <tr>\n",
       "      <th>2</th>\n",
       "      <td></td>\n",
       "      <td>2019-03-16 10:56:23</td>\n",
       "      <td>0.401 sec</td>\n",
       "      <td>1805 obs/sec</td>\n",
       "      <td>2.0</td>\n",
       "      <td>2</td>\n",
       "      <td>242.0</td>\n",
       "      <td>0.265475</td>\n",
       "      <td>0.070477</td>\n",
       "    </tr>\n",
       "    <tr>\n",
       "      <th>3</th>\n",
       "      <td></td>\n",
       "      <td>2019-03-16 10:56:23</td>\n",
       "      <td>0.440 sec</td>\n",
       "      <td>2160 obs/sec</td>\n",
       "      <td>3.0</td>\n",
       "      <td>3</td>\n",
       "      <td>363.0</td>\n",
       "      <td>0.215377</td>\n",
       "      <td>0.046387</td>\n",
       "    </tr>\n",
       "    <tr>\n",
       "      <th>4</th>\n",
       "      <td></td>\n",
       "      <td>2019-03-16 10:56:23</td>\n",
       "      <td>0.457 sec</td>\n",
       "      <td>2674 obs/sec</td>\n",
       "      <td>4.0</td>\n",
       "      <td>4</td>\n",
       "      <td>484.0</td>\n",
       "      <td>0.176590</td>\n",
       "      <td>0.031184</td>\n",
       "    </tr>\n",
       "  </tbody>\n",
       "</table>\n",
       "</div>"
      ],
      "text/plain": [
       "               timestamp    duration   training_speed  epochs  iterations  \\\n",
       "0    2019-03-16 10:56:23   0.258 sec  0.00000 obs/sec     0.0           0   \n",
       "1    2019-03-16 10:56:23   0.379 sec     1025 obs/sec     1.0           1   \n",
       "2    2019-03-16 10:56:23   0.401 sec     1805 obs/sec     2.0           2   \n",
       "3    2019-03-16 10:56:23   0.440 sec     2160 obs/sec     3.0           3   \n",
       "4    2019-03-16 10:56:23   0.457 sec     2674 obs/sec     4.0           4   \n",
       "\n",
       "   samples  training_rmse  training_mse  \n",
       "0      0.0       0.429160      0.184179  \n",
       "1    121.0       0.327844      0.107482  \n",
       "2    242.0       0.265475      0.070477  \n",
       "3    363.0       0.215377      0.046387  \n",
       "4    484.0       0.176590      0.031184  "
      ]
     },
     "execution_count": 13,
     "metadata": {},
     "output_type": "execute_result"
    }
   ],
   "source": [
    "sh = m_AE_4.score_history()\n",
    "sh.head()"
   ]
  },
  {
   "cell_type": "code",
   "execution_count": 14,
   "metadata": {},
   "outputs": [
    {
     "data": {
      "text/plain": [
       "<matplotlib.axes._subplots.AxesSubplot at 0x7fd32089e7b8>"
      ]
     },
     "execution_count": 14,
     "metadata": {},
     "output_type": "execute_result"
    },
    {
     "data": {
      "image/png": "[encoded data removed]",
      "text/plain": [
       "<Figure size 432x288 with 1 Axes>"
      ]
     },
     "metadata": {
      "needs_background": "light"
     },
     "output_type": "display_data"
    }
   ],
   "source": [
    "sh[\"training_mse\"].plot()"
   ]
  },
  {
   "cell_type": "code",
   "execution_count": 15,
   "metadata": {},
   "outputs": [
    {
     "data": {
      "text/plain": [
       "<matplotlib.axes._subplots.AxesSubplot at 0x7fd3205eb9b0>"
      ]
     },
     "execution_count": 15,
     "metadata": {},
     "output_type": "execute_result"
    },
    {
     "data": {
      "image/png": "[encoded data removed]",
      "text/plain": [
       "<Figure size 432x288 with 1 Axes>"
      ]
     },
     "metadata": {
      "needs_background": "light"
     },
     "output_type": "display_data"
    }
   ],
   "source": [
    "sh[\"training_mse\"].tail(50).plot()"
   ]
  },
  {
   "cell_type": "code",
   "execution_count": null,
   "metadata": {},
   "outputs": [],
   "source": []
  },
  {
   "cell_type": "code",
   "execution_count": 16,
   "metadata": {},
   "outputs": [
    {
     "name": "stdout",
     "output_type": "stream",
     "text": [
      "deeplearning Model Build progress: |██████████████████████████████████████| 100%\n",
      "CPU times: user 224 ms, sys: 20.6 ms, total: 245 ms\n",
      "Wall time: 2.81 s\n"
     ]
    }
   ],
   "source": [
    "m_AE_4_2 = H2OAutoEncoderEstimator(\n",
    "    hidden = [4],\n",
    "    activation = \"Tanh\",\n",
    "    epochs = 300,    \n",
    "    model_id =\"m_AE_4_2\",\n",
    "    \n",
    "    train_samples_per_iteration = train.nrow,\n",
    "    score_interval = 0,\n",
    "    score_duty_cycle = 1.0,    \n",
    "    stopping_rounds = 15\n",
    ")\n",
    "%time m_AE_4_2.train(x,None, train)"
   ]
  },
  {
   "cell_type": "code",
   "execution_count": 17,
   "metadata": {},
   "outputs": [
    {
     "data": {
      "text/plain": [
       "<matplotlib.axes._subplots.AxesSubplot at 0x7fd3202b5a90>"
      ]
     },
     "execution_count": 17,
     "metadata": {},
     "output_type": "execute_result"
    },
    {
     "data": {
      "image/png": "[encoded data removed]",
      "text/plain": [
       "<Figure size 432x288 with 1 Axes>"
      ]
     },
     "metadata": {
      "needs_background": "light"
     },
     "output_type": "display_data"
    }
   ],
   "source": [
    "she = m_AE_4_2.score_history()\n",
    "she[\"training_mse\"].tail(50).plot()"
   ]
  },
  {
   "cell_type": "code",
   "execution_count": 18,
   "metadata": {},
   "outputs": [
    {
     "name": "stdout",
     "output_type": "stream",
     "text": [
      "deeplearning Model Build progress: |██████████████████████████████████████| 100%\n",
      "CPU times: user 241 ms, sys: 14.1 ms, total: 255 ms\n",
      "Wall time: 2.75 s\n"
     ]
    }
   ],
   "source": [
    "m_AE_3 = H2OAutoEncoderEstimator(\n",
    "    hidden = [3], #only change\n",
    "    activation = \"Tanh\",\n",
    "    epochs = 300,    \n",
    "    model_id =\"m_AE_3\",\n",
    "    \n",
    "    train_samples_per_iteration = train.nrow,\n",
    "    score_interval = 0,\n",
    "    score_duty_cycle = 1.0,    \n",
    "    stopping_rounds = 15\n",
    ")\n",
    "%time m_AE_3.train(x,None, train)"
   ]
  },
  {
   "cell_type": "code",
   "execution_count": 19,
   "metadata": {},
   "outputs": [
    {
     "data": {
      "text/plain": [
       "<matplotlib.axes._subplots.AxesSubplot at 0x7fd3202b4898>"
      ]
     },
     "execution_count": 19,
     "metadata": {},
     "output_type": "execute_result"
    },
    {
     "data": {
      "image/png": "[encoded data removed]",
      "text/plain": [
       "<Figure size 432x288 with 1 Axes>"
      ]
     },
     "metadata": {
      "needs_background": "light"
     },
     "output_type": "display_data"
    }
   ],
   "source": [
    "sh = m_AE_3.score_history()\n",
    "sh[\"training_mse\"].tail(50).plot()"
   ]
  },
  {
   "cell_type": "code",
   "execution_count": 20,
   "metadata": {},
   "outputs": [
    {
     "name": "stdout",
     "output_type": "stream",
     "text": [
      "deeplearning Model Build progress: |██████████████████████████████████████| 100%\n",
      "CPU times: user 74.1 ms, sys: 2.65 ms, total: 76.7 ms\n",
      "Wall time: 1.34 s\n"
     ]
    }
   ],
   "source": [
    "m_AE_2 = H2OAutoEncoderEstimator(\n",
    "    hidden = [2], #only change\n",
    "    activation = \"Tanh\",\n",
    "    epochs = 300,    \n",
    "    model_id =\"m_AE_2\",\n",
    "    \n",
    "    train_samples_per_iteration = train.nrow,\n",
    "    score_interval = 0,\n",
    "    score_duty_cycle = 1.0,    \n",
    "    stopping_rounds = 15\n",
    ")\n",
    "%time m_AE_2.train(x,None, train)"
   ]
  },
  {
   "cell_type": "code",
   "execution_count": 21,
   "metadata": {},
   "outputs": [
    {
     "data": {
      "text/plain": [
       "<matplotlib.axes._subplots.AxesSubplot at 0x7fd3208682e8>"
      ]
     },
     "execution_count": 21,
     "metadata": {},
     "output_type": "execute_result"
    },
    {
     "data": {
      "image/png": "[encoded data removed]",
      "text/plain": [
       "<Figure size 432x288 with 1 Axes>"
      ]
     },
     "metadata": {
      "needs_background": "light"
     },
     "output_type": "display_data"
    }
   ],
   "source": [
    "sh = m_AE_2.score_history()\n",
    "sh[\"training_mse\"].tail(50).plot()"
   ]
  },
  {
   "cell_type": "code",
   "execution_count": null,
   "metadata": {},
   "outputs": [],
   "source": []
  },
  {
   "cell_type": "code",
   "execution_count": 23,
   "metadata": {},
   "outputs": [
    {
     "name": "stdout",
     "output_type": "stream",
     "text": [
      "deeplearning Model Build progress: |██████████████████████████████████████| 100%\n",
      "CPU times: user 99.1 ms, sys: 8.97 ms, total: 108 ms\n",
      "Wall time: 1.11 s\n"
     ]
    }
   ],
   "source": [
    "m_AE_1 = H2OAutoEncoderEstimator(\n",
    "    hidden = [1], #only change\n",
    "    activation = \"Tanh\",\n",
    "    epochs = 300,    \n",
    "    model_id =\"m_AE_1\",\n",
    "    \n",
    "    train_samples_per_iteration = train.nrow,\n",
    "    score_interval = 0,\n",
    "    score_duty_cycle = 1.0,    \n",
    "    stopping_rounds = 15\n",
    ")\n",
    "%time m_AE_1.train(x,None, train)"
   ]
  },
  {
   "cell_type": "code",
   "execution_count": 24,
   "metadata": {},
   "outputs": [
    {
     "data": {
      "text/plain": [
       "<matplotlib.axes._subplots.AxesSubplot at 0x7fd3206b6c50>"
      ]
     },
     "execution_count": 24,
     "metadata": {},
     "output_type": "execute_result"
    },
    {
     "data": {
      "image/png": "[encoded data removed]",
      "text/plain": [
       "<Figure size 432x288 with 1 Axes>"
      ]
     },
     "metadata": {
      "needs_background": "light"
     },
     "output_type": "display_data"
    }
   ],
   "source": [
    "sh = m_AE_1.score_history()\n",
    "sh[\"training_mse\"].tail(50).plot()"
   ]
  },
  {
   "cell_type": "code",
   "execution_count": null,
   "metadata": {},
   "outputs": [],
   "source": []
  },
  {
   "cell_type": "markdown",
   "metadata": {},
   "source": [
    "## Multi-layer autoencoder"
   ]
  },
  {
   "cell_type": "code",
   "execution_count": 35,
   "metadata": {},
   "outputs": [
    {
     "name": "stdout",
     "output_type": "stream",
     "text": [
      "deeplearning Model Build progress: |██████████████████████████████████████| 100%\n",
      "CPU times: user 79.7 ms, sys: 4.27 ms, total: 84 ms\n",
      "Wall time: 889 ms\n"
     ]
    }
   ],
   "source": [
    "m_AE_5_3_5 = H2OAutoEncoderEstimator(\n",
    "    hidden = [5,3,5], #only change\n",
    "    activation = \"Tanh\",\n",
    "    epochs = 300,    \n",
    "    model_id =\"m_AE_5_3_5\",\n",
    "    \n",
    "    train_samples_per_iteration = train.nrow,\n",
    "    score_interval = 0,\n",
    "    score_duty_cycle = 1.0,    \n",
    "    stopping_rounds = 15\n",
    ")\n",
    "%time m_AE_5_3_5.train(x,None, train)"
   ]
  },
  {
   "cell_type": "code",
   "execution_count": 36,
   "metadata": {},
   "outputs": [
    {
     "data": {
      "text/plain": [
       "<matplotlib.axes._subplots.AxesSubplot at 0x7fd31fbef048>"
      ]
     },
     "execution_count": 36,
     "metadata": {},
     "output_type": "execute_result"
    },
    {
     "data": {
      "image/png": "[encoded data removed]",
      "text/plain": [
       "<Figure size 432x288 with 1 Axes>"
      ]
     },
     "metadata": {
      "needs_background": "light"
     },
     "output_type": "display_data"
    }
   ],
   "source": [
    "sh = m_AE_5_3_5.score_history()\n",
    "sh[\"training_mse\"].tail(50).plot()"
   ]
  },
  {
   "cell_type": "code",
   "execution_count": null,
   "metadata": {},
   "outputs": [],
   "source": []
  },
  {
   "cell_type": "markdown",
   "metadata": {},
   "source": [
    "# Stacked autoencoder\n",
    "### Builds on the m_AE_3 model, that was made earlier"
   ]
  },
  {
   "cell_type": "code",
   "execution_count": 37,
   "metadata": {},
   "outputs": [
    {
     "name": "stdout",
     "output_type": "stream",
     "text": [
      "deepfeatures progress: |██████████████████████████████████████████████████| 100%\n"
     ]
    }
   ],
   "source": [
    "train_AE_3 = m_AE_3.deepfeatures(train,0) #0 means layer 1"
   ]
  },
  {
   "cell_type": "code",
   "execution_count": 38,
   "metadata": {},
   "outputs": [
    {
     "data": {
      "text/plain": [
       "[121, 3]"
      ]
     },
     "execution_count": 38,
     "metadata": {},
     "output_type": "execute_result"
    }
   ],
   "source": [
    "train_AE_3.dim"
   ]
  },
  {
   "cell_type": "code",
   "execution_count": 39,
   "metadata": {},
   "outputs": [
    {
     "data": {
      "text/html": [
       "<table>\n",
       "<thead>\n",
       "<tr><th style=\"text-align: right;\">  DF.L1.C1</th><th style=\"text-align: right;\">   DF.L1.C2</th><th style=\"text-align: right;\">  DF.L1.C3</th></tr>\n",
       "</thead>\n",
       "<tbody>\n",
       "<tr><td style=\"text-align: right;\">  0.330472</td><td style=\"text-align: right;\">-0.0602823 </td><td style=\"text-align: right;\"> -0.555024</td></tr>\n",
       "<tr><td style=\"text-align: right;\">  0.349059</td><td style=\"text-align: right;\">-0.257044  </td><td style=\"text-align: right;\"> -0.499892</td></tr>\n",
       "<tr><td style=\"text-align: right;\">  0.401021</td><td style=\"text-align: right;\">-0.164724  </td><td style=\"text-align: right;\"> -0.507552</td></tr>\n",
       "<tr><td style=\"text-align: right;\">  0.410044</td><td style=\"text-align: right;\">-0.196614  </td><td style=\"text-align: right;\"> -0.478704</td></tr>\n",
       "<tr><td style=\"text-align: right;\">  0.35553 </td><td style=\"text-align: right;\">-0.011058  </td><td style=\"text-align: right;\"> -0.555688</td></tr>\n",
       "<tr><td style=\"text-align: right;\">  0.288035</td><td style=\"text-align: right;\"> 0.141804  </td><td style=\"text-align: right;\"> -0.533   </td></tr>\n",
       "<tr><td style=\"text-align: right;\">  0.431278</td><td style=\"text-align: right;\">-0.0499041 </td><td style=\"text-align: right;\"> -0.479524</td></tr>\n",
       "<tr><td style=\"text-align: right;\">  0.343314</td><td style=\"text-align: right;\">-0.0949304 </td><td style=\"text-align: right;\"> -0.534079</td></tr>\n",
       "<tr><td style=\"text-align: right;\">  0.272929</td><td style=\"text-align: right;\"> 0.00877359</td><td style=\"text-align: right;\"> -0.585222</td></tr>\n",
       "<tr><td style=\"text-align: right;\">  0.380577</td><td style=\"text-align: right;\">-0.0806065 </td><td style=\"text-align: right;\"> -0.513164</td></tr>\n",
       "</tbody>\n",
       "</table>"
      ]
     },
     "metadata": {},
     "output_type": "display_data"
    },
    {
     "data": {
      "text/plain": []
     },
     "execution_count": 39,
     "metadata": {},
     "output_type": "execute_result"
    }
   ],
   "source": [
    "train_AE_3"
   ]
  },
  {
   "cell_type": "code",
   "execution_count": 40,
   "metadata": {},
   "outputs": [
    {
     "name": "stdout",
     "output_type": "stream",
     "text": [
      "deeplearning Model Build progress: |██████████████████████████████████████| 100%\n",
      "CPU times: user 80.2 ms, sys: 1.65 ms, total: 81.8 ms\n",
      "Wall time: 932 ms\n"
     ]
    }
   ],
   "source": [
    "m_AE_3x3 = H2OAutoEncoderEstimator(\n",
    "    hidden = [3], #only change\n",
    "    activation = \"Tanh\",\n",
    "    epochs = 300,    \n",
    "    model_id =\"m_AE_3x3\",\n",
    "    \n",
    "    train_samples_per_iteration = train.nrow,\n",
    "    score_interval = 0,\n",
    "    score_duty_cycle = 1.0,    \n",
    "    stopping_rounds = 15\n",
    ")\n",
    "%time m_AE_3x3.train([0,1,2],None, train_AE_3)"
   ]
  },
  {
   "cell_type": "code",
   "execution_count": 41,
   "metadata": {},
   "outputs": [
    {
     "data": {
      "text/plain": [
       "<matplotlib.axes._subplots.AxesSubplot at 0x7fd31f39df60>"
      ]
     },
     "execution_count": 41,
     "metadata": {},
     "output_type": "execute_result"
    },
    {
     "data": {
      "image/png": "[encoded data removed]",
      "text/plain": [
       "<Figure size 432x288 with 1 Axes>"
      ]
     },
     "metadata": {
      "needs_background": "light"
     },
     "output_type": "display_data"
    }
   ],
   "source": [
    "sh = m_AE_3x3.score_history()\n",
    "sh[\"training_mse\"].tail(50).plot()"
   ]
  },
  {
   "cell_type": "code",
   "execution_count": 42,
   "metadata": {},
   "outputs": [],
   "source": [
    "x = [\"sepal_len\",\"sepal_wid\",\"petal_len\",\"petal_wid\",\"class\"]"
   ]
  },
  {
   "cell_type": "code",
   "execution_count": 44,
   "metadata": {},
   "outputs": [
    {
     "name": "stdout",
     "output_type": "stream",
     "text": [
      "deeplearning Model Build progress: |██████████████████████████████████████| 100%\n",
      "CPU times: user 82.1 ms, sys: 7.63 ms, total: 89.8 ms\n",
      "Wall time: 1.3 s\n"
     ]
    }
   ],
   "source": [
    "m_anomaly16 = H2OAutoEncoderEstimator(\n",
    "    hidden = [16],\n",
    "    activation = \"Tanh\",\n",
    "    epochs = 300,\n",
    "    model_id = \"m_anomaly16\",\n",
    "    \n",
    "    train_samples_per_iteration = train.nrow,\n",
    "    score_interval = 0,\n",
    "    score_duty_cycle = 1.0,    \n",
    "    stopping_rounds = 15\n",
    ")\n",
    "%time m_anomaly16.train(x,None, iris)"
   ]
  },
  {
   "cell_type": "code",
   "execution_count": 45,
   "metadata": {},
   "outputs": [],
   "source": [
    "anomalies = m_anomaly16.anomaly(iris).cbind(iris).as_data_frame()"
   ]
  },
  {
   "cell_type": "code",
   "execution_count": 46,
   "metadata": {},
   "outputs": [],
   "source": [
    "s = anomalies.sort_values(\"Reconstruction.MSE\", ascending= False)"
   ]
  },
  {
   "cell_type": "code",
   "execution_count": 47,
   "metadata": {},
   "outputs": [
    {
     "data": {
      "text/html": [
       "<div>\n",
       "<style scoped>\n",
       "    .dataframe tbody tr th:only-of-type {\n",
       "        vertical-align: middle;\n",
       "    }\n",
       "\n",
       "    .dataframe tbody tr th {\n",
       "        vertical-align: top;\n",
       "    }\n",
       "\n",
       "    .dataframe thead th {\n",
       "        text-align: right;\n",
       "    }\n",
       "</style>\n",
       "<table border=\"1\" class=\"dataframe\">\n",
       "  <thead>\n",
       "    <tr style=\"text-align: right;\">\n",
       "      <th></th>\n",
       "      <th>Reconstruction.MSE</th>\n",
       "      <th>sepal_len</th>\n",
       "      <th>sepal_wid</th>\n",
       "      <th>petal_len</th>\n",
       "      <th>petal_wid</th>\n",
       "      <th>class</th>\n",
       "    </tr>\n",
       "  </thead>\n",
       "  <tbody>\n",
       "    <tr>\n",
       "      <th>131</th>\n",
       "      <td>0.000397</td>\n",
       "      <td>7.9</td>\n",
       "      <td>3.8</td>\n",
       "      <td>6.4</td>\n",
       "      <td>2.0</td>\n",
       "      <td>Iris-virginica</td>\n",
       "    </tr>\n",
       "    <tr>\n",
       "      <th>118</th>\n",
       "      <td>0.000313</td>\n",
       "      <td>7.7</td>\n",
       "      <td>2.6</td>\n",
       "      <td>6.9</td>\n",
       "      <td>2.3</td>\n",
       "      <td>Iris-virginica</td>\n",
       "    </tr>\n",
       "    <tr>\n",
       "      <th>15</th>\n",
       "      <td>0.000312</td>\n",
       "      <td>5.7</td>\n",
       "      <td>4.4</td>\n",
       "      <td>1.5</td>\n",
       "      <td>0.4</td>\n",
       "      <td>Iris-setosa</td>\n",
       "    </tr>\n",
       "    <tr>\n",
       "      <th>43</th>\n",
       "      <td>0.000256</td>\n",
       "      <td>5.0</td>\n",
       "      <td>3.5</td>\n",
       "      <td>1.6</td>\n",
       "      <td>0.6</td>\n",
       "      <td>Iris-setosa</td>\n",
       "    </tr>\n",
       "    <tr>\n",
       "      <th>135</th>\n",
       "      <td>0.000253</td>\n",
       "      <td>7.7</td>\n",
       "      <td>3.0</td>\n",
       "      <td>6.1</td>\n",
       "      <td>2.3</td>\n",
       "      <td>Iris-virginica</td>\n",
       "    </tr>\n",
       "  </tbody>\n",
       "</table>\n",
       "</div>"
      ],
      "text/plain": [
       "     Reconstruction.MSE  sepal_len  sepal_wid  petal_len  petal_wid  \\\n",
       "131            0.000397        7.9        3.8        6.4        2.0   \n",
       "118            0.000313        7.7        2.6        6.9        2.3   \n",
       "15             0.000312        5.7        4.4        1.5        0.4   \n",
       "43             0.000256        5.0        3.5        1.6        0.6   \n",
       "135            0.000253        7.7        3.0        6.1        2.3   \n",
       "\n",
       "              class  \n",
       "131  Iris-virginica  \n",
       "118  Iris-virginica  \n",
       "15      Iris-setosa  \n",
       "43      Iris-setosa  \n",
       "135  Iris-virginica  "
      ]
     },
     "execution_count": 47,
     "metadata": {},
     "output_type": "execute_result"
    }
   ],
   "source": [
    "s.head()"
   ]
  },
  {
   "cell_type": "code",
   "execution_count": 48,
   "metadata": {},
   "outputs": [
    {
     "data": {
      "text/html": [
       "<div>\n",
       "<style scoped>\n",
       "    .dataframe tbody tr th:only-of-type {\n",
       "        vertical-align: middle;\n",
       "    }\n",
       "\n",
       "    .dataframe tbody tr th {\n",
       "        vertical-align: top;\n",
       "    }\n",
       "\n",
       "    .dataframe thead th {\n",
       "        text-align: right;\n",
       "    }\n",
       "</style>\n",
       "<table border=\"1\" class=\"dataframe\">\n",
       "  <thead>\n",
       "    <tr style=\"text-align: right;\">\n",
       "      <th></th>\n",
       "      <th>Reconstruction.MSE</th>\n",
       "      <th>sepal_len</th>\n",
       "      <th>sepal_wid</th>\n",
       "      <th>petal_len</th>\n",
       "      <th>petal_wid</th>\n",
       "      <th>class</th>\n",
       "    </tr>\n",
       "  </thead>\n",
       "  <tbody>\n",
       "    <tr>\n",
       "      <th>27</th>\n",
       "      <td>0.000005</td>\n",
       "      <td>5.2</td>\n",
       "      <td>3.5</td>\n",
       "      <td>1.5</td>\n",
       "      <td>0.2</td>\n",
       "      <td>Iris-setosa</td>\n",
       "    </tr>\n",
       "    <tr>\n",
       "      <th>7</th>\n",
       "      <td>0.000003</td>\n",
       "      <td>5.0</td>\n",
       "      <td>3.4</td>\n",
       "      <td>1.5</td>\n",
       "      <td>0.2</td>\n",
       "      <td>Iris-setosa</td>\n",
       "    </tr>\n",
       "    <tr>\n",
       "      <th>92</th>\n",
       "      <td>0.000003</td>\n",
       "      <td>5.8</td>\n",
       "      <td>2.6</td>\n",
       "      <td>4.0</td>\n",
       "      <td>1.2</td>\n",
       "      <td>Iris-versicolor</td>\n",
       "    </tr>\n",
       "    <tr>\n",
       "      <th>0</th>\n",
       "      <td>0.000002</td>\n",
       "      <td>5.1</td>\n",
       "      <td>3.5</td>\n",
       "      <td>1.4</td>\n",
       "      <td>0.2</td>\n",
       "      <td>Iris-setosa</td>\n",
       "    </tr>\n",
       "    <tr>\n",
       "      <th>4</th>\n",
       "      <td>0.000001</td>\n",
       "      <td>5.0</td>\n",
       "      <td>3.6</td>\n",
       "      <td>1.4</td>\n",
       "      <td>0.2</td>\n",
       "      <td>Iris-setosa</td>\n",
       "    </tr>\n",
       "  </tbody>\n",
       "</table>\n",
       "</div>"
      ],
      "text/plain": [
       "    Reconstruction.MSE  sepal_len  sepal_wid  petal_len  petal_wid  \\\n",
       "27            0.000005        5.2        3.5        1.5        0.2   \n",
       "7             0.000003        5.0        3.4        1.5        0.2   \n",
       "92            0.000003        5.8        2.6        4.0        1.2   \n",
       "0             0.000002        5.1        3.5        1.4        0.2   \n",
       "4             0.000001        5.0        3.6        1.4        0.2   \n",
       "\n",
       "              class  \n",
       "27      Iris-setosa  \n",
       "7       Iris-setosa  \n",
       "92  Iris-versicolor  \n",
       "0       Iris-setosa  \n",
       "4       Iris-setosa  "
      ]
     },
     "execution_count": 48,
     "metadata": {},
     "output_type": "execute_result"
    }
   ],
   "source": [
    "s.tail()"
   ]
  },
  {
   "cell_type": "code",
   "execution_count": null,
   "metadata": {},
   "outputs": [],
   "source": []
  }
 ],
 "metadata": {
  "kernelspec": {
   "display_name": "Python 3",
   "language": "python",
   "name": "python3"
  },
  "language_info": {
   "codemirror_mode": {
    "name": "ipython",
    "version": 3
   },
   "file_extension": ".py",
   "mimetype": "text/x-python",
   "name": "python",
   "nbconvert_exporter": "python",
   "pygments_lexer": "ipython3",
   "version": "3.6.7"
  }
 },
 "nbformat": 4,
 "nbformat_minor": 2
}
