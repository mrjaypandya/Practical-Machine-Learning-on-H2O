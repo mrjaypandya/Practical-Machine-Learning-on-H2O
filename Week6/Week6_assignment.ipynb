{
 "cells": [
  {
   "cell_type": "code",
   "execution_count": 84,
   "metadata": {},
   "outputs": [],
   "source": [
    "import h2o\n",
    "import matplotlib.pyplot as plt\n",
    "import pandas as pd\n",
    "%matplotlib inline"
   ]
  },
  {
   "cell_type": "code",
   "execution_count": 31,
   "metadata": {},
   "outputs": [
    {
     "name": "stdout",
     "output_type": "stream",
     "text": [
      "Checking whether there is an H2O instance running at http://localhost:54321 . connected.\n"
     ]
    },
    {
     "data": {
      "text/html": [
       "<div style=\"overflow:auto\"><table style=\"width:50%\"><tr><td>H2O cluster uptime:</td>\n",
       "<td>54 mins 24 secs</td></tr>\n",
       "<tr><td>H2O cluster timezone:</td>\n",
       "<td>Asia/Kolkata</td></tr>\n",
       "<tr><td>H2O data parsing timezone:</td>\n",
       "<td>UTC</td></tr>\n",
       "<tr><td>H2O cluster version:</td>\n",
       "<td>3.23.0.4597</td></tr>\n",
       "<tr><td>H2O cluster version age:</td>\n",
       "<td>18 days </td></tr>\n",
       "<tr><td>H2O cluster name:</td>\n",
       "<td>H2O_from_python_alchemist_fll1vt</td></tr>\n",
       "<tr><td>H2O cluster total nodes:</td>\n",
       "<td>1</td></tr>\n",
       "<tr><td>H2O cluster free memory:</td>\n",
       "<td>1.115 Gb</td></tr>\n",
       "<tr><td>H2O cluster total cores:</td>\n",
       "<td>4</td></tr>\n",
       "<tr><td>H2O cluster allowed cores:</td>\n",
       "<td>4</td></tr>\n",
       "<tr><td>H2O cluster status:</td>\n",
       "<td>locked, healthy</td></tr>\n",
       "<tr><td>H2O connection url:</td>\n",
       "<td>http://localhost:54321</td></tr>\n",
       "<tr><td>H2O connection proxy:</td>\n",
       "<td>None</td></tr>\n",
       "<tr><td>H2O internal security:</td>\n",
       "<td>False</td></tr>\n",
       "<tr><td>H2O API Extensions:</td>\n",
       "<td>Amazon S3, XGBoost, Algos, AutoML, Core V3, Core V4</td></tr>\n",
       "<tr><td>Python version:</td>\n",
       "<td>3.6.7 final</td></tr></table></div>"
      ],
      "text/plain": [
       "--------------------------  ---------------------------------------------------\n",
       "H2O cluster uptime:         54 mins 24 secs\n",
       "H2O cluster timezone:       Asia/Kolkata\n",
       "H2O data parsing timezone:  UTC\n",
       "H2O cluster version:        3.23.0.4597\n",
       "H2O cluster version age:    18 days\n",
       "H2O cluster name:           H2O_from_python_alchemist_fll1vt\n",
       "H2O cluster total nodes:    1\n",
       "H2O cluster free memory:    1.115 Gb\n",
       "H2O cluster total cores:    4\n",
       "H2O cluster allowed cores:  4\n",
       "H2O cluster status:         locked, healthy\n",
       "H2O connection url:         http://localhost:54321\n",
       "H2O connection proxy:\n",
       "H2O internal security:      False\n",
       "H2O API Extensions:         Amazon S3, XGBoost, Algos, AutoML, Core V3, Core V4\n",
       "Python version:             3.6.7 final\n",
       "--------------------------  ---------------------------------------------------"
      ]
     },
     "metadata": {},
     "output_type": "display_data"
    }
   ],
   "source": [
    "h2o.init()"
   ]
  },
  {
   "cell_type": "code",
   "execution_count": 97,
   "metadata": {},
   "outputs": [
    {
     "name": "stdout",
     "output_type": "stream",
     "text": [
      "Parse progress: |█████████████████████████████████████████████████████████| 100%\n"
     ]
    }
   ],
   "source": [
    "data = h2o.import_file(\"http://coursera.h2o.ai/house_data.3487.csv\")\n",
    "data = h2o.H2OFrame.as_data_frame(data)"
   ]
  },
  {
   "cell_type": "code",
   "execution_count": 99,
   "metadata": {},
   "outputs": [
    {
     "data": {
      "text/html": [
       "<div>\n",
       "<style scoped>\n",
       "    .dataframe tbody tr th:only-of-type {\n",
       "        vertical-align: middle;\n",
       "    }\n",
       "\n",
       "    .dataframe tbody tr th {\n",
       "        vertical-align: top;\n",
       "    }\n",
       "\n",
       "    .dataframe thead th {\n",
       "        text-align: right;\n",
       "    }\n",
       "</style>\n",
       "<table border=\"1\" class=\"dataframe\">\n",
       "  <thead>\n",
       "    <tr style=\"text-align: right;\">\n",
       "      <th></th>\n",
       "      <th>id</th>\n",
       "      <th>date</th>\n",
       "      <th>price</th>\n",
       "      <th>bedrooms</th>\n",
       "      <th>bathrooms</th>\n",
       "      <th>sqft_living</th>\n",
       "      <th>sqft_lot</th>\n",
       "      <th>floors</th>\n",
       "      <th>waterfront</th>\n",
       "      <th>view</th>\n",
       "      <th>...</th>\n",
       "      <th>grade</th>\n",
       "      <th>sqft_above</th>\n",
       "      <th>sqft_basement</th>\n",
       "      <th>yr_built</th>\n",
       "      <th>yr_renovated</th>\n",
       "      <th>zipcode</th>\n",
       "      <th>lat</th>\n",
       "      <th>long</th>\n",
       "      <th>sqft_living15</th>\n",
       "      <th>sqft_lot15</th>\n",
       "    </tr>\n",
       "  </thead>\n",
       "  <tbody>\n",
       "    <tr>\n",
       "      <th>0</th>\n",
       "      <td>7129300520</td>\n",
       "      <td>20141013T000000</td>\n",
       "      <td>221900</td>\n",
       "      <td>3</td>\n",
       "      <td>1.00</td>\n",
       "      <td>1180</td>\n",
       "      <td>5650</td>\n",
       "      <td>1.0</td>\n",
       "      <td>0</td>\n",
       "      <td>0</td>\n",
       "      <td>...</td>\n",
       "      <td>7</td>\n",
       "      <td>1180</td>\n",
       "      <td>0</td>\n",
       "      <td>1955</td>\n",
       "      <td>0</td>\n",
       "      <td>98178</td>\n",
       "      <td>47.5112</td>\n",
       "      <td>-122.257</td>\n",
       "      <td>1340</td>\n",
       "      <td>5650</td>\n",
       "    </tr>\n",
       "    <tr>\n",
       "      <th>1</th>\n",
       "      <td>6414100192</td>\n",
       "      <td>20141209T000000</td>\n",
       "      <td>538000</td>\n",
       "      <td>3</td>\n",
       "      <td>2.25</td>\n",
       "      <td>2570</td>\n",
       "      <td>7242</td>\n",
       "      <td>2.0</td>\n",
       "      <td>0</td>\n",
       "      <td>0</td>\n",
       "      <td>...</td>\n",
       "      <td>7</td>\n",
       "      <td>2170</td>\n",
       "      <td>400</td>\n",
       "      <td>1951</td>\n",
       "      <td>1991</td>\n",
       "      <td>98125</td>\n",
       "      <td>47.7210</td>\n",
       "      <td>-122.319</td>\n",
       "      <td>1690</td>\n",
       "      <td>7639</td>\n",
       "    </tr>\n",
       "    <tr>\n",
       "      <th>2</th>\n",
       "      <td>5631500400</td>\n",
       "      <td>20150225T000000</td>\n",
       "      <td>180000</td>\n",
       "      <td>2</td>\n",
       "      <td>1.00</td>\n",
       "      <td>770</td>\n",
       "      <td>10000</td>\n",
       "      <td>1.0</td>\n",
       "      <td>0</td>\n",
       "      <td>0</td>\n",
       "      <td>...</td>\n",
       "      <td>6</td>\n",
       "      <td>770</td>\n",
       "      <td>0</td>\n",
       "      <td>1933</td>\n",
       "      <td>0</td>\n",
       "      <td>98028</td>\n",
       "      <td>47.7379</td>\n",
       "      <td>-122.233</td>\n",
       "      <td>2720</td>\n",
       "      <td>8062</td>\n",
       "    </tr>\n",
       "    <tr>\n",
       "      <th>3</th>\n",
       "      <td>2487200875</td>\n",
       "      <td>20141209T000000</td>\n",
       "      <td>604000</td>\n",
       "      <td>4</td>\n",
       "      <td>3.00</td>\n",
       "      <td>1960</td>\n",
       "      <td>5000</td>\n",
       "      <td>1.0</td>\n",
       "      <td>0</td>\n",
       "      <td>0</td>\n",
       "      <td>...</td>\n",
       "      <td>7</td>\n",
       "      <td>1050</td>\n",
       "      <td>910</td>\n",
       "      <td>1965</td>\n",
       "      <td>0</td>\n",
       "      <td>98136</td>\n",
       "      <td>47.5208</td>\n",
       "      <td>-122.393</td>\n",
       "      <td>1360</td>\n",
       "      <td>5000</td>\n",
       "    </tr>\n",
       "    <tr>\n",
       "      <th>4</th>\n",
       "      <td>1954400510</td>\n",
       "      <td>20150218T000000</td>\n",
       "      <td>510000</td>\n",
       "      <td>3</td>\n",
       "      <td>2.00</td>\n",
       "      <td>1680</td>\n",
       "      <td>8080</td>\n",
       "      <td>1.0</td>\n",
       "      <td>0</td>\n",
       "      <td>0</td>\n",
       "      <td>...</td>\n",
       "      <td>8</td>\n",
       "      <td>1680</td>\n",
       "      <td>0</td>\n",
       "      <td>1987</td>\n",
       "      <td>0</td>\n",
       "      <td>98074</td>\n",
       "      <td>47.6168</td>\n",
       "      <td>-122.045</td>\n",
       "      <td>1800</td>\n",
       "      <td>7503</td>\n",
       "    </tr>\n",
       "  </tbody>\n",
       "</table>\n",
       "<p>5 rows × 21 columns</p>\n",
       "</div>"
      ],
      "text/plain": [
       "           id             date   price  bedrooms  bathrooms  sqft_living  \\\n",
       "0  7129300520  20141013T000000  221900         3       1.00         1180   \n",
       "1  6414100192  20141209T000000  538000         3       2.25         2570   \n",
       "2  5631500400  20150225T000000  180000         2       1.00          770   \n",
       "3  2487200875  20141209T000000  604000         4       3.00         1960   \n",
       "4  1954400510  20150218T000000  510000         3       2.00         1680   \n",
       "\n",
       "   sqft_lot  floors  waterfront  view     ...      grade  sqft_above  \\\n",
       "0      5650     1.0           0     0     ...          7        1180   \n",
       "1      7242     2.0           0     0     ...          7        2170   \n",
       "2     10000     1.0           0     0     ...          6         770   \n",
       "3      5000     1.0           0     0     ...          7        1050   \n",
       "4      8080     1.0           0     0     ...          8        1680   \n",
       "\n",
       "   sqft_basement  yr_built  yr_renovated  zipcode      lat     long  \\\n",
       "0              0      1955             0    98178  47.5112 -122.257   \n",
       "1            400      1951          1991    98125  47.7210 -122.319   \n",
       "2              0      1933             0    98028  47.7379 -122.233   \n",
       "3            910      1965             0    98136  47.5208 -122.393   \n",
       "4              0      1987             0    98074  47.6168 -122.045   \n",
       "\n",
       "   sqft_living15  sqft_lot15  \n",
       "0           1340        5650  \n",
       "1           1690        7639  \n",
       "2           2720        8062  \n",
       "3           1360        5000  \n",
       "4           1800        7503  \n",
       "\n",
       "[5 rows x 21 columns]"
      ]
     },
     "execution_count": 99,
     "metadata": {},
     "output_type": "execute_result"
    }
   ],
   "source": [
    "data.head()"
   ]
  },
  {
   "cell_type": "code",
   "execution_count": 100,
   "metadata": {},
   "outputs": [],
   "source": [
    "#extracting date from date column\n",
    "data['year'] = pd.DatetimeIndex(data['date']).year\n",
    "data['month'] = pd.DatetimeIndex(data['date']).month\n",
    "data['day'] = pd.DatetimeIndex(data['date']).day"
   ]
  },
  {
   "cell_type": "code",
   "execution_count": 101,
   "metadata": {},
   "outputs": [
    {
     "data": {
      "text/html": [
       "<div>\n",
       "<style scoped>\n",
       "    .dataframe tbody tr th:only-of-type {\n",
       "        vertical-align: middle;\n",
       "    }\n",
       "\n",
       "    .dataframe tbody tr th {\n",
       "        vertical-align: top;\n",
       "    }\n",
       "\n",
       "    .dataframe thead th {\n",
       "        text-align: right;\n",
       "    }\n",
       "</style>\n",
       "<table border=\"1\" class=\"dataframe\">\n",
       "  <thead>\n",
       "    <tr style=\"text-align: right;\">\n",
       "      <th></th>\n",
       "      <th>id</th>\n",
       "      <th>date</th>\n",
       "      <th>price</th>\n",
       "      <th>bedrooms</th>\n",
       "      <th>bathrooms</th>\n",
       "      <th>sqft_living</th>\n",
       "      <th>sqft_lot</th>\n",
       "      <th>floors</th>\n",
       "      <th>waterfront</th>\n",
       "      <th>view</th>\n",
       "      <th>...</th>\n",
       "      <th>yr_built</th>\n",
       "      <th>yr_renovated</th>\n",
       "      <th>zipcode</th>\n",
       "      <th>lat</th>\n",
       "      <th>long</th>\n",
       "      <th>sqft_living15</th>\n",
       "      <th>sqft_lot15</th>\n",
       "      <th>year</th>\n",
       "      <th>month</th>\n",
       "      <th>day</th>\n",
       "    </tr>\n",
       "  </thead>\n",
       "  <tbody>\n",
       "    <tr>\n",
       "      <th>0</th>\n",
       "      <td>7129300520</td>\n",
       "      <td>20141013T000000</td>\n",
       "      <td>221900</td>\n",
       "      <td>3</td>\n",
       "      <td>1.00</td>\n",
       "      <td>1180</td>\n",
       "      <td>5650</td>\n",
       "      <td>1.0</td>\n",
       "      <td>0</td>\n",
       "      <td>0</td>\n",
       "      <td>...</td>\n",
       "      <td>1955</td>\n",
       "      <td>0</td>\n",
       "      <td>98178</td>\n",
       "      <td>47.5112</td>\n",
       "      <td>-122.257</td>\n",
       "      <td>1340</td>\n",
       "      <td>5650</td>\n",
       "      <td>2014</td>\n",
       "      <td>10</td>\n",
       "      <td>13</td>\n",
       "    </tr>\n",
       "    <tr>\n",
       "      <th>1</th>\n",
       "      <td>6414100192</td>\n",
       "      <td>20141209T000000</td>\n",
       "      <td>538000</td>\n",
       "      <td>3</td>\n",
       "      <td>2.25</td>\n",
       "      <td>2570</td>\n",
       "      <td>7242</td>\n",
       "      <td>2.0</td>\n",
       "      <td>0</td>\n",
       "      <td>0</td>\n",
       "      <td>...</td>\n",
       "      <td>1951</td>\n",
       "      <td>1991</td>\n",
       "      <td>98125</td>\n",
       "      <td>47.7210</td>\n",
       "      <td>-122.319</td>\n",
       "      <td>1690</td>\n",
       "      <td>7639</td>\n",
       "      <td>2014</td>\n",
       "      <td>12</td>\n",
       "      <td>9</td>\n",
       "    </tr>\n",
       "    <tr>\n",
       "      <th>2</th>\n",
       "      <td>5631500400</td>\n",
       "      <td>20150225T000000</td>\n",
       "      <td>180000</td>\n",
       "      <td>2</td>\n",
       "      <td>1.00</td>\n",
       "      <td>770</td>\n",
       "      <td>10000</td>\n",
       "      <td>1.0</td>\n",
       "      <td>0</td>\n",
       "      <td>0</td>\n",
       "      <td>...</td>\n",
       "      <td>1933</td>\n",
       "      <td>0</td>\n",
       "      <td>98028</td>\n",
       "      <td>47.7379</td>\n",
       "      <td>-122.233</td>\n",
       "      <td>2720</td>\n",
       "      <td>8062</td>\n",
       "      <td>2015</td>\n",
       "      <td>2</td>\n",
       "      <td>25</td>\n",
       "    </tr>\n",
       "    <tr>\n",
       "      <th>3</th>\n",
       "      <td>2487200875</td>\n",
       "      <td>20141209T000000</td>\n",
       "      <td>604000</td>\n",
       "      <td>4</td>\n",
       "      <td>3.00</td>\n",
       "      <td>1960</td>\n",
       "      <td>5000</td>\n",
       "      <td>1.0</td>\n",
       "      <td>0</td>\n",
       "      <td>0</td>\n",
       "      <td>...</td>\n",
       "      <td>1965</td>\n",
       "      <td>0</td>\n",
       "      <td>98136</td>\n",
       "      <td>47.5208</td>\n",
       "      <td>-122.393</td>\n",
       "      <td>1360</td>\n",
       "      <td>5000</td>\n",
       "      <td>2014</td>\n",
       "      <td>12</td>\n",
       "      <td>9</td>\n",
       "    </tr>\n",
       "    <tr>\n",
       "      <th>4</th>\n",
       "      <td>1954400510</td>\n",
       "      <td>20150218T000000</td>\n",
       "      <td>510000</td>\n",
       "      <td>3</td>\n",
       "      <td>2.00</td>\n",
       "      <td>1680</td>\n",
       "      <td>8080</td>\n",
       "      <td>1.0</td>\n",
       "      <td>0</td>\n",
       "      <td>0</td>\n",
       "      <td>...</td>\n",
       "      <td>1987</td>\n",
       "      <td>0</td>\n",
       "      <td>98074</td>\n",
       "      <td>47.6168</td>\n",
       "      <td>-122.045</td>\n",
       "      <td>1800</td>\n",
       "      <td>7503</td>\n",
       "      <td>2015</td>\n",
       "      <td>2</td>\n",
       "      <td>18</td>\n",
       "    </tr>\n",
       "  </tbody>\n",
       "</table>\n",
       "<p>5 rows × 24 columns</p>\n",
       "</div>"
      ],
      "text/plain": [
       "           id             date   price  bedrooms  bathrooms  sqft_living  \\\n",
       "0  7129300520  20141013T000000  221900         3       1.00         1180   \n",
       "1  6414100192  20141209T000000  538000         3       2.25         2570   \n",
       "2  5631500400  20150225T000000  180000         2       1.00          770   \n",
       "3  2487200875  20141209T000000  604000         4       3.00         1960   \n",
       "4  1954400510  20150218T000000  510000         3       2.00         1680   \n",
       "\n",
       "   sqft_lot  floors  waterfront  view ...   yr_built  yr_renovated  zipcode  \\\n",
       "0      5650     1.0           0     0 ...       1955             0    98178   \n",
       "1      7242     2.0           0     0 ...       1951          1991    98125   \n",
       "2     10000     1.0           0     0 ...       1933             0    98028   \n",
       "3      5000     1.0           0     0 ...       1965             0    98136   \n",
       "4      8080     1.0           0     0 ...       1987             0    98074   \n",
       "\n",
       "       lat     long  sqft_living15  sqft_lot15  year  month  day  \n",
       "0  47.5112 -122.257           1340        5650  2014     10   13  \n",
       "1  47.7210 -122.319           1690        7639  2014     12    9  \n",
       "2  47.7379 -122.233           2720        8062  2015      2   25  \n",
       "3  47.5208 -122.393           1360        5000  2014     12    9  \n",
       "4  47.6168 -122.045           1800        7503  2015      2   18  \n",
       "\n",
       "[5 rows x 24 columns]"
      ]
     },
     "execution_count": 101,
     "metadata": {},
     "output_type": "execute_result"
    }
   ],
   "source": [
    "data.head()"
   ]
  },
  {
   "cell_type": "code",
   "execution_count": 102,
   "metadata": {},
   "outputs": [
    {
     "name": "stdout",
     "output_type": "stream",
     "text": [
      "Parse progress: |█████████████████████████████████████████████████████████| 100%\n"
     ]
    }
   ],
   "source": [
    "data = h2o.H2OFrame(data)"
   ]
  },
  {
   "cell_type": "code",
   "execution_count": 103,
   "metadata": {},
   "outputs": [
    {
     "data": {
      "text/html": [
       "<table>\n",
       "<thead>\n",
       "<tr><th style=\"text-align: right;\">         id</th><th>date           </th><th style=\"text-align: right;\">         price</th><th style=\"text-align: right;\">  bedrooms</th><th style=\"text-align: right;\">  bathrooms</th><th style=\"text-align: right;\">  sqft_living</th><th style=\"text-align: right;\">  sqft_lot</th><th style=\"text-align: right;\">  floors</th><th style=\"text-align: right;\">  waterfront</th><th style=\"text-align: right;\">  view</th><th style=\"text-align: right;\">  condition</th><th style=\"text-align: right;\">  grade</th><th style=\"text-align: right;\">  sqft_above</th><th style=\"text-align: right;\">  sqft_basement</th><th style=\"text-align: right;\">  yr_built</th><th style=\"text-align: right;\">  yr_renovated</th><th style=\"text-align: right;\">  zipcode</th><th style=\"text-align: right;\">    lat</th><th style=\"text-align: right;\">    long</th><th style=\"text-align: right;\">  sqft_living15</th><th style=\"text-align: right;\">  sqft_lot15</th><th style=\"text-align: right;\">  year</th><th style=\"text-align: right;\">  month</th><th style=\"text-align: right;\">  day</th></tr>\n",
       "</thead>\n",
       "<tbody>\n",
       "<tr><td style=\"text-align: right;\">7.1293e+09 </td><td>20141013T000000</td><td style=\"text-align: right;\">221900        </td><td style=\"text-align: right;\">         3</td><td style=\"text-align: right;\">       1   </td><td style=\"text-align: right;\">         1180</td><td style=\"text-align: right;\">      5650</td><td style=\"text-align: right;\">       1</td><td style=\"text-align: right;\">           0</td><td style=\"text-align: right;\">     0</td><td style=\"text-align: right;\">          3</td><td style=\"text-align: right;\">      7</td><td style=\"text-align: right;\">        1180</td><td style=\"text-align: right;\">              0</td><td style=\"text-align: right;\">      1955</td><td style=\"text-align: right;\">             0</td><td style=\"text-align: right;\">    98178</td><td style=\"text-align: right;\">47.5112</td><td style=\"text-align: right;\">-122.257</td><td style=\"text-align: right;\">           1340</td><td style=\"text-align: right;\">        5650</td><td style=\"text-align: right;\">  2014</td><td style=\"text-align: right;\">     10</td><td style=\"text-align: right;\">   13</td></tr>\n",
       "<tr><td style=\"text-align: right;\">6.4141e+09 </td><td>20141209T000000</td><td style=\"text-align: right;\">538000        </td><td style=\"text-align: right;\">         3</td><td style=\"text-align: right;\">       2.25</td><td style=\"text-align: right;\">         2570</td><td style=\"text-align: right;\">      7242</td><td style=\"text-align: right;\">       2</td><td style=\"text-align: right;\">           0</td><td style=\"text-align: right;\">     0</td><td style=\"text-align: right;\">          3</td><td style=\"text-align: right;\">      7</td><td style=\"text-align: right;\">        2170</td><td style=\"text-align: right;\">            400</td><td style=\"text-align: right;\">      1951</td><td style=\"text-align: right;\">          1991</td><td style=\"text-align: right;\">    98125</td><td style=\"text-align: right;\">47.721 </td><td style=\"text-align: right;\">-122.319</td><td style=\"text-align: right;\">           1690</td><td style=\"text-align: right;\">        7639</td><td style=\"text-align: right;\">  2014</td><td style=\"text-align: right;\">     12</td><td style=\"text-align: right;\">    9</td></tr>\n",
       "<tr><td style=\"text-align: right;\">5.6315e+09 </td><td>20150225T000000</td><td style=\"text-align: right;\">180000        </td><td style=\"text-align: right;\">         2</td><td style=\"text-align: right;\">       1   </td><td style=\"text-align: right;\">          770</td><td style=\"text-align: right;\">     10000</td><td style=\"text-align: right;\">       1</td><td style=\"text-align: right;\">           0</td><td style=\"text-align: right;\">     0</td><td style=\"text-align: right;\">          3</td><td style=\"text-align: right;\">      6</td><td style=\"text-align: right;\">         770</td><td style=\"text-align: right;\">              0</td><td style=\"text-align: right;\">      1933</td><td style=\"text-align: right;\">             0</td><td style=\"text-align: right;\">    98028</td><td style=\"text-align: right;\">47.7379</td><td style=\"text-align: right;\">-122.233</td><td style=\"text-align: right;\">           2720</td><td style=\"text-align: right;\">        8062</td><td style=\"text-align: right;\">  2015</td><td style=\"text-align: right;\">      2</td><td style=\"text-align: right;\">   25</td></tr>\n",
       "<tr><td style=\"text-align: right;\">2.4872e+09 </td><td>20141209T000000</td><td style=\"text-align: right;\">604000        </td><td style=\"text-align: right;\">         4</td><td style=\"text-align: right;\">       3   </td><td style=\"text-align: right;\">         1960</td><td style=\"text-align: right;\">      5000</td><td style=\"text-align: right;\">       1</td><td style=\"text-align: right;\">           0</td><td style=\"text-align: right;\">     0</td><td style=\"text-align: right;\">          5</td><td style=\"text-align: right;\">      7</td><td style=\"text-align: right;\">        1050</td><td style=\"text-align: right;\">            910</td><td style=\"text-align: right;\">      1965</td><td style=\"text-align: right;\">             0</td><td style=\"text-align: right;\">    98136</td><td style=\"text-align: right;\">47.5208</td><td style=\"text-align: right;\">-122.393</td><td style=\"text-align: right;\">           1360</td><td style=\"text-align: right;\">        5000</td><td style=\"text-align: right;\">  2014</td><td style=\"text-align: right;\">     12</td><td style=\"text-align: right;\">    9</td></tr>\n",
       "<tr><td style=\"text-align: right;\">1.9544e+09 </td><td>20150218T000000</td><td style=\"text-align: right;\">510000        </td><td style=\"text-align: right;\">         3</td><td style=\"text-align: right;\">       2   </td><td style=\"text-align: right;\">         1680</td><td style=\"text-align: right;\">      8080</td><td style=\"text-align: right;\">       1</td><td style=\"text-align: right;\">           0</td><td style=\"text-align: right;\">     0</td><td style=\"text-align: right;\">          3</td><td style=\"text-align: right;\">      8</td><td style=\"text-align: right;\">        1680</td><td style=\"text-align: right;\">              0</td><td style=\"text-align: right;\">      1987</td><td style=\"text-align: right;\">             0</td><td style=\"text-align: right;\">    98074</td><td style=\"text-align: right;\">47.6168</td><td style=\"text-align: right;\">-122.045</td><td style=\"text-align: right;\">           1800</td><td style=\"text-align: right;\">        7503</td><td style=\"text-align: right;\">  2015</td><td style=\"text-align: right;\">      2</td><td style=\"text-align: right;\">   18</td></tr>\n",
       "<tr><td style=\"text-align: right;\">7.23755e+09</td><td>20140512T000000</td><td style=\"text-align: right;\">     1.225e+06</td><td style=\"text-align: right;\">         4</td><td style=\"text-align: right;\">       4.5 </td><td style=\"text-align: right;\">         5420</td><td style=\"text-align: right;\">    101930</td><td style=\"text-align: right;\">       1</td><td style=\"text-align: right;\">           0</td><td style=\"text-align: right;\">     0</td><td style=\"text-align: right;\">          3</td><td style=\"text-align: right;\">     11</td><td style=\"text-align: right;\">        3890</td><td style=\"text-align: right;\">           1530</td><td style=\"text-align: right;\">      2001</td><td style=\"text-align: right;\">             0</td><td style=\"text-align: right;\">    98053</td><td style=\"text-align: right;\">47.6561</td><td style=\"text-align: right;\">-122.005</td><td style=\"text-align: right;\">           4760</td><td style=\"text-align: right;\">      101930</td><td style=\"text-align: right;\">  2014</td><td style=\"text-align: right;\">      5</td><td style=\"text-align: right;\">   12</td></tr>\n",
       "<tr><td style=\"text-align: right;\">1.3214e+09 </td><td>20140627T000000</td><td style=\"text-align: right;\">257500        </td><td style=\"text-align: right;\">         3</td><td style=\"text-align: right;\">       2.25</td><td style=\"text-align: right;\">         1715</td><td style=\"text-align: right;\">      6819</td><td style=\"text-align: right;\">       2</td><td style=\"text-align: right;\">           0</td><td style=\"text-align: right;\">     0</td><td style=\"text-align: right;\">          3</td><td style=\"text-align: right;\">      7</td><td style=\"text-align: right;\">        1715</td><td style=\"text-align: right;\">              0</td><td style=\"text-align: right;\">      1995</td><td style=\"text-align: right;\">             0</td><td style=\"text-align: right;\">    98003</td><td style=\"text-align: right;\">47.3097</td><td style=\"text-align: right;\">-122.327</td><td style=\"text-align: right;\">           2238</td><td style=\"text-align: right;\">        6819</td><td style=\"text-align: right;\">  2014</td><td style=\"text-align: right;\">      6</td><td style=\"text-align: right;\">   27</td></tr>\n",
       "<tr><td style=\"text-align: right;\">2.008e+09  </td><td>20150115T000000</td><td style=\"text-align: right;\">291850        </td><td style=\"text-align: right;\">         3</td><td style=\"text-align: right;\">       1.5 </td><td style=\"text-align: right;\">         1060</td><td style=\"text-align: right;\">      9711</td><td style=\"text-align: right;\">       1</td><td style=\"text-align: right;\">           0</td><td style=\"text-align: right;\">     0</td><td style=\"text-align: right;\">          3</td><td style=\"text-align: right;\">      7</td><td style=\"text-align: right;\">        1060</td><td style=\"text-align: right;\">              0</td><td style=\"text-align: right;\">      1963</td><td style=\"text-align: right;\">             0</td><td style=\"text-align: right;\">    98198</td><td style=\"text-align: right;\">47.4095</td><td style=\"text-align: right;\">-122.315</td><td style=\"text-align: right;\">           1650</td><td style=\"text-align: right;\">        9711</td><td style=\"text-align: right;\">  2015</td><td style=\"text-align: right;\">      1</td><td style=\"text-align: right;\">   15</td></tr>\n",
       "<tr><td style=\"text-align: right;\">2.4146e+09 </td><td>20150415T000000</td><td style=\"text-align: right;\">229500        </td><td style=\"text-align: right;\">         3</td><td style=\"text-align: right;\">       1   </td><td style=\"text-align: right;\">         1780</td><td style=\"text-align: right;\">      7470</td><td style=\"text-align: right;\">       1</td><td style=\"text-align: right;\">           0</td><td style=\"text-align: right;\">     0</td><td style=\"text-align: right;\">          3</td><td style=\"text-align: right;\">      7</td><td style=\"text-align: right;\">        1050</td><td style=\"text-align: right;\">            730</td><td style=\"text-align: right;\">      1960</td><td style=\"text-align: right;\">             0</td><td style=\"text-align: right;\">    98146</td><td style=\"text-align: right;\">47.5123</td><td style=\"text-align: right;\">-122.337</td><td style=\"text-align: right;\">           1780</td><td style=\"text-align: right;\">        8113</td><td style=\"text-align: right;\">  2015</td><td style=\"text-align: right;\">      4</td><td style=\"text-align: right;\">   15</td></tr>\n",
       "<tr><td style=\"text-align: right;\">3.7935e+09 </td><td>20150312T000000</td><td style=\"text-align: right;\">323000        </td><td style=\"text-align: right;\">         3</td><td style=\"text-align: right;\">       2.5 </td><td style=\"text-align: right;\">         1890</td><td style=\"text-align: right;\">      6560</td><td style=\"text-align: right;\">       2</td><td style=\"text-align: right;\">           0</td><td style=\"text-align: right;\">     0</td><td style=\"text-align: right;\">          3</td><td style=\"text-align: right;\">      7</td><td style=\"text-align: right;\">        1890</td><td style=\"text-align: right;\">              0</td><td style=\"text-align: right;\">      2003</td><td style=\"text-align: right;\">             0</td><td style=\"text-align: right;\">    98038</td><td style=\"text-align: right;\">47.3684</td><td style=\"text-align: right;\">-122.031</td><td style=\"text-align: right;\">           2390</td><td style=\"text-align: right;\">        7570</td><td style=\"text-align: right;\">  2015</td><td style=\"text-align: right;\">      3</td><td style=\"text-align: right;\">   12</td></tr>\n",
       "</tbody>\n",
       "</table>"
      ]
     },
     "metadata": {},
     "output_type": "display_data"
    },
    {
     "data": {
      "text/plain": []
     },
     "execution_count": 103,
     "metadata": {},
     "output_type": "execute_result"
    }
   ],
   "source": [
    "data"
   ]
  },
  {
   "cell_type": "code",
   "execution_count": 107,
   "metadata": {},
   "outputs": [
    {
     "name": "stdout",
     "output_type": "stream",
     "text": [
      "19462/2151\n"
     ]
    }
   ],
   "source": [
    "train, test = data.split_frame([0.9],seed = 123)\n",
    "print(\"%d/%d\"% (train.nrow,test.nrow))"
   ]
  },
  {
   "cell_type": "code",
   "execution_count": 114,
   "metadata": {},
   "outputs": [],
   "source": [
    "y = \"price\" # Setting response and the predictors variables\n",
    "ignoreFields = [y,\"id\",\"date\",\"waterfront\",\"view\",\"sqft_basement\",\"yr_renovated\"]\n",
    "x = [i for i in train.names if i not in ignoreFields]\n",
    "nfolds = 5"
   ]
  },
  {
   "cell_type": "code",
   "execution_count": 120,
   "metadata": {},
   "outputs": [],
   "source": [
    "#Step 2\n",
    "from h2o.estimators.glm import H2OGeneralizedLinearEstimator\n",
    "from h2o.estimators.random_forest import H2ORandomForestEstimator\n",
    "from h2o.estimators.gbm import H2OGradientBoostingEstimator\n",
    "from h2o.estimators.deeplearning import H2ODeepLearningEstimator\n",
    "from h2o.estimators.stackedensemble import H2OStackedEnsembleEstimator"
   ]
  },
  {
   "cell_type": "code",
   "execution_count": 116,
   "metadata": {},
   "outputs": [
    {
     "name": "stdout",
     "output_type": "stream",
     "text": [
      "gbm Model Build progress: |███████████████████████████████████████████████| 100%\n"
     ]
    }
   ],
   "source": [
    "gbm = H2OGradientBoostingEstimator(model_id = \"defaults\",\n",
    "                                  ntrees = 35,\n",
    "                                  max_depth = 25,\n",
    "                                  sample_rate = 0.3,    # Row sample rate\n",
    "                                  nfolds = nfolds,\n",
    "                                  fold_assignment = \"Modulo\",\n",
    "                                  keep_cross_validation_predictions = True,\n",
    "                                  seed = 136,\n",
    "                                 )\n",
    "gbm.train(x, y, train)"
   ]
  },
  {
   "cell_type": "code",
   "execution_count": 117,
   "metadata": {},
   "outputs": [
    {
     "name": "stdout",
     "output_type": "stream",
     "text": [
      "drf Model Build progress: |███████████████████████████████████████████████| 100%\n"
     ]
    }
   ],
   "source": [
    "mRF = H2ORandomForestEstimator(model_id = \"rf1\",\n",
    "                               ntrees = 50,\n",
    "                               max_depth = 20,\n",
    "                               sample_rate = 0.3,               # Row sample rate\n",
    "                               nfolds = nfolds,\n",
    "                               fold_assignment = \"Modulo\",\n",
    "                               keep_cross_validation_predictions = True,\n",
    "                               seed = 126\n",
    "                                 )\n",
    "mRF.train(x, y, train)"
   ]
  },
  {
   "cell_type": "code",
   "execution_count": 118,
   "metadata": {},
   "outputs": [
    {
     "name": "stdout",
     "output_type": "stream",
     "text": [
      "deeplearning Model Build progress: |██████████████████████████████████████| 100%\n",
      "CPU times: user 1.21 s, sys: 89.9 ms, total: 1.3 s\n",
      "Wall time: 2min 41s\n"
     ]
    }
   ],
   "source": [
    "dl = H2ODeepLearningEstimator(model_id = \"deep_learning_model\",\n",
    "                              epochs = 20,\n",
    "                              stopping_rounds = 6,\n",
    "                              stopping_tolerance = 0.01,\n",
    "                              stopping_metric = \"RMSE\",\n",
    "                              mini_batch_size = 1,\n",
    "                              hidden = [120,120],\n",
    "                              l1=1e-5,                        ## add some L1/L2 regularization\n",
    "                              #l2=1e-5,\n",
    "                              max_w2=10.0,\n",
    "                              nfolds = nfolds,\n",
    "                              fold_assignment = \"Modulo\",\n",
    "                              keep_cross_validation_predictions = True,\n",
    "                              seed = 134,\n",
    "                              reproducible = True,\n",
    "                                      )\n",
    "\n",
    "get_ipython().run_line_magic('time', 'dl.train(x, y, train)')"
   ]
  },
  {
   "cell_type": "code",
   "execution_count": 122,
   "metadata": {},
   "outputs": [
    {
     "name": "stdout",
     "output_type": "stream",
     "text": [
      "glm Model Build progress: |███████████████████████████████████████████████| 100%\n"
     ]
    }
   ],
   "source": [
    "glm = H2OGeneralizedLinearEstimator(\n",
    "    family = \"gaussian\",\n",
    "    model_id = \"glm\",\n",
    "    nfolds = nfolds,\n",
    "    fold_assignment = \"Modulo\",\n",
    "    keep_cross_validation_predictions = True\n",
    ")\n",
    "glm.train(x,y,train)"
   ]
  },
  {
   "cell_type": "code",
   "execution_count": 124,
   "metadata": {},
   "outputs": [
    {
     "name": "stdout",
     "output_type": "stream",
     "text": [
      "Cross-Validation Metrics Summary: \n"
     ]
    },
    {
     "data": {
      "text/html": [
       "<div style=\"overflow:auto\"><table style=\"width:50%\"><tr><td><b></b></td>\n",
       "<td><b>mean</b></td>\n",
       "<td><b>sd</b></td>\n",
       "<td><b>cv_1_valid</b></td>\n",
       "<td><b>cv_2_valid</b></td>\n",
       "<td><b>cv_3_valid</b></td>\n",
       "<td><b>cv_4_valid</b></td>\n",
       "<td><b>cv_5_valid</b></td></tr>\n",
       "<tr><td>mae</td>\n",
       "<td>73602.84</td>\n",
       "<td>1106.315</td>\n",
       "<td>74127.58</td>\n",
       "<td>75437.22</td>\n",
       "<td>74461.91</td>\n",
       "<td>73151.94</td>\n",
       "<td>70835.586</td></tr>\n",
       "<tr><td>mean_residual_deviance</td>\n",
       "<td>20721367000.0000000</td>\n",
       "<td>1696253440.0000000</td>\n",
       "<td>20515518500.0000000</td>\n",
       "<td>24507314200.0000000</td>\n",
       "<td>20553021400.0000000</td>\n",
       "<td>21082931200.0000000</td>\n",
       "<td>16948049900.0000000</td></tr>\n",
       "<tr><td>mse</td>\n",
       "<td>20721367000.0000000</td>\n",
       "<td>1696253440.0000000</td>\n",
       "<td>20515518500.0000000</td>\n",
       "<td>24507314200.0000000</td>\n",
       "<td>20553021400.0000000</td>\n",
       "<td>21082931200.0000000</td>\n",
       "<td>16948049900.0000000</td></tr>\n",
       "<tr><td>r2</td>\n",
       "<td>0.8469518</td>\n",
       "<td>0.0074185</td>\n",
       "<td>0.8494607</td>\n",
       "<td>0.8307338</td>\n",
       "<td>0.8470674</td>\n",
       "<td>0.8440375</td>\n",
       "<td>0.8634597</td></tr>\n",
       "<tr><td>residual_deviance</td>\n",
       "<td>20721367000.0000000</td>\n",
       "<td>1696253440.0000000</td>\n",
       "<td>20515518500.0000000</td>\n",
       "<td>24507314200.0000000</td>\n",
       "<td>20553021400.0000000</td>\n",
       "<td>21082931200.0000000</td>\n",
       "<td>16948049900.0000000</td></tr>\n",
       "<tr><td>rmse</td>\n",
       "<td>143705.61</td>\n",
       "<td>5918.7744</td>\n",
       "<td>143232.39</td>\n",
       "<td>156548.12</td>\n",
       "<td>143363.25</td>\n",
       "<td>145199.62</td>\n",
       "<td>130184.68</td></tr>\n",
       "<tr><td>rmsle</td>\n",
       "<td>0.1843248</td>\n",
       "<td>0.0019484</td>\n",
       "<td>0.1864113</td>\n",
       "<td>0.1873549</td>\n",
       "<td>0.1809076</td>\n",
       "<td>0.1858526</td>\n",
       "<td>0.1810976</td></tr></table></div>"
      ],
      "text/plain": [
       "                        mean         sd           cv_1_valid    cv_2_valid    cv_3_valid    cv_4_valid    cv_5_valid\n",
       "----------------------  -----------  -----------  ------------  ------------  ------------  ------------  ------------\n",
       "mae                     73602.8      1106.32      74127.6       75437.2       74461.9       73151.9       70835.6\n",
       "mean_residual_deviance  2.07214e+10  1.69625e+09  2.05155e+10   2.45073e+10   2.0553e+10    2.10829e+10   1.6948e+10\n",
       "mse                     2.07214e+10  1.69625e+09  2.05155e+10   2.45073e+10   2.0553e+10    2.10829e+10   1.6948e+10\n",
       "r2                      0.846952     0.00741845   0.849461      0.830734      0.847067      0.844038      0.86346\n",
       "residual_deviance       2.07214e+10  1.69625e+09  2.05155e+10   2.45073e+10   2.0553e+10    2.10829e+10   1.6948e+10\n",
       "rmse                    143706       5918.77      143232        156548        143363        145200        130185\n",
       "rmsle                   0.184325     0.00194836   0.186411      0.187355      0.180908      0.185853      0.181098"
      ]
     },
     "metadata": {},
     "output_type": "display_data"
    },
    {
     "name": "stdout",
     "output_type": "stream",
     "text": [
      "\n",
      "Cross-Validation Metrics Summary: \n"
     ]
    },
    {
     "data": {
      "text/html": [
       "<div style=\"overflow:auto\"><table style=\"width:50%\"><tr><td><b></b></td>\n",
       "<td><b>mean</b></td>\n",
       "<td><b>sd</b></td>\n",
       "<td><b>cv_1_valid</b></td>\n",
       "<td><b>cv_2_valid</b></td>\n",
       "<td><b>cv_3_valid</b></td>\n",
       "<td><b>cv_4_valid</b></td>\n",
       "<td><b>cv_5_valid</b></td></tr>\n",
       "<tr><td>mae</td>\n",
       "<td>78013.98</td>\n",
       "<td>1172.4987</td>\n",
       "<td>79725.01</td>\n",
       "<td>79343.79</td>\n",
       "<td>78828.664</td>\n",
       "<td>76777.29</td>\n",
       "<td>75395.125</td></tr>\n",
       "<tr><td>mean_residual_deviance</td>\n",
       "<td>22454222800.0000000</td>\n",
       "<td>1661635710.0000000</td>\n",
       "<td>22124359700.0000000</td>\n",
       "<td>26004561900.0000000</td>\n",
       "<td>23319773200.0000000</td>\n",
       "<td>22114091000.0000000</td>\n",
       "<td>18708326400.0000000</td></tr>\n",
       "<tr><td>mse</td>\n",
       "<td>22454222800.0000000</td>\n",
       "<td>1661635710.0000000</td>\n",
       "<td>22124359700.0000000</td>\n",
       "<td>26004561900.0000000</td>\n",
       "<td>23319773200.0000000</td>\n",
       "<td>22114091000.0000000</td>\n",
       "<td>18708326400.0000000</td></tr>\n",
       "<tr><td>r2</td>\n",
       "<td>0.8340432</td>\n",
       "<td>0.0070306</td>\n",
       "<td>0.8376552</td>\n",
       "<td>0.8203927</td>\n",
       "<td>0.8264803</td>\n",
       "<td>0.8364094</td>\n",
       "<td>0.8492783</td></tr>\n",
       "<tr><td>residual_deviance</td>\n",
       "<td>22454222800.0000000</td>\n",
       "<td>1661635710.0000000</td>\n",
       "<td>22124359700.0000000</td>\n",
       "<td>26004561900.0000000</td>\n",
       "<td>23319773200.0000000</td>\n",
       "<td>22114091000.0000000</td>\n",
       "<td>18708326400.0000000</td></tr>\n",
       "<tr><td>rmse</td>\n",
       "<td>149639.3</td>\n",
       "<td>5581.3677</td>\n",
       "<td>148742.6</td>\n",
       "<td>161259.3</td>\n",
       "<td>152708.12</td>\n",
       "<td>148708.08</td>\n",
       "<td>136778.39</td></tr>\n",
       "<tr><td>rmsle</td>\n",
       "<td>0.1930331</td>\n",
       "<td>0.0022941</td>\n",
       "<td>0.1983602</td>\n",
       "<td>0.1949464</td>\n",
       "<td>0.1910107</td>\n",
       "<td>0.1916251</td>\n",
       "<td>0.1892230</td></tr></table></div>"
      ],
      "text/plain": [
       "                        mean         sd           cv_1_valid    cv_2_valid    cv_3_valid    cv_4_valid    cv_5_valid\n",
       "----------------------  -----------  -----------  ------------  ------------  ------------  ------------  ------------\n",
       "mae                     78014        1172.5       79725         79343.8       78828.7       76777.3       75395.1\n",
       "mean_residual_deviance  2.24542e+10  1.66164e+09  2.21244e+10   2.60046e+10   2.33198e+10   2.21141e+10   1.87083e+10\n",
       "mse                     2.24542e+10  1.66164e+09  2.21244e+10   2.60046e+10   2.33198e+10   2.21141e+10   1.87083e+10\n",
       "r2                      0.834043     0.00703056   0.837655      0.820393      0.82648       0.836409      0.849278\n",
       "residual_deviance       2.24542e+10  1.66164e+09  2.21244e+10   2.60046e+10   2.33198e+10   2.21141e+10   1.87083e+10\n",
       "rmse                    149639       5581.37      148743        161259        152708        148708        136778\n",
       "rmsle                   0.193033     0.00229407   0.19836       0.194946      0.191011      0.191625      0.189223"
      ]
     },
     "metadata": {},
     "output_type": "display_data"
    },
    {
     "name": "stdout",
     "output_type": "stream",
     "text": [
      "\n",
      "\n",
      "ModelMetricsRegression: deeplearning\n",
      "** Reported on test data. **\n",
      "\n",
      "MSE: 23805919832.516533\n",
      "RMSE: 154291.67129990048\n",
      "MAE: 79835.57941444199\n",
      "RMSLE: 0.19149892106359542\n",
      "Mean Residual Deviance: 23805919832.516533\n",
      "\n",
      "Cross-Validation Metrics Summary: \n"
     ]
    },
    {
     "data": {
      "text/html": [
       "<div style=\"overflow:auto\"><table style=\"width:50%\"><tr><td><b></b></td>\n",
       "<td><b>mean</b></td>\n",
       "<td><b>sd</b></td>\n",
       "<td><b>cv_1_valid</b></td>\n",
       "<td><b>cv_2_valid</b></td>\n",
       "<td><b>cv_3_valid</b></td>\n",
       "<td><b>cv_4_valid</b></td>\n",
       "<td><b>cv_5_valid</b></td></tr>\n",
       "<tr><td>mae</td>\n",
       "<td>231489.55</td>\n",
       "<td>714.1845</td>\n",
       "<td>230672.53</td>\n",
       "<td>232409.17</td>\n",
       "<td>229933.8</td>\n",
       "<td>231980.33</td>\n",
       "<td>232451.92</td></tr>\n",
       "<tr><td>mean_residual_deviance</td>\n",
       "<td>133201682000.0000000</td>\n",
       "<td>4601492000.0000000</td>\n",
       "<td>134419890000.0000000</td>\n",
       "<td>142915158000.0000000</td>\n",
       "<td>132790010000.0000000</td>\n",
       "<td>133436998000.0000000</td>\n",
       "<td>122446373000.0000000</td></tr>\n",
       "<tr><td>mse</td>\n",
       "<td>133201682000.0000000</td>\n",
       "<td>4601492000.0000000</td>\n",
       "<td>134419890000.0000000</td>\n",
       "<td>142915158000.0000000</td>\n",
       "<td>132790010000.0000000</td>\n",
       "<td>133436998000.0000000</td>\n",
       "<td>122446373000.0000000</td></tr>\n",
       "<tr><td>null_deviance</td>\n",
       "<td>525455325000000.0000000</td>\n",
       "<td>18083454400000.0000000</td>\n",
       "<td>530561840000000.0000000</td>\n",
       "<td>563680700000000.0000000</td>\n",
       "<td>523549568000000.0000000</td>\n",
       "<td>526203388000000.0000000</td>\n",
       "<td>483281095000000.0000000</td></tr>\n",
       "<tr><td>r2</td>\n",
       "<td>0.0129815</td>\n",
       "<td>0.0004323</td>\n",
       "<td>0.0136501</td>\n",
       "<td>0.0129191</td>\n",
       "<td>0.0119249</td>\n",
       "<td>0.0128905</td>\n",
       "<td>0.0135230</td></tr>\n",
       "<tr><td>residual_deviance</td>\n",
       "<td>518476439000000.0000000</td>\n",
       "<td>17942766900000.0000000</td>\n",
       "<td>523296634000000.0000000</td>\n",
       "<td>556368755000000.0000000</td>\n",
       "<td>516818716000000.0000000</td>\n",
       "<td>519336775000000.0000000</td>\n",
       "<td>476561283000000.0000000</td></tr>\n",
       "<tr><td>rmse</td>\n",
       "<td>364858.34</td>\n",
       "<td>6327.596</td>\n",
       "<td>366633.2</td>\n",
       "<td>378041.22</td>\n",
       "<td>364403.62</td>\n",
       "<td>365290.28</td>\n",
       "<td>349923.38</td></tr>\n",
       "<tr><td>rmsle</td>\n",
       "<td>0.5425506</td>\n",
       "<td>0.0047291</td>\n",
       "<td>0.5462353</td>\n",
       "<td>0.5423733</td>\n",
       "<td>0.5309989</td>\n",
       "<td>0.5418696</td>\n",
       "<td>0.5512759</td></tr></table></div>"
      ],
      "text/plain": [
       "                        mean         sd           cv_1_valid    cv_2_valid    cv_3_valid    cv_4_valid    cv_5_valid\n",
       "----------------------  -----------  -----------  ------------  ------------  ------------  ------------  ------------\n",
       "mae                     231490       714.184      230673        232409        229934        231980        232452\n",
       "mean_residual_deviance  1.33202e+11  4.60149e+09  1.3442e+11    1.42915e+11   1.3279e+11    1.33437e+11   1.22446e+11\n",
       "mse                     1.33202e+11  4.60149e+09  1.3442e+11    1.42915e+11   1.3279e+11    1.33437e+11   1.22446e+11\n",
       "null_deviance           5.25455e+14  1.80835e+13  5.30562e+14   5.63681e+14   5.2355e+14    5.26203e+14   4.83281e+14\n",
       "r2                      0.0129815    0.000432317  0.0136501     0.0129191     0.0119249     0.0128905     0.013523\n",
       "residual_deviance       5.18476e+14  1.79428e+13  5.23297e+14   5.56369e+14   5.16819e+14   5.19337e+14   4.76561e+14\n",
       "rmse                    364858       6327.6       366633        378041        364404        365290        349923\n",
       "rmsle                   0.542551     0.0047291    0.546235      0.542373      0.530999      0.54187       0.551276"
      ]
     },
     "metadata": {},
     "output_type": "display_data"
    },
    {
     "name": "stdout",
     "output_type": "stream",
     "text": [
      "\n"
     ]
    }
   ],
   "source": [
    "print(gbm.cross_validation_metrics_summary())\n",
    "print(mRF.cross_validation_metrics_summary()) \n",
    "perf3 = dl.model_performance(test) \n",
    "print(perf3)\n",
    "print(glm.cross_validation_metrics_summary())"
   ]
  },
  {
   "cell_type": "code",
   "execution_count": 125,
   "metadata": {},
   "outputs": [],
   "source": [
    "model_id = [gbm.model_id,mRF.model_id,dl.model_id,glm.model_id]"
   ]
  },
  {
   "cell_type": "code",
   "execution_count": 126,
   "metadata": {},
   "outputs": [],
   "source": [
    "Stacked_Ensemble_m = H2OStackedEnsembleEstimator(model_id = \"stacked_ens\",\n",
    "                                   base_models=model_id, seed = 145)"
   ]
  },
  {
   "cell_type": "code",
   "execution_count": 127,
   "metadata": {},
   "outputs": [
    {
     "name": "stdout",
     "output_type": "stream",
     "text": [
      "stackedensemble Model Build progress: |███████████████████████████████████| 100%\n"
     ]
    }
   ],
   "source": [
    "Stacked_Ensemble_m.train(x, y, train)"
   ]
  },
  {
   "cell_type": "code",
   "execution_count": 128,
   "metadata": {},
   "outputs": [
    {
     "name": "stdout",
     "output_type": "stream",
     "text": [
      "363912.8859495228\n"
     ]
    }
   ],
   "source": [
    "print(Stacked_Ensemble_m.rmse())"
   ]
  },
  {
   "cell_type": "code",
   "execution_count": 132,
   "metadata": {},
   "outputs": [],
   "source": [
    "SE_path = h2o.save_model(model=Stacked_Ensemble_m)"
   ]
  },
  {
   "cell_type": "code",
   "execution_count": null,
   "metadata": {},
   "outputs": [],
   "source": []
  }
 ],
 "metadata": {
  "kernelspec": {
   "display_name": "Python 3",
   "language": "python",
   "name": "python3"
  },
  "language_info": {
   "codemirror_mode": {
    "name": "ipython",
    "version": 3
   },
   "file_extension": ".py",
   "mimetype": "text/x-python",
   "name": "python",
   "nbconvert_exporter": "python",
   "pygments_lexer": "ipython3",
   "version": "3.6.7"
  }
 },
 "nbformat": 4,
 "nbformat_minor": 2
}
