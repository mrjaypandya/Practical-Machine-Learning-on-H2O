{
 "cells": [
  {
   "cell_type": "code",
   "execution_count": 3,
   "metadata": {},
   "outputs": [],
   "source": [
    "%matplotlib inline\n",
    "import h2o\n",
    "import h2o.grid"
   ]
  },
  {
   "cell_type": "code",
   "execution_count": 4,
   "metadata": {},
   "outputs": [
    {
     "name": "stdout",
     "output_type": "stream",
     "text": [
      "Checking whether there is an H2O instance running at http://localhost:54321. connected.\n"
     ]
    },
    {
     "data": {
      "text/html": [
       "<div style=\"overflow:auto\"><table style=\"width:50%\"><tr><td>H2O cluster uptime:</td>\n",
       "<td>3 hours 49 mins</td></tr>\n",
       "<tr><td>H2O cluster timezone:</td>\n",
       "<td>Asia/Kolkata</td></tr>\n",
       "<tr><td>H2O data parsing timezone:</td>\n",
       "<td>UTC</td></tr>\n",
       "<tr><td>H2O cluster version:</td>\n",
       "<td>3.22.1.2</td></tr>\n",
       "<tr><td>H2O cluster version age:</td>\n",
       "<td>24 days </td></tr>\n",
       "<tr><td>H2O cluster name:</td>\n",
       "<td>H2O_started_from_R_jay_lkj507</td></tr>\n",
       "<tr><td>H2O cluster total nodes:</td>\n",
       "<td>1</td></tr>\n",
       "<tr><td>H2O cluster free memory:</td>\n",
       "<td>1.425 Gb</td></tr>\n",
       "<tr><td>H2O cluster total cores:</td>\n",
       "<td>4</td></tr>\n",
       "<tr><td>H2O cluster allowed cores:</td>\n",
       "<td>4</td></tr>\n",
       "<tr><td>H2O cluster status:</td>\n",
       "<td>locked, healthy</td></tr>\n",
       "<tr><td>H2O connection url:</td>\n",
       "<td>http://localhost:54321</td></tr>\n",
       "<tr><td>H2O connection proxy:</td>\n",
       "<td>None</td></tr>\n",
       "<tr><td>H2O internal security:</td>\n",
       "<td>False</td></tr>\n",
       "<tr><td>H2O API Extensions:</td>\n",
       "<td>XGBoost, Algos, AutoML, Core V3, Core V4</td></tr>\n",
       "<tr><td>Python version:</td>\n",
       "<td>3.6.8 final</td></tr></table></div>"
      ],
      "text/plain": [
       "--------------------------  ----------------------------------------\n",
       "H2O cluster uptime:         3 hours 49 mins\n",
       "H2O cluster timezone:       Asia/Kolkata\n",
       "H2O data parsing timezone:  UTC\n",
       "H2O cluster version:        3.22.1.2\n",
       "H2O cluster version age:    24 days\n",
       "H2O cluster name:           H2O_started_from_R_jay_lkj507\n",
       "H2O cluster total nodes:    1\n",
       "H2O cluster free memory:    1.425 Gb\n",
       "H2O cluster total cores:    4\n",
       "H2O cluster allowed cores:  4\n",
       "H2O cluster status:         locked, healthy\n",
       "H2O connection url:         http://localhost:54321\n",
       "H2O connection proxy:\n",
       "H2O internal security:      False\n",
       "H2O API Extensions:         XGBoost, Algos, AutoML, Core V3, Core V4\n",
       "Python version:             3.6.8 final\n",
       "--------------------------  ----------------------------------------"
      ]
     },
     "metadata": {},
     "output_type": "display_data"
    }
   ],
   "source": [
    "h2o.init()"
   ]
  },
  {
   "cell_type": "code",
   "execution_count": 5,
   "metadata": {},
   "outputs": [
    {
     "name": "stdout",
     "output_type": "stream",
     "text": [
      "Parse progress: |█████████████████████████████████████████████████████████| 100%\n"
     ]
    }
   ],
   "source": [
    "data = h2o.import_file(\"http://h2o-public-test-data.s3.amazonaws.com/smalldata/airlines/allyears2k_headers.zip\")\n",
    "train, valid, test = data.split_frame([0.8,0.1],seed = 69)"
   ]
  },
  {
   "cell_type": "code",
   "execution_count": 6,
   "metadata": {},
   "outputs": [
    {
     "name": "stdout",
     "output_type": "stream",
     "text": [
      "35255 4272 4451\n"
     ]
    }
   ],
   "source": [
    "print(\"%d %d %d\"% (train.nrows,valid.nrows, test.nrows))"
   ]
  },
  {
   "cell_type": "code",
   "execution_count": 12,
   "metadata": {},
   "outputs": [],
   "source": [
    "y = \"IsArrDelayed\"\n",
    "ignoreFields = [\n",
    "    \"ArrDelay\",\"DepDelay\",\"CarrierDelay\",\n",
    "    \"WeatherDelay\",\"NASDelay\",\"SecurityDelay\",\n",
    "    \"LateAircraftDelay\",\"IsDepDelayed\",\"IsArrDelayed\",\"ActualElapsedTime\"] #But CRSElapsedTime is fine.\n",
    "xAll = [i for i in train.names if i not in ignoreFields]\n",
    "xLikely = [\"Month\",\"DayOfWeek\",\"UniqueCarrier\",\"Origin\",\"Dest\",\"Distance\",\"Cancelled\",\"Diverted\"]"
   ]
  },
  {
   "cell_type": "code",
   "execution_count": 13,
   "metadata": {},
   "outputs": [],
   "source": [
    "from h2o.estimators.glm import H2OGeneralizedLinearEstimator"
   ]
  },
  {
   "cell_type": "code",
   "execution_count": 14,
   "metadata": {},
   "outputs": [
    {
     "name": "stdout",
     "output_type": "stream",
     "text": [
      "glm Model Build progress: |███████████████████████████████████████████████| 100%\n"
     ]
    }
   ],
   "source": [
    "m_def = H2OGeneralizedLinearEstimator(family = \"binomial\")\n",
    "m_def.train(xAll, y ,train,validation_frame = valid)"
   ]
  },
  {
   "cell_type": "code",
   "execution_count": 15,
   "metadata": {},
   "outputs": [
    {
     "data": {
      "text/plain": [
       "0.6233229932181956"
      ]
     },
     "execution_count": 15,
     "metadata": {},
     "output_type": "execute_result"
    }
   ],
   "source": [
    "m_def.logloss(valid=True)"
   ]
  },
  {
   "cell_type": "code",
   "execution_count": null,
   "metadata": {},
   "outputs": [],
   "source": []
  },
  {
   "cell_type": "code",
   "execution_count": 18,
   "metadata": {},
   "outputs": [
    {
     "name": "stdout",
     "output_type": "stream",
     "text": [
      "glm Grid Build progress: |████████████████████████████████████████████████| 100%\n"
     ]
    }
   ],
   "source": [
    "g = h2o.grid.H2OGridSearch(\n",
    "    H2OGeneralizedLinearEstimator(family = \"binomial\",lambda_search = True),\n",
    "    hyper_params = {\"alpha\":[x*0.01 for x in range(0,100)],},\n",
    "    search_criteria = {\"strategy\":\"RandomDiscrete\",\"max_models\":8,\"max_runtime_secs\":30}\n",
    "    )\n",
    "g.train(xAll, y, train, validation_frame = valid)"
   ]
  },
  {
   "cell_type": "code",
   "execution_count": 19,
   "metadata": {},
   "outputs": [
    {
     "name": "stdout",
     "output_type": "stream",
     "text": [
      "      alpha                                                     model_ids  \\\n",
      "0    [0.79]  Grid_GLM_py_3_sid_b5be_model_python_1549955582989_44_model_5   \n",
      "1    [0.76]  Grid_GLM_py_3_sid_b5be_model_python_1549955582989_44_model_7   \n",
      "2     [0.5]  Grid_GLM_py_3_sid_b5be_model_python_1549955582989_44_model_1   \n",
      "3    [0.39]  Grid_GLM_py_3_sid_b5be_model_python_1549955582989_44_model_3   \n",
      "4    [0.36]  Grid_GLM_py_3_sid_b5be_model_python_1549955582989_44_model_4   \n",
      "5    [0.16]  Grid_GLM_py_3_sid_b5be_model_python_1549955582989_44_model_6   \n",
      "6    [0.15]  Grid_GLM_py_3_sid_b5be_model_python_1549955582989_44_model_8   \n",
      "7    [0.12]  Grid_GLM_py_3_sid_b5be_model_python_1549955582989_44_model_2   \n",
      "\n",
      "              logloss  \n",
      "0  0.5922322635457088  \n",
      "1  0.5925181373661924  \n",
      "2  0.5956342688595108  \n",
      "3  0.5975277835129581  \n",
      "4  0.5981311828643383  \n",
      "5  0.6044552100697651  \n",
      "6  0.6049789384982383  \n",
      "7  0.6068366384328852  \n"
     ]
    },
    {
     "data": {
      "text/plain": []
     },
     "execution_count": 19,
     "metadata": {},
     "output_type": "execute_result"
    }
   ],
   "source": [
    "g"
   ]
  },
  {
   "cell_type": "code",
   "execution_count": 20,
   "metadata": {},
   "outputs": [
    {
     "name": "stdout",
     "output_type": "stream",
     "text": [
      "glm Grid Build progress: |████████████████████████████████████████████████| 100%\n"
     ]
    }
   ],
   "source": [
    "g2 = h2o.grid.H2OGridSearch(\n",
    "    H2OGeneralizedLinearEstimator(family = \"binomial\",lambda_search = True),\n",
    "    hyper_params = {\"alpha\":[0, 0.2, 0.4, 0.5, 0.6, 0.8, 0.99],},\n",
    "    search_criteria = {\"strategy\":\"Cartesian\"}\n",
    "    )\n",
    "g2.train(xAll, y, train, validation_frame = valid)"
   ]
  },
  {
   "cell_type": "code",
   "execution_count": 21,
   "metadata": {},
   "outputs": [
    {
     "name": "stdout",
     "output_type": "stream",
     "text": [
      "      alpha                                                     model_ids  \\\n",
      "0     [0.0]  Grid_GLM_py_3_sid_b5be_model_python_1549955582989_61_model_1   \n",
      "1    [0.99]  Grid_GLM_py_3_sid_b5be_model_python_1549955582989_61_model_7   \n",
      "2     [0.8]  Grid_GLM_py_3_sid_b5be_model_python_1549955582989_61_model_6   \n",
      "3     [0.6]  Grid_GLM_py_3_sid_b5be_model_python_1549955582989_61_model_5   \n",
      "4     [0.5]  Grid_GLM_py_3_sid_b5be_model_python_1549955582989_61_model_4   \n",
      "5     [0.4]  Grid_GLM_py_3_sid_b5be_model_python_1549955582989_61_model_3   \n",
      "6     [0.2]  Grid_GLM_py_3_sid_b5be_model_python_1549955582989_61_model_2   \n",
      "\n",
      "              logloss  \n",
      "0  0.5868046385246171  \n",
      "1  0.5902213901830258  \n",
      "2  0.5921408527376583  \n",
      "3  0.5942641298879805  \n",
      "4  0.5956342688595108  \n",
      "5  0.5973390141600553  \n",
      "6   0.602665609207675  \n"
     ]
    },
    {
     "data": {
      "text/plain": []
     },
     "execution_count": 21,
     "metadata": {},
     "output_type": "execute_result"
    }
   ],
   "source": [
    "g2"
   ]
  },
  {
   "cell_type": "code",
   "execution_count": null,
   "metadata": {},
   "outputs": [],
   "source": []
  }
 ],
 "metadata": {
  "kernelspec": {
   "display_name": "Python 3",
   "language": "python",
   "name": "python3"
  },
  "language_info": {
   "codemirror_mode": {
    "name": "ipython",
    "version": 3
   },
   "file_extension": ".py",
   "mimetype": "text/x-python",
   "name": "python",
   "nbconvert_exporter": "python",
   "pygments_lexer": "ipython3",
   "version": "3.6.7"
  }
 },
 "nbformat": 4,
 "nbformat_minor": 2
}
