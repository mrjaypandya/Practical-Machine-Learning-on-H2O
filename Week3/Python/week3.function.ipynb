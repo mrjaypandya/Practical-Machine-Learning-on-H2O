{
 "cells": [
  {
   "cell_type": "code",
   "execution_count": 22,
   "metadata": {},
   "outputs": [],
   "source": [
    "%matplotlib inline\n",
    "import h2o"
   ]
  },
  {
   "cell_type": "code",
   "execution_count": 2,
   "metadata": {},
   "outputs": [
    {
     "name": "stdout",
     "output_type": "stream",
     "text": [
      "Checking whether there is an H2O instance running at http://localhost:54321. connected.\n"
     ]
    },
    {
     "data": {
      "text/html": [
       "<div style=\"overflow:auto\"><table style=\"width:50%\"><tr><td>H2O cluster uptime:</td>\n",
       "<td>1 hour 54 mins</td></tr>\n",
       "<tr><td>H2O cluster timezone:</td>\n",
       "<td>Asia/Kolkata</td></tr>\n",
       "<tr><td>H2O data parsing timezone:</td>\n",
       "<td>UTC</td></tr>\n",
       "<tr><td>H2O cluster version:</td>\n",
       "<td>3.22.1.2</td></tr>\n",
       "<tr><td>H2O cluster version age:</td>\n",
       "<td>24 days </td></tr>\n",
       "<tr><td>H2O cluster name:</td>\n",
       "<td>H2O_started_from_R_jay_lkj507</td></tr>\n",
       "<tr><td>H2O cluster total nodes:</td>\n",
       "<td>1</td></tr>\n",
       "<tr><td>H2O cluster free memory:</td>\n",
       "<td>1.439 Gb</td></tr>\n",
       "<tr><td>H2O cluster total cores:</td>\n",
       "<td>4</td></tr>\n",
       "<tr><td>H2O cluster allowed cores:</td>\n",
       "<td>4</td></tr>\n",
       "<tr><td>H2O cluster status:</td>\n",
       "<td>locked, healthy</td></tr>\n",
       "<tr><td>H2O connection url:</td>\n",
       "<td>http://localhost:54321</td></tr>\n",
       "<tr><td>H2O connection proxy:</td>\n",
       "<td>None</td></tr>\n",
       "<tr><td>H2O internal security:</td>\n",
       "<td>False</td></tr>\n",
       "<tr><td>H2O API Extensions:</td>\n",
       "<td>XGBoost, Algos, AutoML, Core V3, Core V4</td></tr>\n",
       "<tr><td>Python version:</td>\n",
       "<td>3.6.8 final</td></tr></table></div>"
      ],
      "text/plain": [
       "--------------------------  ----------------------------------------\n",
       "H2O cluster uptime:         1 hour 54 mins\n",
       "H2O cluster timezone:       Asia/Kolkata\n",
       "H2O data parsing timezone:  UTC\n",
       "H2O cluster version:        3.22.1.2\n",
       "H2O cluster version age:    24 days\n",
       "H2O cluster name:           H2O_started_from_R_jay_lkj507\n",
       "H2O cluster total nodes:    1\n",
       "H2O cluster free memory:    1.439 Gb\n",
       "H2O cluster total cores:    4\n",
       "H2O cluster allowed cores:  4\n",
       "H2O cluster status:         locked, healthy\n",
       "H2O connection url:         http://localhost:54321\n",
       "H2O connection proxy:\n",
       "H2O internal security:      False\n",
       "H2O API Extensions:         XGBoost, Algos, AutoML, Core V3, Core V4\n",
       "Python version:             3.6.8 final\n",
       "--------------------------  ----------------------------------------"
      ]
     },
     "metadata": {},
     "output_type": "display_data"
    }
   ],
   "source": [
    "h2o.init()"
   ]
  },
  {
   "cell_type": "code",
   "execution_count": 4,
   "metadata": {},
   "outputs": [
    {
     "name": "stdout",
     "output_type": "stream",
     "text": [
      "Parse progress: |█████████████████████████████████████████████████████████| 100%\n"
     ]
    }
   ],
   "source": [
    "data = h2o.import_file(\"http://h2o-public-test-data.s3.amazonaws.com/smalldata/airlines/allyears2k_headers.zip\")"
   ]
  },
  {
   "cell_type": "code",
   "execution_count": 11,
   "metadata": {},
   "outputs": [
    {
     "data": {
      "text/html": [
       "<table>\n",
       "<thead>\n",
       "<tr><th>       </th><th>Year              </th><th>Month             </th><th>DayofMonth        </th><th>DayOfWeek         </th><th>DepTime          </th><th>CRSDepTime        </th><th>ArrTime          </th><th>CRSArrTime        </th><th>UniqueCarrier  </th><th>FlightNum        </th><th>TailNum  </th><th>ActualElapsedTime  </th><th>CRSElapsedTime    </th><th>AirTime           </th><th>ArrDelay          </th><th>DepDelay          </th><th>Origin  </th><th>Dest  </th><th>Distance         </th><th>TaxiIn           </th><th>TaxiOut          </th><th>Cancelled           </th><th>CancellationCode  </th><th>Diverted             </th><th>CarrierDelay     </th><th>WeatherDelay      </th><th>NASDelay          </th><th>SecurityDelay     </th><th>LateAircraftDelay  </th><th>IsArrDelayed  </th><th>IsDepDelayed  </th></tr>\n",
       "</thead>\n",
       "<tbody>\n",
       "<tr><td>type   </td><td>int               </td><td>int               </td><td>int               </td><td>int               </td><td>int              </td><td>int               </td><td>int              </td><td>int               </td><td>enum           </td><td>int              </td><td>enum     </td><td>int                </td><td>int               </td><td>int               </td><td>int               </td><td>int               </td><td>enum    </td><td>enum  </td><td>int              </td><td>int              </td><td>int              </td><td>int                 </td><td>enum              </td><td>int                  </td><td>int              </td><td>int               </td><td>int               </td><td>int               </td><td>int                </td><td>enum          </td><td>enum          </td></tr>\n",
       "<tr><td>mins   </td><td>1987.0            </td><td>1.0               </td><td>1.0               </td><td>1.0               </td><td>1.0              </td><td>0.0               </td><td>1.0              </td><td>0.0               </td><td>               </td><td>1.0              </td><td>         </td><td>16.0               </td><td>17.0              </td><td>14.0              </td><td>-63.0             </td><td>-16.0             </td><td>        </td><td>      </td><td>11.0             </td><td>0.0              </td><td>0.0              </td><td>0.0                 </td><td>                  </td><td>0.0                  </td><td>0.0              </td><td>0.0               </td><td>0.0               </td><td>0.0               </td><td>0.0                </td><td>              </td><td>              </td></tr>\n",
       "<tr><td>mean   </td><td>1997.5000000000068</td><td>1.409090909090916 </td><td>14.601073263904551</td><td>3.8206148528809845</td><td>1345.846661382077</td><td>1313.2228614307262</td><td>1504.634130378886</td><td>1485.2891673109345</td><td>               </td><td>818.8429896766576</td><td>         </td><td>124.8145291354039  </td><td>125.02156260661906</td><td>114.31611109078231</td><td>9.317111936984306 </td><td>10.007390655600112</td><td>        </td><td>      </td><td>730.1821905650557</td><td>5.381368059530588</td><td>14.16863418473208</td><td>0.024694165264450407</td><td>                  </td><td>0.0024785119832643593</td><td>4.047800291055639</td><td>0.2893764692712412</td><td>4.8550319041755365</td><td>0.0170155602821001</td><td>7.620060450016796  </td><td>              </td><td>              </td></tr>\n",
       "<tr><td>maxs   </td><td>2008.0            </td><td>10.0              </td><td>31.0              </td><td>7.0               </td><td>2400.0           </td><td>2359.0            </td><td>2400.0           </td><td>2359.0            </td><td>               </td><td>3949.0           </td><td>         </td><td>475.0              </td><td>437.0             </td><td>402.0             </td><td>475.0             </td><td>473.0             </td><td>        </td><td>      </td><td>3365.0           </td><td>128.0            </td><td>254.0            </td><td>1.0                 </td><td>                  </td><td>1.0                  </td><td>369.0            </td><td>201.0             </td><td>323.0             </td><td>14.0              </td><td>373.0              </td><td>              </td><td>              </td></tr>\n",
       "<tr><td>sigma  </td><td>6.344360901707349 </td><td>1.8747113713439618</td><td>9.175790425861413 </td><td>1.9050131191329014</td><td>465.3408991242322</td><td>476.2511399926005 </td><td>484.3474879035152</td><td>492.75043412270105</td><td>               </td><td>777.4043691636341</td><td>         </td><td>73.97444166059017  </td><td>73.40159463000951 </td><td>69.6363295150612  </td><td>29.840221962414837</td><td>26.438809042916418</td><td>        </td><td>      </td><td>578.4380082304235</td><td>4.201979939864826</td><td>9.905085747204279</td><td>0.15519314135784237 </td><td>                  </td><td>0.049723487218862286 </td><td>16.2057299044842 </td><td>4.416779898734125 </td><td>18.619776221475654</td><td>0.403940182101512 </td><td>23.48756587410621  </td><td>              </td><td>              </td></tr>\n",
       "<tr><td>zeros  </td><td>0                 </td><td>0                 </td><td>0                 </td><td>0                 </td><td>0                </td><td>569               </td><td>0                </td><td>569               </td><td>               </td><td>0                </td><td>         </td><td>0                  </td><td>0                 </td><td>0                 </td><td>1514              </td><td>6393              </td><td>        </td><td>      </td><td>0                </td><td>623              </td><td>557              </td><td>42892               </td><td>                  </td><td>43869                </td><td>7344             </td><td>8840              </td><td>7388              </td><td>8914              </td><td>7140               </td><td>              </td><td>              </td></tr>\n",
       "<tr><td>missing</td><td>0                 </td><td>0                 </td><td>0                 </td><td>0                 </td><td>1086             </td><td>0                 </td><td>1195             </td><td>0                 </td><td>0              </td><td>0                </td><td>32       </td><td>1195               </td><td>13                </td><td>16649             </td><td>1195              </td><td>1086              </td><td>0       </td><td>0     </td><td>35               </td><td>16026            </td><td>16024            </td><td>0                   </td><td>9774              </td><td>0                    </td><td>35045            </td><td>35045             </td><td>35045             </td><td>35045             </td><td>35045              </td><td>0             </td><td>0             </td></tr>\n",
       "<tr><td>0      </td><td>1987.0            </td><td>10.0              </td><td>14.0              </td><td>3.0               </td><td>741.0            </td><td>730.0             </td><td>912.0            </td><td>849.0             </td><td>PS             </td><td>1451.0           </td><td>NA       </td><td>91.0               </td><td>79.0              </td><td>nan               </td><td>23.0              </td><td>11.0              </td><td>SAN     </td><td>SFO   </td><td>447.0            </td><td>nan              </td><td>nan              </td><td>0.0                 </td><td>NA                </td><td>0.0                  </td><td>nan              </td><td>nan               </td><td>nan               </td><td>nan               </td><td>nan                </td><td>YES           </td><td>YES           </td></tr>\n",
       "<tr><td>1      </td><td>1987.0            </td><td>10.0              </td><td>15.0              </td><td>4.0               </td><td>729.0            </td><td>730.0             </td><td>903.0            </td><td>849.0             </td><td>PS             </td><td>1451.0           </td><td>NA       </td><td>94.0               </td><td>79.0              </td><td>nan               </td><td>14.0              </td><td>-1.0              </td><td>SAN     </td><td>SFO   </td><td>447.0            </td><td>nan              </td><td>nan              </td><td>0.0                 </td><td>NA                </td><td>0.0                  </td><td>nan              </td><td>nan               </td><td>nan               </td><td>nan               </td><td>nan                </td><td>YES           </td><td>NO            </td></tr>\n",
       "<tr><td>2      </td><td>1987.0            </td><td>10.0              </td><td>17.0              </td><td>6.0               </td><td>741.0            </td><td>730.0             </td><td>918.0            </td><td>849.0             </td><td>PS             </td><td>1451.0           </td><td>NA       </td><td>97.0               </td><td>79.0              </td><td>nan               </td><td>29.0              </td><td>11.0              </td><td>SAN     </td><td>SFO   </td><td>447.0            </td><td>nan              </td><td>nan              </td><td>0.0                 </td><td>NA                </td><td>0.0                  </td><td>nan              </td><td>nan               </td><td>nan               </td><td>nan               </td><td>nan                </td><td>YES           </td><td>YES           </td></tr>\n",
       "<tr><td>3      </td><td>1987.0            </td><td>10.0              </td><td>18.0              </td><td>7.0               </td><td>729.0            </td><td>730.0             </td><td>847.0            </td><td>849.0             </td><td>PS             </td><td>1451.0           </td><td>NA       </td><td>78.0               </td><td>79.0              </td><td>nan               </td><td>-2.0              </td><td>-1.0              </td><td>SAN     </td><td>SFO   </td><td>447.0            </td><td>nan              </td><td>nan              </td><td>0.0                 </td><td>NA                </td><td>0.0                  </td><td>nan              </td><td>nan               </td><td>nan               </td><td>nan               </td><td>nan                </td><td>NO            </td><td>NO            </td></tr>\n",
       "<tr><td>4      </td><td>1987.0            </td><td>10.0              </td><td>19.0              </td><td>1.0               </td><td>749.0            </td><td>730.0             </td><td>922.0            </td><td>849.0             </td><td>PS             </td><td>1451.0           </td><td>NA       </td><td>93.0               </td><td>79.0              </td><td>nan               </td><td>33.0              </td><td>19.0              </td><td>SAN     </td><td>SFO   </td><td>447.0            </td><td>nan              </td><td>nan              </td><td>0.0                 </td><td>NA                </td><td>0.0                  </td><td>nan              </td><td>nan               </td><td>nan               </td><td>nan               </td><td>nan                </td><td>YES           </td><td>YES           </td></tr>\n",
       "<tr><td>5      </td><td>1987.0            </td><td>10.0              </td><td>21.0              </td><td>3.0               </td><td>728.0            </td><td>730.0             </td><td>848.0            </td><td>849.0             </td><td>PS             </td><td>1451.0           </td><td>NA       </td><td>80.0               </td><td>79.0              </td><td>nan               </td><td>-1.0              </td><td>-2.0              </td><td>SAN     </td><td>SFO   </td><td>447.0            </td><td>nan              </td><td>nan              </td><td>0.0                 </td><td>NA                </td><td>0.0                  </td><td>nan              </td><td>nan               </td><td>nan               </td><td>nan               </td><td>nan                </td><td>NO            </td><td>NO            </td></tr>\n",
       "<tr><td>6      </td><td>1987.0            </td><td>10.0              </td><td>22.0              </td><td>4.0               </td><td>728.0            </td><td>730.0             </td><td>852.0            </td><td>849.0             </td><td>PS             </td><td>1451.0           </td><td>NA       </td><td>84.0               </td><td>79.0              </td><td>nan               </td><td>3.0               </td><td>-2.0              </td><td>SAN     </td><td>SFO   </td><td>447.0            </td><td>nan              </td><td>nan              </td><td>0.0                 </td><td>NA                </td><td>0.0                  </td><td>nan              </td><td>nan               </td><td>nan               </td><td>nan               </td><td>nan                </td><td>YES           </td><td>NO            </td></tr>\n",
       "<tr><td>7      </td><td>1987.0            </td><td>10.0              </td><td>23.0              </td><td>5.0               </td><td>731.0            </td><td>730.0             </td><td>902.0            </td><td>849.0             </td><td>PS             </td><td>1451.0           </td><td>NA       </td><td>91.0               </td><td>79.0              </td><td>nan               </td><td>13.0              </td><td>1.0               </td><td>SAN     </td><td>SFO   </td><td>447.0            </td><td>nan              </td><td>nan              </td><td>0.0                 </td><td>NA                </td><td>0.0                  </td><td>nan              </td><td>nan               </td><td>nan               </td><td>nan               </td><td>nan                </td><td>YES           </td><td>YES           </td></tr>\n",
       "<tr><td>8      </td><td>1987.0            </td><td>10.0              </td><td>24.0              </td><td>6.0               </td><td>744.0            </td><td>730.0             </td><td>908.0            </td><td>849.0             </td><td>PS             </td><td>1451.0           </td><td>NA       </td><td>84.0               </td><td>79.0              </td><td>nan               </td><td>19.0              </td><td>14.0              </td><td>SAN     </td><td>SFO   </td><td>447.0            </td><td>nan              </td><td>nan              </td><td>0.0                 </td><td>NA                </td><td>0.0                  </td><td>nan              </td><td>nan               </td><td>nan               </td><td>nan               </td><td>nan                </td><td>YES           </td><td>YES           </td></tr>\n",
       "<tr><td>9      </td><td>1987.0            </td><td>10.0              </td><td>25.0              </td><td>7.0               </td><td>729.0            </td><td>730.0             </td><td>851.0            </td><td>849.0             </td><td>PS             </td><td>1451.0           </td><td>NA       </td><td>82.0               </td><td>79.0              </td><td>nan               </td><td>2.0               </td><td>-1.0              </td><td>SAN     </td><td>SFO   </td><td>447.0            </td><td>nan              </td><td>nan              </td><td>0.0                 </td><td>NA                </td><td>0.0                  </td><td>nan              </td><td>nan               </td><td>nan               </td><td>nan               </td><td>nan                </td><td>YES           </td><td>NO            </td></tr>\n",
       "</tbody>\n",
       "</table>"
      ]
     },
     "metadata": {},
     "output_type": "display_data"
    }
   ],
   "source": [
    "data.summary()"
   ]
  },
  {
   "cell_type": "code",
   "execution_count": 15,
   "metadata": {},
   "outputs": [
    {
     "data": {
      "text/plain": [
       "43978"
      ]
     },
     "execution_count": 15,
     "metadata": {},
     "output_type": "execute_result"
    }
   ],
   "source": [
    "data.nrows"
   ]
  },
  {
   "cell_type": "code",
   "execution_count": 16,
   "metadata": {},
   "outputs": [
    {
     "data": {
      "text/plain": [
       "[114.31611109078231]"
      ]
     },
     "execution_count": 16,
     "metadata": {},
     "output_type": "execute_result"
    }
   ],
   "source": [
    "\n",
    "data[:,\"AirTime\"].mean()"
   ]
  },
  {
   "cell_type": "code",
   "execution_count": 17,
   "metadata": {},
   "outputs": [
    {
     "data": {
      "text/html": [
       "<table>\n",
       "<thead>\n",
       "<tr><th>       </th><th>AirTime           </th></tr>\n",
       "</thead>\n",
       "<tbody>\n",
       "<tr><td>type   </td><td>int               </td></tr>\n",
       "<tr><td>mins   </td><td>14.0              </td></tr>\n",
       "<tr><td>mean   </td><td>114.31611109078231</td></tr>\n",
       "<tr><td>maxs   </td><td>402.0             </td></tr>\n",
       "<tr><td>sigma  </td><td>69.6363295150612  </td></tr>\n",
       "<tr><td>zeros  </td><td>0                 </td></tr>\n",
       "<tr><td>missing</td><td>16649             </td></tr>\n",
       "<tr><td>0      </td><td>nan               </td></tr>\n",
       "<tr><td>1      </td><td>nan               </td></tr>\n",
       "<tr><td>2      </td><td>nan               </td></tr>\n",
       "<tr><td>3      </td><td>nan               </td></tr>\n",
       "<tr><td>4      </td><td>nan               </td></tr>\n",
       "<tr><td>5      </td><td>nan               </td></tr>\n",
       "<tr><td>6      </td><td>nan               </td></tr>\n",
       "<tr><td>7      </td><td>nan               </td></tr>\n",
       "<tr><td>8      </td><td>nan               </td></tr>\n",
       "<tr><td>9      </td><td>nan               </td></tr>\n",
       "</tbody>\n",
       "</table>"
      ]
     },
     "metadata": {},
     "output_type": "display_data"
    }
   ],
   "source": [
    "data[:,\"AirTime\"].summary()"
   ]
  },
  {
   "cell_type": "code",
   "execution_count": 23,
   "metadata": {},
   "outputs": [
    {
     "name": "stderr",
     "output_type": "stream",
     "text": [
      "/home/jay/.conda/envs/tensorflow/lib/python3.6/site-packages/matplotlib/__init__.py:1867: MatplotlibDeprecationWarning: The *left* kwarg to `bar` is deprecated use *x* instead. Support for *left* will be removed in Matplotlib 3.0\n",
      "  return func(ax, *args, **kwargs)\n"
     ]
    },
    {
     "data": {
      "image/png": "[encoded data removed]",
      "text/plain": [
       "<Figure size 432x288 with 1 Axes>"
      ]
     },
     "metadata": {
      "needs_background": "light"
     },
     "output_type": "display_data"
    }
   ],
   "source": [
    "data[:,\"ArrDelay\"].hist()"
   ]
  },
  {
   "cell_type": "code",
   "execution_count": 24,
   "metadata": {},
   "outputs": [
    {
     "data": {
      "text/plain": [
       "True"
      ]
     },
     "execution_count": 24,
     "metadata": {},
     "output_type": "execute_result"
    }
   ],
   "source": [
    "data[:,\"ArrDelay\"].any()"
   ]
  },
  {
   "cell_type": "code",
   "execution_count": 25,
   "metadata": {},
   "outputs": [
    {
     "data": {
      "text/html": [
       "<table>\n",
       "<thead>\n",
       "<tr><th style=\"text-align: right;\">   C1</th></tr>\n",
       "</thead>\n",
       "<tbody>\n",
       "<tr><td style=\"text-align: right;\">17991</td></tr>\n",
       "<tr><td style=\"text-align: right;\">17992</td></tr>\n",
       "<tr><td style=\"text-align: right;\">17993</td></tr>\n",
       "<tr><td style=\"text-align: right;\">17994</td></tr>\n",
       "<tr><td style=\"text-align: right;\">17995</td></tr>\n",
       "<tr><td style=\"text-align: right;\">17996</td></tr>\n",
       "<tr><td style=\"text-align: right;\">17997</td></tr>\n",
       "<tr><td style=\"text-align: right;\">17998</td></tr>\n",
       "<tr><td style=\"text-align: right;\">17999</td></tr>\n",
       "<tr><td style=\"text-align: right;\">18000</td></tr>\n",
       "</tbody>\n",
       "</table>"
      ]
     },
     "metadata": {},
     "output_type": "display_data"
    },
    {
     "data": {
      "text/plain": []
     },
     "execution_count": 25,
     "metadata": {},
     "output_type": "execute_result"
    }
   ],
   "source": [
    "data[:,\"UniqueCarrier\"].grep(\"[C-E]\")"
   ]
  },
  {
   "cell_type": "code",
   "execution_count": 26,
   "metadata": {},
   "outputs": [
    {
     "data": {
      "text/html": [
       "<table>\n",
       "<thead>\n",
       "<tr><th style=\"text-align: right;\">  ArrDelay0</th><th style=\"text-align: right;\">  DepDelay0</th><th style=\"text-align: right;\">  AirTime0</th></tr>\n",
       "</thead>\n",
       "<tbody>\n",
       "<tr><td style=\"text-align: right;\">  1        </td><td style=\"text-align: right;\">  0.907564 </td><td style=\"text-align: right;\"> 0.0836881</td></tr>\n",
       "<tr><td style=\"text-align: right;\">  0.907564 </td><td style=\"text-align: right;\">  1        </td><td style=\"text-align: right;\"> 0.0619647</td></tr>\n",
       "<tr><td style=\"text-align: right;\">  0.0836881</td><td style=\"text-align: right;\">  0.0619647</td><td style=\"text-align: right;\"> 1        </td></tr>\n",
       "</tbody>\n",
       "</table>"
      ]
     },
     "metadata": {},
     "output_type": "display_data"
    },
    {
     "data": {
      "text/plain": []
     },
     "execution_count": 26,
     "metadata": {},
     "output_type": "execute_result"
    }
   ],
   "source": [
    "data[:,[\"ArrDelay\",\"DepDelay\",\"AirTime\"]].cor(na_rm = True)"
   ]
  },
  {
   "cell_type": "code",
   "execution_count": null,
   "metadata": {},
   "outputs": [],
   "source": []
  }
 ],
 "metadata": {
  "kernelspec": {
   "display_name": "Python (Machine_Learning)",
   "language": "python",
   "name": "tensorflow"
  },
  "language_info": {
   "codemirror_mode": {
    "name": "ipython",
    "version": 3
   },
   "file_extension": ".py",
   "mimetype": "text/x-python",
   "name": "python",
   "nbconvert_exporter": "python",
   "pygments_lexer": "ipython3",
   "version": "3.6.8"
  }
 },
 "nbformat": 4,
 "nbformat_minor": 2
}
