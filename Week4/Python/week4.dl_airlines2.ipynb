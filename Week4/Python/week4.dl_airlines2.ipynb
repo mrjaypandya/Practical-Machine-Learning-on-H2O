{
 "cells": [
  {
   "cell_type": "code",
   "execution_count": 2,
   "metadata": {},
   "outputs": [],
   "source": [
    "import h2o\n",
    "import matplotlib.pyplot as plt\n",
    "%matplotlib inline"
   ]
  },
  {
   "cell_type": "code",
   "execution_count": 3,
   "metadata": {},
   "outputs": [
    {
     "name": "stdout",
     "output_type": "stream",
     "text": [
      "Checking whether there is an H2O instance running at http://localhost:54321. connected.\n"
     ]
    },
    {
     "data": {
      "text/html": [
       "<div style=\"overflow:auto\"><table style=\"width:50%\"><tr><td>H2O cluster uptime:</td>\n",
       "<td>15 mins 21 secs</td></tr>\n",
       "<tr><td>H2O cluster timezone:</td>\n",
       "<td>Asia/Kolkata</td></tr>\n",
       "<tr><td>H2O data parsing timezone:</td>\n",
       "<td>UTC</td></tr>\n",
       "<tr><td>H2O cluster version:</td>\n",
       "<td>3.22.1.2</td></tr>\n",
       "<tr><td>H2O cluster version age:</td>\n",
       "<td>1 month and 6 days </td></tr>\n",
       "<tr><td>H2O cluster name:</td>\n",
       "<td>H2O_started_from_R_jay_gvz146</td></tr>\n",
       "<tr><td>H2O cluster total nodes:</td>\n",
       "<td>1</td></tr>\n",
       "<tr><td>H2O cluster free memory:</td>\n",
       "<td>1.417 Gb</td></tr>\n",
       "<tr><td>H2O cluster total cores:</td>\n",
       "<td>4</td></tr>\n",
       "<tr><td>H2O cluster allowed cores:</td>\n",
       "<td>4</td></tr>\n",
       "<tr><td>H2O cluster status:</td>\n",
       "<td>locked, healthy</td></tr>\n",
       "<tr><td>H2O connection url:</td>\n",
       "<td>http://localhost:54321</td></tr>\n",
       "<tr><td>H2O connection proxy:</td>\n",
       "<td>None</td></tr>\n",
       "<tr><td>H2O internal security:</td>\n",
       "<td>False</td></tr>\n",
       "<tr><td>H2O API Extensions:</td>\n",
       "<td>XGBoost, Algos, AutoML, Core V3, Core V4</td></tr>\n",
       "<tr><td>Python version:</td>\n",
       "<td>3.6.8 final</td></tr></table></div>"
      ],
      "text/plain": [
       "--------------------------  ----------------------------------------\n",
       "H2O cluster uptime:         15 mins 21 secs\n",
       "H2O cluster timezone:       Asia/Kolkata\n",
       "H2O data parsing timezone:  UTC\n",
       "H2O cluster version:        3.22.1.2\n",
       "H2O cluster version age:    1 month and 6 days\n",
       "H2O cluster name:           H2O_started_from_R_jay_gvz146\n",
       "H2O cluster total nodes:    1\n",
       "H2O cluster free memory:    1.417 Gb\n",
       "H2O cluster total cores:    4\n",
       "H2O cluster allowed cores:  4\n",
       "H2O cluster status:         locked, healthy\n",
       "H2O connection url:         http://localhost:54321\n",
       "H2O connection proxy:\n",
       "H2O internal security:      False\n",
       "H2O API Extensions:         XGBoost, Algos, AutoML, Core V3, Core V4\n",
       "Python version:             3.6.8 final\n",
       "--------------------------  ----------------------------------------"
      ]
     },
     "metadata": {},
     "output_type": "display_data"
    }
   ],
   "source": [
    "h2o.init()"
   ]
  },
  {
   "cell_type": "code",
   "execution_count": 4,
   "metadata": {},
   "outputs": [
    {
     "name": "stdout",
     "output_type": "stream",
     "text": [
      "Parse progress: |█████████████████████████████████████████████████████████| 100%\n"
     ]
    }
   ],
   "source": [
    "data = h2o.import_file(\"http://h2o-public-test-data.s3.amazonaws.com/smalldata/airlines/allyears2k_headers.zip\")\n",
    "train, valid, test = data.split_frame([0.8,0.1],seed = 69)"
   ]
  },
  {
   "cell_type": "code",
   "execution_count": 5,
   "metadata": {},
   "outputs": [
    {
     "name": "stdout",
     "output_type": "stream",
     "text": [
      "35255/4272/4451\n"
     ]
    }
   ],
   "source": [
    "print(\"%d/%d/%d\" % (train.nrows,valid.nrows,test.nrows))"
   ]
  },
  {
   "cell_type": "code",
   "execution_count": 7,
   "metadata": {},
   "outputs": [],
   "source": [
    "y = \"IsArrDelayed\"\n",
    "ignoreFields = [\"ArrDelay\",\"IsArrDelayed\",\"ActualElapsedTime\",\"Arrtime\",\"TailNum\"] #But CRSElapsedTime is fine.\n",
    "xWithDep = [i for i in train.names if i not in ignoreFields]"
   ]
  },
  {
   "cell_type": "code",
   "execution_count": 9,
   "metadata": {},
   "outputs": [
    {
     "data": {
      "text/plain": [
       "['Year',\n",
       " 'Month',\n",
       " 'DayofMonth',\n",
       " 'DayOfWeek',\n",
       " 'DepTime',\n",
       " 'CRSDepTime',\n",
       " 'ArrTime',\n",
       " 'CRSArrTime',\n",
       " 'UniqueCarrier',\n",
       " 'FlightNum',\n",
       " 'CRSElapsedTime',\n",
       " 'AirTime',\n",
       " 'DepDelay',\n",
       " 'Origin',\n",
       " 'Dest',\n",
       " 'Distance',\n",
       " 'TaxiIn',\n",
       " 'TaxiOut',\n",
       " 'Cancelled',\n",
       " 'CancellationCode',\n",
       " 'Diverted',\n",
       " 'CarrierDelay',\n",
       " 'WeatherDelay',\n",
       " 'NASDelay',\n",
       " 'SecurityDelay',\n",
       " 'LateAircraftDelay',\n",
       " 'IsDepDelayed']"
      ]
     },
     "execution_count": 9,
     "metadata": {},
     "output_type": "execute_result"
    }
   ],
   "source": [
    "xWithDep"
   ]
  },
  {
   "cell_type": "code",
   "execution_count": 6,
   "metadata": {},
   "outputs": [],
   "source": [
    "from h2o.estimators.deeplearning import H2ODeepLearningEstimator"
   ]
  },
  {
   "cell_type": "code",
   "execution_count": 10,
   "metadata": {},
   "outputs": [
    {
     "name": "stdout",
     "output_type": "stream",
     "text": [
      "deeplearning Model Build progress: |██████████████████████████████████████| 100%\n",
      "CPU times: user 730 ms, sys: 41.5 ms, total: 771 ms\n",
      "Wall time: 1min 31s\n"
     ]
    }
   ],
   "source": [
    "m_DLR_def_python = H2ODeepLearningEstimator(variable_importances = True)\n",
    "%time m_DLR_def_python.train(xWithDep,y,train,validation_frame = valid)"
   ]
  },
  {
   "cell_type": "code",
   "execution_count": 11,
   "metadata": {},
   "outputs": [
    {
     "name": "stdout",
     "output_type": "stream",
     "text": [
      "\n",
      "ModelMetricsBinomial: deeplearning\n",
      "** Reported on test data. **\n",
      "\n",
      "MSE: 0.07172551177068504\n",
      "RMSE: 0.2678161902699033\n",
      "LogLoss: 0.22197508519338743\n",
      "Mean Per-Class Error: 0.09975345515557854\n",
      "AUC: 0.9700197089899403\n",
      "pr_auc: 0.4803377057591902\n",
      "Gini: 0.9400394179798806\n",
      "Confusion Matrix (Act/Pred) for max f1 @ threshold = 0.4944094140957608: \n"
     ]
    },
    {
     "data": {
      "text/html": [
       "<div style=\"overflow:auto\"><table style=\"width:50%\"><tr><td><b></b></td>\n",
       "<td><b>NO</b></td>\n",
       "<td><b>YES</b></td>\n",
       "<td><b>Error</b></td>\n",
       "<td><b>Rate</b></td></tr>\n",
       "<tr><td>NO</td>\n",
       "<td>1664.0</td>\n",
       "<td>269.0</td>\n",
       "<td>0.1392</td>\n",
       "<td> (269.0/1933.0)</td></tr>\n",
       "<tr><td>YES</td>\n",
       "<td>166.0</td>\n",
       "<td>2173.0</td>\n",
       "<td>0.071</td>\n",
       "<td> (166.0/2339.0)</td></tr>\n",
       "<tr><td>Total</td>\n",
       "<td>1830.0</td>\n",
       "<td>2442.0</td>\n",
       "<td>0.1018</td>\n",
       "<td> (435.0/4272.0)</td></tr></table></div>"
      ],
      "text/plain": [
       "       NO    YES    Error    Rate\n",
       "-----  ----  -----  -------  --------------\n",
       "NO     1664  269    0.1392   (269.0/1933.0)\n",
       "YES    166   2173   0.071    (166.0/2339.0)\n",
       "Total  1830  2442   0.1018   (435.0/4272.0)"
      ]
     },
     "metadata": {},
     "output_type": "display_data"
    },
    {
     "name": "stdout",
     "output_type": "stream",
     "text": [
      "Maximum Metrics: Maximum metrics at their respective thresholds\n",
      "\n"
     ]
    },
    {
     "data": {
      "text/html": [
       "<div style=\"overflow:auto\"><table style=\"width:50%\"><tr><td><b>metric</b></td>\n",
       "<td><b>threshold</b></td>\n",
       "<td><b>value</b></td>\n",
       "<td><b>idx</b></td></tr>\n",
       "<tr><td>max f1</td>\n",
       "<td>0.4944094</td>\n",
       "<td>0.9090149</td>\n",
       "<td>196.0</td></tr>\n",
       "<tr><td>max f2</td>\n",
       "<td>0.1834271</td>\n",
       "<td>0.9380581</td>\n",
       "<td>308.0</td></tr>\n",
       "<tr><td>max f0point5</td>\n",
       "<td>0.8336104</td>\n",
       "<td>0.9337439</td>\n",
       "<td>79.0</td></tr>\n",
       "<tr><td>max accuracy</td>\n",
       "<td>0.6094513</td>\n",
       "<td>0.8998127</td>\n",
       "<td>158.0</td></tr>\n",
       "<tr><td>max precision</td>\n",
       "<td>0.9999841</td>\n",
       "<td>1.0</td>\n",
       "<td>0.0</td></tr>\n",
       "<tr><td>max recall</td>\n",
       "<td>0.0193422</td>\n",
       "<td>1.0</td>\n",
       "<td>378.0</td></tr>\n",
       "<tr><td>max specificity</td>\n",
       "<td>0.9999841</td>\n",
       "<td>1.0</td>\n",
       "<td>0.0</td></tr>\n",
       "<tr><td>max absolute_mcc</td>\n",
       "<td>0.6094513</td>\n",
       "<td>0.7986616</td>\n",
       "<td>158.0</td></tr>\n",
       "<tr><td>max min_per_class_accuracy</td>\n",
       "<td>0.5911635</td>\n",
       "<td>0.8986746</td>\n",
       "<td>163.0</td></tr>\n",
       "<tr><td>max mean_per_class_accuracy</td>\n",
       "<td>0.6094513</td>\n",
       "<td>0.9002465</td>\n",
       "<td>158.0</td></tr></table></div>"
      ],
      "text/plain": [
       "metric                       threshold    value     idx\n",
       "---------------------------  -----------  --------  -----\n",
       "max f1                       0.494409     0.909015  196\n",
       "max f2                       0.183427     0.938058  308\n",
       "max f0point5                 0.83361      0.933744  79\n",
       "max accuracy                 0.609451     0.899813  158\n",
       "max precision                0.999984     1         0\n",
       "max recall                   0.0193422    1         378\n",
       "max specificity              0.999984     1         0\n",
       "max absolute_mcc             0.609451     0.798662  158\n",
       "max min_per_class_accuracy   0.591163     0.898675  163\n",
       "max mean_per_class_accuracy  0.609451     0.900247  158"
      ]
     },
     "metadata": {},
     "output_type": "display_data"
    },
    {
     "name": "stdout",
     "output_type": "stream",
     "text": [
      "Gains/Lift Table: Avg response rate: 54.75 %, avg score: 57.35 %\n",
      "\n"
     ]
    },
    {
     "data": {
      "text/html": [
       "<div style=\"overflow:auto\"><table style=\"width:50%\"><tr><td><b></b></td>\n",
       "<td><b>group</b></td>\n",
       "<td><b>cumulative_data_fraction</b></td>\n",
       "<td><b>lower_threshold</b></td>\n",
       "<td><b>lift</b></td>\n",
       "<td><b>cumulative_lift</b></td>\n",
       "<td><b>response_rate</b></td>\n",
       "<td><b>score</b></td>\n",
       "<td><b>cumulative_response_rate</b></td>\n",
       "<td><b>cumulative_score</b></td>\n",
       "<td><b>capture_rate</b></td>\n",
       "<td><b>cumulative_capture_rate</b></td>\n",
       "<td><b>gain</b></td>\n",
       "<td><b>cumulative_gain</b></td></tr>\n",
       "<tr><td></td>\n",
       "<td>1</td>\n",
       "<td>0.1116573</td>\n",
       "<td>1.0</td>\n",
       "<td>1.8264215</td>\n",
       "<td>1.8264215</td>\n",
       "<td>1.0</td>\n",
       "<td>1.0</td>\n",
       "<td>1.0</td>\n",
       "<td>1.0</td>\n",
       "<td>0.2039333</td>\n",
       "<td>0.2039333</td>\n",
       "<td>82.6421548</td>\n",
       "<td>82.6421548</td></tr>\n",
       "<tr><td></td>\n",
       "<td>2</td>\n",
       "<td>0.1500468</td>\n",
       "<td>1.0000000</td>\n",
       "<td>1.8264215</td>\n",
       "<td>1.8264215</td>\n",
       "<td>1.0</td>\n",
       "<td>1.0000000</td>\n",
       "<td>1.0</td>\n",
       "<td>1.0000000</td>\n",
       "<td>0.0701154</td>\n",
       "<td>0.2740487</td>\n",
       "<td>82.6421548</td>\n",
       "<td>82.6421548</td></tr>\n",
       "<tr><td></td>\n",
       "<td>3</td>\n",
       "<td>0.2001404</td>\n",
       "<td>0.9999999</td>\n",
       "<td>1.8264215</td>\n",
       "<td>1.8264215</td>\n",
       "<td>1.0</td>\n",
       "<td>1.0000000</td>\n",
       "<td>1.0</td>\n",
       "<td>1.0000000</td>\n",
       "<td>0.0914921</td>\n",
       "<td>0.3655408</td>\n",
       "<td>82.6421548</td>\n",
       "<td>82.6421548</td></tr>\n",
       "<tr><td></td>\n",
       "<td>4</td>\n",
       "<td>0.3000936</td>\n",
       "<td>0.9980333</td>\n",
       "<td>1.8264215</td>\n",
       "<td>1.8264215</td>\n",
       "<td>1.0</td>\n",
       "<td>0.9996670</td>\n",
       "<td>1.0</td>\n",
       "<td>0.9998891</td>\n",
       "<td>0.1825566</td>\n",
       "<td>0.5480975</td>\n",
       "<td>82.6421548</td>\n",
       "<td>82.6421548</td></tr>\n",
       "<tr><td></td>\n",
       "<td>5</td>\n",
       "<td>0.4000468</td>\n",
       "<td>0.9343749</td>\n",
       "<td>1.7280429</td>\n",
       "<td>1.8018413</td>\n",
       "<td>0.9461358</td>\n",
       "<td>0.9780009</td>\n",
       "<td>0.9865418</td>\n",
       "<td>0.9944202</td>\n",
       "<td>0.1727234</td>\n",
       "<td>0.7208209</td>\n",
       "<td>72.8042869</td>\n",
       "<td>80.1841269</td></tr>\n",
       "<tr><td></td>\n",
       "<td>6</td>\n",
       "<td>0.5</td>\n",
       "<td>0.7057492</td>\n",
       "<td>1.4072428</td>\n",
       "<td>1.7229585</td>\n",
       "<td>0.7704918</td>\n",
       "<td>0.8330302</td>\n",
       "<td>0.9433521</td>\n",
       "<td>0.9621573</td>\n",
       "<td>0.1406584</td>\n",
       "<td>0.8614793</td>\n",
       "<td>40.7242832</td>\n",
       "<td>72.2958529</td></tr>\n",
       "<tr><td></td>\n",
       "<td>7</td>\n",
       "<td>0.5999532</td>\n",
       "<td>0.4277525</td>\n",
       "<td>0.8511894</td>\n",
       "<td>1.5777204</td>\n",
       "<td>0.4660422</td>\n",
       "<td>0.5589635</td>\n",
       "<td>0.8638314</td>\n",
       "<td>0.8949846</td>\n",
       "<td>0.0850791</td>\n",
       "<td>0.9465584</td>\n",
       "<td>-14.8810567</td>\n",
       "<td>57.7720369</td></tr>\n",
       "<tr><td></td>\n",
       "<td>8</td>\n",
       "<td>0.6999064</td>\n",
       "<td>0.1604448</td>\n",
       "<td>0.4277334</td>\n",
       "<td>1.4134915</td>\n",
       "<td>0.2341920</td>\n",
       "<td>0.2927391</td>\n",
       "<td>0.7739130</td>\n",
       "<td>0.8089783</td>\n",
       "<td>0.0427533</td>\n",
       "<td>0.9893117</td>\n",
       "<td>-57.2266616</td>\n",
       "<td>41.3491459</td></tr>\n",
       "<tr><td></td>\n",
       "<td>9</td>\n",
       "<td>0.7998596</td>\n",
       "<td>0.0111416</td>\n",
       "<td>0.1069333</td>\n",
       "<td>1.2502195</td>\n",
       "<td>0.0585480</td>\n",
       "<td>0.0705385</td>\n",
       "<td>0.6845186</td>\n",
       "<td>0.7167003</td>\n",
       "<td>0.0106883</td>\n",
       "<td>1.0</td>\n",
       "<td>-89.3066654</td>\n",
       "<td>25.0219491</td></tr>\n",
       "<tr><td></td>\n",
       "<td>10</td>\n",
       "<td>0.8998127</td>\n",
       "<td>0.0003032</td>\n",
       "<td>0.0</td>\n",
       "<td>1.1113424</td>\n",
       "<td>0.0</td>\n",
       "<td>0.0027537</td>\n",
       "<td>0.6084807</td>\n",
       "<td>0.6373936</td>\n",
       "<td>0.0</td>\n",
       "<td>1.0</td>\n",
       "<td>-100.0</td>\n",
       "<td>11.1342352</td></tr>\n",
       "<tr><td></td>\n",
       "<td>11</td>\n",
       "<td>1.0</td>\n",
       "<td>0.0000000</td>\n",
       "<td>0.0</td>\n",
       "<td>1.0</td>\n",
       "<td>0.0</td>\n",
       "<td>0.0000760</td>\n",
       "<td>0.5475187</td>\n",
       "<td>0.5735425</td>\n",
       "<td>0.0</td>\n",
       "<td>1.0</td>\n",
       "<td>-100.0</td>\n",
       "<td>0.0</td></tr></table></div>"
      ],
      "text/plain": [
       "    group    cumulative_data_fraction    lower_threshold    lift      cumulative_lift    response_rate    score       cumulative_response_rate    cumulative_score    capture_rate    cumulative_capture_rate    gain      cumulative_gain\n",
       "--  -------  --------------------------  -----------------  --------  -----------------  ---------------  ----------  --------------------------  ------------------  --------------  -------------------------  --------  -----------------\n",
       "    1        0.111657                    1                  1.82642   1.82642            1                1           1                           1                   0.203933        0.203933                   82.6422   82.6422\n",
       "    2        0.150047                    1                  1.82642   1.82642            1                1           1                           1                   0.0701154       0.274049                   82.6422   82.6422\n",
       "    3        0.20014                     1                  1.82642   1.82642            1                1           1                           1                   0.0914921       0.365541                   82.6422   82.6422\n",
       "    4        0.300094                    0.998033           1.82642   1.82642            1                0.999667    1                           0.999889            0.182557        0.548097                   82.6422   82.6422\n",
       "    5        0.400047                    0.934375           1.72804   1.80184            0.946136         0.978001    0.986542                    0.99442             0.172723        0.720821                   72.8043   80.1841\n",
       "    6        0.5                         0.705749           1.40724   1.72296            0.770492         0.83303     0.943352                    0.962157            0.140658        0.861479                   40.7243   72.2959\n",
       "    7        0.599953                    0.427753           0.851189  1.57772            0.466042         0.558963    0.863831                    0.894985            0.0850791       0.946558                   -14.8811  57.772\n",
       "    8        0.699906                    0.160445           0.427733  1.41349            0.234192         0.292739    0.773913                    0.808978            0.0427533       0.989312                   -57.2267  41.3491\n",
       "    9        0.79986                     0.0111416          0.106933  1.25022            0.058548         0.0705385   0.684519                    0.7167              0.0106883       1                          -89.3067  25.0219\n",
       "    10       0.899813                    0.000303234        0         1.11134            0                0.00275372  0.608481                    0.637394            0               1                          -100      11.1342\n",
       "    11       1                           1.15245e-11        0         1                  0                7.5977e-05  0.547519                    0.573542            0               1                          -100      0"
      ]
     },
     "metadata": {},
     "output_type": "display_data"
    },
    {
     "name": "stdout",
     "output_type": "stream",
     "text": [
      "\n"
     ]
    },
    {
     "data": {
      "text/plain": []
     },
     "execution_count": 11,
     "metadata": {},
     "output_type": "execute_result"
    }
   ],
   "source": [
    "m_DLR_def_python.model_performance(valid)"
   ]
  },
  {
   "cell_type": "code",
   "execution_count": 12,
   "metadata": {},
   "outputs": [
    {
     "data": {
      "image/png": "[encoded data removed]",
      "text/plain": [
       "<Figure size 1008x720 with 1 Axes>"
      ]
     },
     "metadata": {
      "needs_background": "light"
     },
     "output_type": "display_data"
    }
   ],
   "source": [
    "m_DLR_def_python.varimp_plot(30)"
   ]
  },
  {
   "cell_type": "code",
   "execution_count": 13,
   "metadata": {},
   "outputs": [
    {
     "data": {
      "image/png": "[encoded data removed]",
      "text/plain": [
       "<Figure size 432x288 with 1 Axes>"
      ]
     },
     "metadata": {
      "needs_background": "light"
     },
     "output_type": "display_data"
    }
   ],
   "source": [
    "m_DLR_def_python.plot()"
   ]
  },
  {
   "cell_type": "code",
   "execution_count": null,
   "metadata": {},
   "outputs": [],
   "source": []
  }
 ],
 "metadata": {
  "kernelspec": {
   "display_name": "Python 3",
   "language": "python",
   "name": "python3"
  },
  "language_info": {
   "codemirror_mode": {
    "name": "ipython",
    "version": 3
   },
   "file_extension": ".py",
   "mimetype": "text/x-python",
   "name": "python",
   "nbconvert_exporter": "python",
   "pygments_lexer": "ipython3",
   "version": "3.6.8"
  }
 },
 "nbformat": 4,
 "nbformat_minor": 2
}
