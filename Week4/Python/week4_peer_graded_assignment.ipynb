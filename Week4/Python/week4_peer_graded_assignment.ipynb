{
 "cells": [
  {
   "cell_type": "code",
   "execution_count": 67,
   "metadata": {},
   "outputs": [],
   "source": [
    "import h2o\n",
    "import matplotlib.pyplot as plt\n",
    "%matplotlib inline"
   ]
  },
  {
   "cell_type": "code",
   "execution_count": 68,
   "metadata": {},
   "outputs": [
    {
     "name": "stdout",
     "output_type": "stream",
     "text": [
      "Checking whether there is an H2O instance running at http://localhost:54321..... not found.\n",
      "Attempting to start a local H2O server...\n",
      "  Java Version: openjdk version \"10.0.2\" 2018-07-17; OpenJDK Runtime Environment (build 10.0.2+13-Ubuntu-1ubuntu0.18.04.4); OpenJDK 64-Bit Server VM (build 10.0.2+13-Ubuntu-1ubuntu0.18.04.4, mixed mode)\n",
      "  Starting server from /home/jay/.conda/envs/tensorflow/lib/python3.6/site-packages/h2o/backend/bin/h2o.jar\n",
      "  Ice root: /tmp/tmp4fwjlohb\n",
      "  JVM stdout: /tmp/tmp4fwjlohb/h2o_jay_started_from_python.out\n",
      "  JVM stderr: /tmp/tmp4fwjlohb/h2o_jay_started_from_python.err\n",
      "  Server is running at http://127.0.0.1:54321\n",
      "Connecting to H2O server at http://127.0.0.1:54321... successful.\n"
     ]
    },
    {
     "data": {
      "text/html": [
       "<div style=\"overflow:auto\"><table style=\"width:50%\"><tr><td>H2O cluster uptime:</td>\n",
       "<td>03 secs</td></tr>\n",
       "<tr><td>H2O cluster timezone:</td>\n",
       "<td>Asia/Kolkata</td></tr>\n",
       "<tr><td>H2O data parsing timezone:</td>\n",
       "<td>UTC</td></tr>\n",
       "<tr><td>H2O cluster version:</td>\n",
       "<td>3.22.1.2</td></tr>\n",
       "<tr><td>H2O cluster version age:</td>\n",
       "<td>1 month and 6 days </td></tr>\n",
       "<tr><td>H2O cluster name:</td>\n",
       "<td>H2O_from_python_jay_wfpww1</td></tr>\n",
       "<tr><td>H2O cluster total nodes:</td>\n",
       "<td>1</td></tr>\n",
       "<tr><td>H2O cluster free memory:</td>\n",
       "<td>1.439 Gb</td></tr>\n",
       "<tr><td>H2O cluster total cores:</td>\n",
       "<td>4</td></tr>\n",
       "<tr><td>H2O cluster allowed cores:</td>\n",
       "<td>4</td></tr>\n",
       "<tr><td>H2O cluster status:</td>\n",
       "<td>accepting new members, healthy</td></tr>\n",
       "<tr><td>H2O connection url:</td>\n",
       "<td>http://127.0.0.1:54321</td></tr>\n",
       "<tr><td>H2O connection proxy:</td>\n",
       "<td>None</td></tr>\n",
       "<tr><td>H2O internal security:</td>\n",
       "<td>False</td></tr>\n",
       "<tr><td>H2O API Extensions:</td>\n",
       "<td>XGBoost, Algos, AutoML, Core V3, Core V4</td></tr>\n",
       "<tr><td>Python version:</td>\n",
       "<td>3.6.8 final</td></tr></table></div>"
      ],
      "text/plain": [
       "--------------------------  ----------------------------------------\n",
       "H2O cluster uptime:         03 secs\n",
       "H2O cluster timezone:       Asia/Kolkata\n",
       "H2O data parsing timezone:  UTC\n",
       "H2O cluster version:        3.22.1.2\n",
       "H2O cluster version age:    1 month and 6 days\n",
       "H2O cluster name:           H2O_from_python_jay_wfpww1\n",
       "H2O cluster total nodes:    1\n",
       "H2O cluster free memory:    1.439 Gb\n",
       "H2O cluster total cores:    4\n",
       "H2O cluster allowed cores:  4\n",
       "H2O cluster status:         accepting new members, healthy\n",
       "H2O connection url:         http://127.0.0.1:54321\n",
       "H2O connection proxy:\n",
       "H2O internal security:      False\n",
       "H2O API Extensions:         XGBoost, Algos, AutoML, Core V3, Core V4\n",
       "Python version:             3.6.8 final\n",
       "--------------------------  ----------------------------------------"
      ]
     },
     "metadata": {},
     "output_type": "display_data"
    }
   ],
   "source": [
    "h2o.init()"
   ]
  },
  {
   "cell_type": "code",
   "execution_count": 69,
   "metadata": {},
   "outputs": [
    {
     "name": "stdout",
     "output_type": "stream",
     "text": [
      "Parse progress: |█████████████████████████████████████████████████████████| 100%\n"
     ]
    }
   ],
   "source": [
    "data = h2o.import_file(\"http://coursera.h2o.ai/cacao.882.csv\")\n",
    "train, test = data.split_frame([0.8],seed = 99)"
   ]
  },
  {
   "cell_type": "code",
   "execution_count": 70,
   "metadata": {},
   "outputs": [
    {
     "name": "stdout",
     "output_type": "stream",
     "text": [
      "1430/365\n"
     ]
    }
   ],
   "source": [
    "print(\"%d/%d\" % (train.nrows,test.nrows))"
   ]
  },
  {
   "cell_type": "code",
   "execution_count": 71,
   "metadata": {},
   "outputs": [
    {
     "data": {
      "text/html": [
       "<table>\n",
       "<thead>\n",
       "<tr><th>Maker   </th><th>Origin        </th><th style=\"text-align: right;\">  REF</th><th style=\"text-align: right;\">  Review Date</th><th style=\"text-align: right;\">  Cocoa Percent</th><th>Maker Location  </th><th style=\"text-align: right;\">  Rating</th><th>Bean Type  </th><th>Bean Origin  </th></tr>\n",
       "</thead>\n",
       "<tbody>\n",
       "<tr><td>A. Morin</td><td>Agua Grande   </td><td style=\"text-align: right;\"> 1876</td><td style=\"text-align: right;\">         2016</td><td style=\"text-align: right;\">           0.63</td><td>France          </td><td style=\"text-align: right;\">    3.75</td><td>           </td><td>Sao Tome     </td></tr>\n",
       "<tr><td>A. Morin</td><td>Kpime         </td><td style=\"text-align: right;\"> 1676</td><td style=\"text-align: right;\">         2015</td><td style=\"text-align: right;\">           0.7 </td><td>France          </td><td style=\"text-align: right;\">    2.75</td><td>           </td><td>Togo         </td></tr>\n",
       "<tr><td>A. Morin</td><td>Atsane        </td><td style=\"text-align: right;\"> 1676</td><td style=\"text-align: right;\">         2015</td><td style=\"text-align: right;\">           0.7 </td><td>France          </td><td style=\"text-align: right;\">    3   </td><td>           </td><td>Togo         </td></tr>\n",
       "<tr><td>A. Morin</td><td>Akata         </td><td style=\"text-align: right;\"> 1680</td><td style=\"text-align: right;\">         2015</td><td style=\"text-align: right;\">           0.7 </td><td>France          </td><td style=\"text-align: right;\">    3.5 </td><td>           </td><td>Togo         </td></tr>\n",
       "<tr><td>A. Morin</td><td>Quilla        </td><td style=\"text-align: right;\"> 1704</td><td style=\"text-align: right;\">         2015</td><td style=\"text-align: right;\">           0.7 </td><td>France          </td><td style=\"text-align: right;\">    3.5 </td><td>           </td><td>Peru         </td></tr>\n",
       "<tr><td>A. Morin</td><td>Carenero      </td><td style=\"text-align: right;\"> 1315</td><td style=\"text-align: right;\">         2014</td><td style=\"text-align: right;\">           0.7 </td><td>France          </td><td style=\"text-align: right;\">    2.75</td><td>Criollo    </td><td>Venezuela    </td></tr>\n",
       "<tr><td>A. Morin</td><td>Cuba          </td><td style=\"text-align: right;\"> 1315</td><td style=\"text-align: right;\">         2014</td><td style=\"text-align: right;\">           0.7 </td><td>France          </td><td style=\"text-align: right;\">    3.5 </td><td>           </td><td>Cuba         </td></tr>\n",
       "<tr><td>A. Morin</td><td>Sur del Lago  </td><td style=\"text-align: right;\"> 1315</td><td style=\"text-align: right;\">         2014</td><td style=\"text-align: right;\">           0.7 </td><td>France          </td><td style=\"text-align: right;\">    3.5 </td><td>Criollo    </td><td>Venezuela    </td></tr>\n",
       "<tr><td>A. Morin</td><td>Puerto Cabello</td><td style=\"text-align: right;\"> 1319</td><td style=\"text-align: right;\">         2014</td><td style=\"text-align: right;\">           0.7 </td><td>France          </td><td style=\"text-align: right;\">    3.75</td><td>Criollo    </td><td>Venezuela    </td></tr>\n",
       "<tr><td>A. Morin</td><td>Pablino       </td><td style=\"text-align: right;\"> 1319</td><td style=\"text-align: right;\">         2014</td><td style=\"text-align: right;\">           0.7 </td><td>France          </td><td style=\"text-align: right;\">    4   </td><td>           </td><td>Peru         </td></tr>\n",
       "</tbody>\n",
       "</table>"
      ]
     },
     "metadata": {},
     "output_type": "display_data"
    },
    {
     "data": {
      "text/plain": []
     },
     "execution_count": 71,
     "metadata": {},
     "output_type": "execute_result"
    }
   ],
   "source": [
    "train"
   ]
  },
  {
   "cell_type": "code",
   "execution_count": 72,
   "metadata": {},
   "outputs": [],
   "source": [
    "y = \"Rating\"\n",
    "xRegress = [\"Maker\",\"Origin\",\"REF\",\"Review Date\",\"Cocoa Percent\",\"Maker Location\",\"Bean Type\",\"Bean Origin\"]"
   ]
  },
  {
   "cell_type": "code",
   "execution_count": 73,
   "metadata": {},
   "outputs": [
    {
     "data": {
      "text/plain": [
       "['Maker',\n",
       " 'Origin',\n",
       " 'REF',\n",
       " 'Review Date',\n",
       " 'Cocoa Percent',\n",
       " 'Maker Location',\n",
       " 'Bean Type',\n",
       " 'Bean Origin']"
      ]
     },
     "execution_count": 73,
     "metadata": {},
     "output_type": "execute_result"
    }
   ],
   "source": [
    "xRegress"
   ]
  },
  {
   "cell_type": "code",
   "execution_count": 85,
   "metadata": {},
   "outputs": [],
   "source": [
    "from h2o.estimators.deeplearning import H2ODeepLearningEstimator\n",
    "from h2o.grid.grid_search import H2OGridSearch"
   ]
  },
  {
   "cell_type": "code",
   "execution_count": 77,
   "metadata": {},
   "outputs": [
    {
     "name": "stdout",
     "output_type": "stream",
     "text": [
      "deeplearning Model Build progress: |██████████████████████████████████████| 100%\n",
      "CPU times: user 540 ms, sys: 51 ms, total: 591 ms\n",
      "Wall time: 1min\n"
     ]
    }
   ],
   "source": [
    "m_DLR_def_python = H2ODeepLearningEstimator(nfolds=5, \n",
    "                                            fold_assignment=\"Auto\", \n",
    "                                            keep_cross_validation_models = True,\n",
    "                                            variable_importances = True,\n",
    "                                            model_id = \"DLR_baseline\")\n",
    "%time m_DLR_def_python.train(xRegress,y,train)"
   ]
  },
  {
   "cell_type": "code",
   "execution_count": 78,
   "metadata": {},
   "outputs": [
    {
     "name": "stdout",
     "output_type": "stream",
     "text": [
      "\n",
      "ModelMetricsRegression: deeplearning\n",
      "** Reported on test data. **\n",
      "\n",
      "MSE: 0.11792719229375513\n",
      "RMSE: 0.3434052886805256\n",
      "MAE: 0.2759459105432482\n",
      "RMSLE: 0.08435300474609304\n",
      "Mean Residual Deviance: 0.11792719229375513\n"
     ]
    },
    {
     "data": {
      "text/plain": []
     },
     "execution_count": 78,
     "metadata": {},
     "output_type": "execute_result"
    }
   ],
   "source": [
    "m_DLR_def_python.model_performance(train)"
   ]
  },
  {
   "cell_type": "code",
   "execution_count": 79,
   "metadata": {},
   "outputs": [
    {
     "name": "stdout",
     "output_type": "stream",
     "text": [
      "\n",
      "ModelMetricsRegression: deeplearning\n",
      "** Reported on test data. **\n",
      "\n",
      "MSE: 0.2052002103125646\n",
      "RMSE: 0.4529902982543496\n",
      "MAE: 0.36326317214362613\n",
      "RMSLE: 0.11386736787229298\n",
      "Mean Residual Deviance: 0.2052002103125646\n"
     ]
    },
    {
     "data": {
      "text/plain": []
     },
     "execution_count": 79,
     "metadata": {},
     "output_type": "execute_result"
    }
   ],
   "source": [
    "m_DLR_def_python.model_performance(test)"
   ]
  },
  {
   "cell_type": "code",
   "execution_count": 80,
   "metadata": {},
   "outputs": [
    {
     "data": {
      "image/png": "[encoded data removed]",
      "text/plain": [
       "<Figure size 1008x720 with 1 Axes>"
      ]
     },
     "metadata": {
      "needs_background": "light"
     },
     "output_type": "display_data"
    }
   ],
   "source": [
    "m_DLR_def_python.varimp_plot(8)"
   ]
  },
  {
   "cell_type": "code",
   "execution_count": 81,
   "metadata": {},
   "outputs": [
    {
     "data": {
      "image/png": "[encoded data removed]",
      "text/plain": [
       "<Figure size 432x288 with 1 Axes>"
      ]
     },
     "metadata": {
      "needs_background": "light"
     },
     "output_type": "display_data"
    }
   ],
   "source": [
    "m_DLR_def_python.plot()"
   ]
  },
  {
   "cell_type": "code",
   "execution_count": 82,
   "metadata": {},
   "outputs": [
    {
     "name": "stdout",
     "output_type": "stream",
     "text": [
      "Model Details\n",
      "=============\n",
      "H2ODeepLearningEstimator :  Deep Learning\n",
      "Model Key:  DLR_baseline\n",
      "\n",
      "\n",
      "ModelMetricsRegression: deeplearning\n",
      "** Reported on train data. **\n",
      "\n",
      "MSE: 0.11792719229375499\n",
      "RMSE: 0.3434052886805254\n",
      "MAE: 0.2759459105432486\n",
      "RMSLE: 0.08435300474609307\n",
      "Mean Residual Deviance: 0.11792719229375499\n",
      "\n",
      "ModelMetricsRegression: deeplearning\n",
      "** Reported on cross-validation data. **\n",
      "\n",
      "MSE: 0.20715737097122208\n",
      "RMSE: 0.4551454393611146\n",
      "MAE: 0.3665543433352472\n",
      "RMSLE: 0.11384085868032837\n",
      "Mean Residual Deviance: 0.20715737097122208\n",
      "Cross-Validation Metrics Summary: \n"
     ]
    },
    {
     "data": {
      "text/html": [
       "<div style=\"overflow:auto\"><table style=\"width:50%\"><tr><td><b></b></td>\n",
       "<td><b>mean</b></td>\n",
       "<td><b>sd</b></td>\n",
       "<td><b>cv_1_valid</b></td>\n",
       "<td><b>cv_2_valid</b></td>\n",
       "<td><b>cv_3_valid</b></td>\n",
       "<td><b>cv_4_valid</b></td>\n",
       "<td><b>cv_5_valid</b></td></tr>\n",
       "<tr><td>mae</td>\n",
       "<td>0.3677357</td>\n",
       "<td>0.0218808</td>\n",
       "<td>0.3386762</td>\n",
       "<td>0.4100296</td>\n",
       "<td>0.3552656</td>\n",
       "<td>0.335741</td>\n",
       "<td>0.3989659</td></tr>\n",
       "<tr><td>mean_residual_deviance</td>\n",
       "<td>0.2079822</td>\n",
       "<td>0.0175937</td>\n",
       "<td>0.1892970</td>\n",
       "<td>0.2449217</td>\n",
       "<td>0.2016481</td>\n",
       "<td>0.1768173</td>\n",
       "<td>0.2272268</td></tr>\n",
       "<tr><td>mse</td>\n",
       "<td>0.2079822</td>\n",
       "<td>0.0175937</td>\n",
       "<td>0.1892970</td>\n",
       "<td>0.2449217</td>\n",
       "<td>0.2016481</td>\n",
       "<td>0.1768173</td>\n",
       "<td>0.2272268</td></tr>\n",
       "<tr><td>r2</td>\n",
       "<td>0.0850464</td>\n",
       "<td>0.0718138</td>\n",
       "<td>0.2438650</td>\n",
       "<td>-0.0504393</td>\n",
       "<td>0.0950309</td>\n",
       "<td>0.1289590</td>\n",
       "<td>0.0078162</td></tr>\n",
       "<tr><td>residual_deviance</td>\n",
       "<td>0.2079822</td>\n",
       "<td>0.0175937</td>\n",
       "<td>0.1892970</td>\n",
       "<td>0.2449217</td>\n",
       "<td>0.2016481</td>\n",
       "<td>0.1768173</td>\n",
       "<td>0.2272268</td></tr>\n",
       "<tr><td>rmse</td>\n",
       "<td>0.4552421</td>\n",
       "<td>0.0191940</td>\n",
       "<td>0.4350828</td>\n",
       "<td>0.4948957</td>\n",
       "<td>0.4490524</td>\n",
       "<td>0.4204965</td>\n",
       "<td>0.4766831</td></tr>\n",
       "<tr><td>rmsle</td>\n",
       "<td>0.1138953</td>\n",
       "<td>0.0036091</td>\n",
       "<td>0.1131332</td>\n",
       "<td>0.1187166</td>\n",
       "<td>0.1124003</td>\n",
       "<td>0.1055102</td>\n",
       "<td>0.1197165</td></tr></table></div>"
      ],
      "text/plain": [
       "                        mean       sd         cv_1_valid    cv_2_valid    cv_3_valid    cv_4_valid    cv_5_valid\n",
       "----------------------  ---------  ---------  ------------  ------------  ------------  ------------  ------------\n",
       "mae                     0.367736   0.0218808  0.338676      0.41003       0.355266      0.335741      0.398966\n",
       "mean_residual_deviance  0.207982   0.0175937  0.189297      0.244922      0.201648      0.176817      0.227227\n",
       "mse                     0.207982   0.0175937  0.189297      0.244922      0.201648      0.176817      0.227227\n",
       "r2                      0.0850464  0.0718138  0.243865      -0.0504393    0.0950309     0.128959      0.00781622\n",
       "residual_deviance       0.207982   0.0175937  0.189297      0.244922      0.201648      0.176817      0.227227\n",
       "rmse                    0.455242   0.019194   0.435083      0.494896      0.449052      0.420496      0.476683\n",
       "rmsle                   0.113895   0.0036091  0.113133      0.118717      0.1124        0.10551       0.119716"
      ]
     },
     "metadata": {},
     "output_type": "display_data"
    },
    {
     "name": "stdout",
     "output_type": "stream",
     "text": [
      "Scoring History: \n"
     ]
    },
    {
     "data": {
      "text/html": [
       "<div style=\"overflow:auto\"><table style=\"width:50%\"><tr><td><b></b></td>\n",
       "<td><b>timestamp</b></td>\n",
       "<td><b>duration</b></td>\n",
       "<td><b>training_speed</b></td>\n",
       "<td><b>epochs</b></td>\n",
       "<td><b>iterations</b></td>\n",
       "<td><b>samples</b></td>\n",
       "<td><b>training_rmse</b></td>\n",
       "<td><b>training_deviance</b></td>\n",
       "<td><b>training_mae</b></td>\n",
       "<td><b>training_r2</b></td></tr>\n",
       "<tr><td></td>\n",
       "<td>2019-02-25 16:55:14</td>\n",
       "<td> 0.000 sec</td>\n",
       "<td>None</td>\n",
       "<td>0.0</td>\n",
       "<td>0</td>\n",
       "<td>0.0</td>\n",
       "<td>nan</td>\n",
       "<td>nan</td>\n",
       "<td>nan</td>\n",
       "<td>nan</td></tr>\n",
       "<tr><td></td>\n",
       "<td>2019-02-25 16:55:16</td>\n",
       "<td>51.567 sec</td>\n",
       "<td>1182 obs/sec</td>\n",
       "<td>1.0573427</td>\n",
       "<td>1</td>\n",
       "<td>1512.0</td>\n",
       "<td>0.4589685</td>\n",
       "<td>0.2106520</td>\n",
       "<td>0.3630246</td>\n",
       "<td>0.0783323</td></tr>\n",
       "<tr><td></td>\n",
       "<td>2019-02-25 16:55:22</td>\n",
       "<td>58.044 sec</td>\n",
       "<td>1877 obs/sec</td>\n",
       "<td>9.3685315</td>\n",
       "<td>9</td>\n",
       "<td>13397.0</td>\n",
       "<td>0.3092080</td>\n",
       "<td>0.0956096</td>\n",
       "<td>0.2413979</td>\n",
       "<td>0.5816785</td></tr>\n",
       "<tr><td></td>\n",
       "<td>2019-02-25 16:55:24</td>\n",
       "<td>59.577 sec</td>\n",
       "<td>1874 obs/sec</td>\n",
       "<td>10.4041958</td>\n",
       "<td>10</td>\n",
       "<td>14878.0</td>\n",
       "<td>0.3434053</td>\n",
       "<td>0.1179272</td>\n",
       "<td>0.2759459</td>\n",
       "<td>0.4840321</td></tr></table></div>"
      ],
      "text/plain": [
       "    timestamp            duration    training_speed    epochs    iterations    samples    training_rmse    training_deviance    training_mae    training_r2\n",
       "--  -------------------  ----------  ----------------  --------  ------------  ---------  ---------------  -------------------  --------------  -------------\n",
       "    2019-02-25 16:55:14  0.000 sec                     0         0             0          nan              nan                  nan             nan\n",
       "    2019-02-25 16:55:16  51.567 sec  1182 obs/sec      1.05734   1             1512       0.458968         0.210652             0.363025        0.0783323\n",
       "    2019-02-25 16:55:22  58.044 sec  1877 obs/sec      9.36853   9             13397      0.309208         0.0956096            0.241398        0.581679\n",
       "    2019-02-25 16:55:24  59.577 sec  1874 obs/sec      10.4042   10            14878      0.343405         0.117927             0.275946        0.484032"
      ]
     },
     "metadata": {},
     "output_type": "display_data"
    },
    {
     "name": "stdout",
     "output_type": "stream",
     "text": [
      "Variable Importances: \n"
     ]
    },
    {
     "data": {
      "text/html": [
       "<div style=\"overflow:auto\"><table style=\"width:50%\"><tr><td><b>variable</b></td>\n",
       "<td><b>relative_importance</b></td>\n",
       "<td><b>scaled_importance</b></td>\n",
       "<td><b>percentage</b></td></tr>\n",
       "<tr><td>Bean Type. </td>\n",
       "<td>1.0</td>\n",
       "<td>1.0</td>\n",
       "<td>0.0010416</td></tr>\n",
       "<tr><td>Cocoa Percent</td>\n",
       "<td>0.9512376</td>\n",
       "<td>0.9512376</td>\n",
       "<td>0.0009908</td></tr>\n",
       "<tr><td>Maker Location.U.S.A.</td>\n",
       "<td>0.9370083</td>\n",
       "<td>0.9370083</td>\n",
       "<td>0.0009759</td></tr>\n",
       "<tr><td>Maker Location.Italy</td>\n",
       "<td>0.9141206</td>\n",
       "<td>0.9141206</td>\n",
       "<td>0.0009521</td></tr>\n",
       "<tr><td>Bean Type.Trinitario</td>\n",
       "<td>0.8509611</td>\n",
       "<td>0.8509611</td>\n",
       "<td>0.0008863</td></tr>\n",
       "<tr><td>---</td>\n",
       "<td>---</td>\n",
       "<td>---</td>\n",
       "<td>---</td></tr>\n",
       "<tr><td>Origin.Paramaribo, batch 20160043-01</td>\n",
       "<td>0.4906867</td>\n",
       "<td>0.4906867</td>\n",
       "<td>0.0005111</td></tr>\n",
       "<tr><td>Origin.Finisterra</td>\n",
       "<td>0.4883274</td>\n",
       "<td>0.4883274</td>\n",
       "<td>0.0005086</td></tr>\n",
       "<tr><td>Origin.missing(NA)</td>\n",
       "<td>0.0</td>\n",
       "<td>0.0</td>\n",
       "<td>0.0</td></tr>\n",
       "<tr><td>Maker.missing(NA)</td>\n",
       "<td>0.0</td>\n",
       "<td>0.0</td>\n",
       "<td>0.0</td></tr>\n",
       "<tr><td>Maker Location.missing(NA)</td>\n",
       "<td>0.0</td>\n",
       "<td>0.0</td>\n",
       "<td>0.0</td></tr></table></div>"
      ],
      "text/plain": [
       "variable                              relative_importance    scaled_importance    percentage\n",
       "------------------------------------  ---------------------  -------------------  ---------------------\n",
       "Bean Type.                            1.0                    1.0                  0.001041550002962896\n",
       "Cocoa Percent                         0.9512376189231873     0.9512376189231873   0.0009907615448078637\n",
       "Maker Location.U.S.A.                 0.9370083212852478     0.9370083212852478   0.000975941019810908\n",
       "Maker Location.Italy                  0.9141205549240112     0.9141205549240112   0.000952102266689548\n",
       "Bean Type.Trinitario                  0.8509611487388611     0.8509611487388611   0.0008863185869902701\n",
       "---                                   ---                    ---                  ---\n",
       "Origin.Paramaribo, batch 20160043-01  0.4906867444515228     0.4906867444515228   0.0005110747801373374\n",
       "Origin.Finisterra                     0.48832741379737854    0.48832741379737854  0.0005086174192875229\n",
       "Origin.missing(NA)                    0.0                    0.0                  0.0\n",
       "Maker.missing(NA)                     0.0                    0.0                  0.0\n",
       "Maker Location.missing(NA)            0.0                    0.0                  0.0"
      ]
     },
     "metadata": {},
     "output_type": "display_data"
    },
    {
     "name": "stdout",
     "output_type": "stream",
     "text": [
      "\n",
      "See the whole table with table.as_data_frame()\n"
     ]
    },
    {
     "data": {
      "text/plain": []
     },
     "execution_count": 82,
     "metadata": {},
     "output_type": "execute_result"
    }
   ],
   "source": [
    "m_DLR_def_python"
   ]
  },
  {
   "cell_type": "code",
   "execution_count": 91,
   "metadata": {},
   "outputs": [],
   "source": [
    "# DL hyperparameters\n",
    "activation_opt = [\"Rectifier\", \"RectifierWithDropout\", \"Maxout\", \"MaxoutWithDropout\"]\n",
    "l1_opt = [0, 0.00001, 0.0001, 0.001, 0.01, 0.1]\n",
    "l2_opt = [0, 0.00001, 0.0001, 0.001, 0.01, 0.1]\n",
    "dl_params = {'activation': activation_opt, 'l1': l1_opt, 'l2': l2_opt}\n",
    "\n",
    "# Search criteria\n",
    "search_criteria = {'strategy': 'RandomDiscrete','seed': 1}"
   ]
  },
  {
   "cell_type": "code",
   "execution_count": 92,
   "metadata": {},
   "outputs": [
    {
     "ename": "H2OResponseError",
     "evalue": "Server error water.exceptions.H2OIllegalArgumentException:\n  Error: Can't parse the search_criteria dictionary; got error: java.lang.IllegalStateException: Expected BEGIN_ARRAY but was BEGIN_OBJECT at line 1 column 3 path $[0] for raw value: [{'key': \"strategy\", 'value': RandomDiscrete},{'key': \"seed\", 'value': 1}]\n  Request: POST /99/Grid/deeplearning\n    data: {'search_criteria': '[{\\'key\\': \"strategy\", \\'value\\': RandomDiscrete},{\\'key\\': \"seed\", \\'value\\': 1}]', 'hyper_parameters': \"{'activation': ['Rectifier', 'RectifierWithDropout', 'Maxout', 'MaxoutWithDropout'], 'l1': [0, 1e-05, 0.0001, 0.001, 0.01, 0.1], 'l2': [0, 1e-05, 0.0001, 0.001, 0.01, 0.1]}\", 'hidden': '[10,10]', 'hyper_params': '[{\\'key\\': \"activation\", \\'value\\': [\\'Rectifier\\', \\'RectifierWithDropout\\', \\'Maxout\\', \\'MaxoutWithDropout\\']},{\\'key\\': \"l1\", \\'value\\': [0, 1e-05, 0.0001, 0.001, 0.01, 0.1]},{\\'key\\': \"l2\", \\'value\\': [0, 1e-05, 0.0001, 0.001, 0.01, 0.1]}]', 'training_frame': 'py_18_sid_bc16', 'response_column': 'Rating', 'grid_id': 'dl_grid1'}\n",
     "output_type": "error",
     "traceback": [
      "\u001b[0;31m---------------------------------------------------------------------------\u001b[0m",
      "\u001b[0;31mH2OResponseError\u001b[0m                          Traceback (most recent call last)",
      "\u001b[0;32m<ipython-input-92-12ce17de7eaf>\u001b[0m in \u001b[0;36m<module>\u001b[0;34m()\u001b[0m\n\u001b[1;32m      8\u001b[0m               \u001b[0mhidden\u001b[0m\u001b[0;34m=\u001b[0m\u001b[0;34m[\u001b[0m\u001b[0;36m10\u001b[0m\u001b[0;34m,\u001b[0m\u001b[0;36m10\u001b[0m\u001b[0;34m]\u001b[0m\u001b[0;34m,\u001b[0m\u001b[0;34m\u001b[0m\u001b[0;34m\u001b[0m\u001b[0m\n\u001b[1;32m      9\u001b[0m               \u001b[0mhyper_params\u001b[0m\u001b[0;34m=\u001b[0m\u001b[0mdl_params\u001b[0m\u001b[0;34m,\u001b[0m\u001b[0;34m\u001b[0m\u001b[0;34m\u001b[0m\u001b[0m\n\u001b[0;32m---> 10\u001b[0;31m               search_criteria=search_criteria)\n\u001b[0m\u001b[1;32m     11\u001b[0m \u001b[0;34m\u001b[0m\u001b[0m\n\u001b[1;32m     12\u001b[0m \u001b[0mdl_gridperf\u001b[0m \u001b[0;34m=\u001b[0m \u001b[0mdl_grid\u001b[0m\u001b[0;34m.\u001b[0m\u001b[0mget_grid\u001b[0m\u001b[0;34m(\u001b[0m\u001b[0msort_by\u001b[0m\u001b[0;34m=\u001b[0m\u001b[0;34m'auc'\u001b[0m\u001b[0;34m,\u001b[0m \u001b[0mdecreasing\u001b[0m\u001b[0;34m=\u001b[0m\u001b[0;32mTrue\u001b[0m\u001b[0;34m)\u001b[0m\u001b[0;34m\u001b[0m\u001b[0;34m\u001b[0m\u001b[0m\n",
      "\u001b[0;32m~/.conda/envs/tensorflow/lib/python3.6/site-packages/h2o/grid/grid_search.py\u001b[0m in \u001b[0;36mtrain\u001b[0;34m(self, x, y, training_frame, offset_column, fold_column, weights_column, validation_frame, **params)\u001b[0m\n\u001b[1;32m    207\u001b[0m         \u001b[0mx\u001b[0m \u001b[0;34m=\u001b[0m \u001b[0mlist\u001b[0m\u001b[0;34m(\u001b[0m\u001b[0mxset\u001b[0m\u001b[0;34m)\u001b[0m\u001b[0;34m\u001b[0m\u001b[0;34m\u001b[0m\u001b[0m\n\u001b[1;32m    208\u001b[0m         \u001b[0mparms\u001b[0m\u001b[0;34m[\u001b[0m\u001b[0;34m\"x\"\u001b[0m\u001b[0;34m]\u001b[0m \u001b[0;34m=\u001b[0m \u001b[0mx\u001b[0m\u001b[0;34m\u001b[0m\u001b[0;34m\u001b[0m\u001b[0m\n\u001b[0;32m--> 209\u001b[0;31m         \u001b[0mself\u001b[0m\u001b[0;34m.\u001b[0m\u001b[0mbuild_model\u001b[0m\u001b[0;34m(\u001b[0m\u001b[0mparms\u001b[0m\u001b[0;34m)\u001b[0m\u001b[0;34m\u001b[0m\u001b[0;34m\u001b[0m\u001b[0m\n\u001b[0m\u001b[1;32m    210\u001b[0m \u001b[0;34m\u001b[0m\u001b[0m\n\u001b[1;32m    211\u001b[0m \u001b[0;34m\u001b[0m\u001b[0m\n",
      "\u001b[0;32m~/.conda/envs/tensorflow/lib/python3.6/site-packages/h2o/grid/grid_search.py\u001b[0m in \u001b[0;36mbuild_model\u001b[0;34m(self, algo_params)\u001b[0m\n\u001b[1;32m    225\u001b[0m             \u001b[0my\u001b[0m \u001b[0;34m=\u001b[0m \u001b[0my\u001b[0m \u001b[0;32mif\u001b[0m \u001b[0my\u001b[0m \u001b[0;32min\u001b[0m \u001b[0mtraining_frame\u001b[0m\u001b[0;34m.\u001b[0m\u001b[0mnames\u001b[0m \u001b[0;32melse\u001b[0m \u001b[0mtraining_frame\u001b[0m\u001b[0;34m.\u001b[0m\u001b[0mnames\u001b[0m\u001b[0;34m[\u001b[0m\u001b[0my\u001b[0m\u001b[0;34m]\u001b[0m\u001b[0;34m\u001b[0m\u001b[0;34m\u001b[0m\u001b[0m\n\u001b[1;32m    226\u001b[0m             \u001b[0mself\u001b[0m\u001b[0;34m.\u001b[0m\u001b[0mmodel\u001b[0m\u001b[0;34m.\u001b[0m\u001b[0m_estimator_type\u001b[0m \u001b[0;34m=\u001b[0m \u001b[0;34m\"classifier\"\u001b[0m \u001b[0;32mif\u001b[0m \u001b[0mtraining_frame\u001b[0m\u001b[0;34m.\u001b[0m\u001b[0mtypes\u001b[0m\u001b[0;34m[\u001b[0m\u001b[0my\u001b[0m\u001b[0;34m]\u001b[0m \u001b[0;34m==\u001b[0m \u001b[0;34m\"enum\"\u001b[0m \u001b[0;32melse\u001b[0m \u001b[0;34m\"regressor\"\u001b[0m\u001b[0;34m\u001b[0m\u001b[0;34m\u001b[0m\u001b[0m\n\u001b[0;32m--> 227\u001b[0;31m         \u001b[0mself\u001b[0m\u001b[0;34m.\u001b[0m\u001b[0m_model_build\u001b[0m\u001b[0;34m(\u001b[0m\u001b[0mx\u001b[0m\u001b[0;34m,\u001b[0m \u001b[0my\u001b[0m\u001b[0;34m,\u001b[0m \u001b[0mtraining_frame\u001b[0m\u001b[0;34m,\u001b[0m \u001b[0mvalidation_frame\u001b[0m\u001b[0;34m,\u001b[0m \u001b[0malgo_params\u001b[0m\u001b[0;34m)\u001b[0m\u001b[0;34m\u001b[0m\u001b[0;34m\u001b[0m\u001b[0m\n\u001b[0m\u001b[1;32m    228\u001b[0m \u001b[0;34m\u001b[0m\u001b[0m\n\u001b[1;32m    229\u001b[0m \u001b[0;34m\u001b[0m\u001b[0m\n",
      "\u001b[0;32m~/.conda/envs/tensorflow/lib/python3.6/site-packages/h2o/grid/grid_search.py\u001b[0m in \u001b[0;36m_model_build\u001b[0;34m(self, x, y, tframe, vframe, kwargs)\u001b[0m\n\u001b[1;32m    247\u001b[0m         \u001b[0mrest_ver\u001b[0m \u001b[0;34m=\u001b[0m \u001b[0mkwargs\u001b[0m\u001b[0;34m.\u001b[0m\u001b[0mpop\u001b[0m\u001b[0;34m(\u001b[0m\u001b[0;34m\"_rest_version\"\u001b[0m\u001b[0;34m)\u001b[0m \u001b[0;32mif\u001b[0m \u001b[0;34m\"_rest_version\"\u001b[0m \u001b[0;32min\u001b[0m \u001b[0mkwargs\u001b[0m \u001b[0;32melse\u001b[0m \u001b[0;32mNone\u001b[0m\u001b[0;34m\u001b[0m\u001b[0;34m\u001b[0m\u001b[0m\n\u001b[1;32m    248\u001b[0m \u001b[0;34m\u001b[0m\u001b[0m\n\u001b[0;32m--> 249\u001b[0;31m         \u001b[0mgrid\u001b[0m \u001b[0;34m=\u001b[0m \u001b[0mH2OJob\u001b[0m\u001b[0;34m(\u001b[0m\u001b[0mh2o\u001b[0m\u001b[0;34m.\u001b[0m\u001b[0mapi\u001b[0m\u001b[0;34m(\u001b[0m\u001b[0;34m\"POST /99/Grid/%s\"\u001b[0m \u001b[0;34m%\u001b[0m \u001b[0malgo\u001b[0m\u001b[0;34m,\u001b[0m \u001b[0mdata\u001b[0m\u001b[0;34m=\u001b[0m\u001b[0mkwargs\u001b[0m\u001b[0;34m)\u001b[0m\u001b[0;34m,\u001b[0m \u001b[0mjob_type\u001b[0m\u001b[0;34m=\u001b[0m\u001b[0;34m(\u001b[0m\u001b[0malgo\u001b[0m \u001b[0;34m+\u001b[0m \u001b[0;34m\" Grid Build\"\u001b[0m\u001b[0;34m)\u001b[0m\u001b[0;34m)\u001b[0m\u001b[0;34m\u001b[0m\u001b[0;34m\u001b[0m\u001b[0m\n\u001b[0m\u001b[1;32m    250\u001b[0m \u001b[0;34m\u001b[0m\u001b[0m\n\u001b[1;32m    251\u001b[0m         \u001b[0;32mif\u001b[0m \u001b[0mself\u001b[0m\u001b[0;34m.\u001b[0m\u001b[0m_future\u001b[0m\u001b[0;34m:\u001b[0m\u001b[0;34m\u001b[0m\u001b[0;34m\u001b[0m\u001b[0m\n",
      "\u001b[0;32m~/.conda/envs/tensorflow/lib/python3.6/site-packages/h2o/h2o.py\u001b[0m in \u001b[0;36mapi\u001b[0;34m(endpoint, data, json, filename, save_to)\u001b[0m\n\u001b[1;32m    102\u001b[0m     \u001b[0;31m# type checks are performed in H2OConnection class\u001b[0m\u001b[0;34m\u001b[0m\u001b[0;34m\u001b[0m\u001b[0;34m\u001b[0m\u001b[0m\n\u001b[1;32m    103\u001b[0m     \u001b[0m_check_connection\u001b[0m\u001b[0;34m(\u001b[0m\u001b[0;34m)\u001b[0m\u001b[0;34m\u001b[0m\u001b[0;34m\u001b[0m\u001b[0m\n\u001b[0;32m--> 104\u001b[0;31m     \u001b[0;32mreturn\u001b[0m \u001b[0mh2oconn\u001b[0m\u001b[0;34m.\u001b[0m\u001b[0mrequest\u001b[0m\u001b[0;34m(\u001b[0m\u001b[0mendpoint\u001b[0m\u001b[0;34m,\u001b[0m \u001b[0mdata\u001b[0m\u001b[0;34m=\u001b[0m\u001b[0mdata\u001b[0m\u001b[0;34m,\u001b[0m \u001b[0mjson\u001b[0m\u001b[0;34m=\u001b[0m\u001b[0mjson\u001b[0m\u001b[0;34m,\u001b[0m \u001b[0mfilename\u001b[0m\u001b[0;34m=\u001b[0m\u001b[0mfilename\u001b[0m\u001b[0;34m,\u001b[0m \u001b[0msave_to\u001b[0m\u001b[0;34m=\u001b[0m\u001b[0msave_to\u001b[0m\u001b[0;34m)\u001b[0m\u001b[0;34m\u001b[0m\u001b[0;34m\u001b[0m\u001b[0m\n\u001b[0m\u001b[1;32m    105\u001b[0m \u001b[0;34m\u001b[0m\u001b[0m\n\u001b[1;32m    106\u001b[0m \u001b[0;34m\u001b[0m\u001b[0m\n",
      "\u001b[0;32m~/.conda/envs/tensorflow/lib/python3.6/site-packages/h2o/backend/connection.py\u001b[0m in \u001b[0;36mrequest\u001b[0;34m(self, endpoint, data, json, filename, save_to)\u001b[0m\n\u001b[1;32m    405\u001b[0m                                     auth=self._auth, verify=self._verify_ssl_cert, proxies=self._proxies)\n\u001b[1;32m    406\u001b[0m             \u001b[0mself\u001b[0m\u001b[0;34m.\u001b[0m\u001b[0m_log_end_transaction\u001b[0m\u001b[0;34m(\u001b[0m\u001b[0mstart_time\u001b[0m\u001b[0;34m,\u001b[0m \u001b[0mresp\u001b[0m\u001b[0;34m)\u001b[0m\u001b[0;34m\u001b[0m\u001b[0;34m\u001b[0m\u001b[0m\n\u001b[0;32m--> 407\u001b[0;31m             \u001b[0;32mreturn\u001b[0m \u001b[0mself\u001b[0m\u001b[0;34m.\u001b[0m\u001b[0m_process_response\u001b[0m\u001b[0;34m(\u001b[0m\u001b[0mresp\u001b[0m\u001b[0;34m,\u001b[0m \u001b[0msave_to\u001b[0m\u001b[0;34m)\u001b[0m\u001b[0;34m\u001b[0m\u001b[0;34m\u001b[0m\u001b[0m\n\u001b[0m\u001b[1;32m    408\u001b[0m \u001b[0;34m\u001b[0m\u001b[0m\n\u001b[1;32m    409\u001b[0m         \u001b[0;32mexcept\u001b[0m \u001b[0;34m(\u001b[0m\u001b[0mrequests\u001b[0m\u001b[0;34m.\u001b[0m\u001b[0mexceptions\u001b[0m\u001b[0;34m.\u001b[0m\u001b[0mConnectionError\u001b[0m\u001b[0;34m,\u001b[0m \u001b[0mrequests\u001b[0m\u001b[0;34m.\u001b[0m\u001b[0mexceptions\u001b[0m\u001b[0;34m.\u001b[0m\u001b[0mHTTPError\u001b[0m\u001b[0;34m)\u001b[0m \u001b[0;32mas\u001b[0m \u001b[0me\u001b[0m\u001b[0;34m:\u001b[0m\u001b[0;34m\u001b[0m\u001b[0;34m\u001b[0m\u001b[0m\n",
      "\u001b[0;32m~/.conda/envs/tensorflow/lib/python3.6/site-packages/h2o/backend/connection.py\u001b[0m in \u001b[0;36m_process_response\u001b[0;34m(response, save_to)\u001b[0m\n\u001b[1;32m    741\u001b[0m         \u001b[0;31m# Client errors (400 = \"Bad Request\", 404 = \"Not Found\", 412 = \"Precondition Failed\")\u001b[0m\u001b[0;34m\u001b[0m\u001b[0;34m\u001b[0m\u001b[0;34m\u001b[0m\u001b[0m\n\u001b[1;32m    742\u001b[0m         \u001b[0;32mif\u001b[0m \u001b[0mstatus_code\u001b[0m \u001b[0;32min\u001b[0m \u001b[0;34m{\u001b[0m\u001b[0;36m400\u001b[0m\u001b[0;34m,\u001b[0m \u001b[0;36m404\u001b[0m\u001b[0;34m,\u001b[0m \u001b[0;36m412\u001b[0m\u001b[0;34m}\u001b[0m \u001b[0;32mand\u001b[0m \u001b[0misinstance\u001b[0m\u001b[0;34m(\u001b[0m\u001b[0mdata\u001b[0m\u001b[0;34m,\u001b[0m \u001b[0;34m(\u001b[0m\u001b[0mH2OErrorV3\u001b[0m\u001b[0;34m,\u001b[0m \u001b[0mH2OModelBuilderErrorV3\u001b[0m\u001b[0;34m)\u001b[0m\u001b[0;34m)\u001b[0m\u001b[0;34m:\u001b[0m\u001b[0;34m\u001b[0m\u001b[0;34m\u001b[0m\u001b[0m\n\u001b[0;32m--> 743\u001b[0;31m             \u001b[0;32mraise\u001b[0m \u001b[0mH2OResponseError\u001b[0m\u001b[0;34m(\u001b[0m\u001b[0mdata\u001b[0m\u001b[0;34m)\u001b[0m\u001b[0;34m\u001b[0m\u001b[0;34m\u001b[0m\u001b[0m\n\u001b[0m\u001b[1;32m    744\u001b[0m \u001b[0;34m\u001b[0m\u001b[0m\n\u001b[1;32m    745\u001b[0m         \u001b[0;31m# Server errors (notably 500 = \"Server Error\")\u001b[0m\u001b[0;34m\u001b[0m\u001b[0;34m\u001b[0m\u001b[0;34m\u001b[0m\u001b[0m\n",
      "\u001b[0;31mH2OResponseError\u001b[0m: Server error water.exceptions.H2OIllegalArgumentException:\n  Error: Can't parse the search_criteria dictionary; got error: java.lang.IllegalStateException: Expected BEGIN_ARRAY but was BEGIN_OBJECT at line 1 column 3 path $[0] for raw value: [{'key': \"strategy\", 'value': RandomDiscrete},{'key': \"seed\", 'value': 1}]\n  Request: POST /99/Grid/deeplearning\n    data: {'search_criteria': '[{\\'key\\': \"strategy\", \\'value\\': RandomDiscrete},{\\'key\\': \"seed\", \\'value\\': 1}]', 'hyper_parameters': \"{'activation': ['Rectifier', 'RectifierWithDropout', 'Maxout', 'MaxoutWithDropout'], 'l1': [0, 1e-05, 0.0001, 0.001, 0.01, 0.1], 'l2': [0, 1e-05, 0.0001, 0.001, 0.01, 0.1]}\", 'hidden': '[10,10]', 'hyper_params': '[{\\'key\\': \"activation\", \\'value\\': [\\'Rectifier\\', \\'RectifierWithDropout\\', \\'Maxout\\', \\'MaxoutWithDropout\\']},{\\'key\\': \"l1\", \\'value\\': [0, 1e-05, 0.0001, 0.001, 0.01, 0.1]},{\\'key\\': \"l2\", \\'value\\': [0, 1e-05, 0.0001, 0.001, 0.01, 0.1]}]', 'training_frame': 'py_18_sid_bc16', 'response_column': 'Rating', 'grid_id': 'dl_grid1'}\n"
     ]
    }
   ],
   "source": [
    "dl_grid = H2OGridSearch(model=H2ODeepLearningEstimator,\n",
    "                        grid_id='dl_grid1',\n",
    "                        hyper_params=dl_params,\n",
    "                        search_criteria=search_criteria)\n",
    "\n",
    "dl_grid.train(x=xRegress, y=y,\n",
    "              training_frame=train, \n",
    "              hidden=[10,10],\n",
    "              hyper_params=dl_params,\n",
    "              search_criteria=search_criteria)\n",
    "\n",
    "dl_gridperf = dl_grid.get_grid(sort_by='auc', decreasing=True)"
   ]
  },
  {
   "cell_type": "code",
   "execution_count": null,
   "metadata": {},
   "outputs": [],
   "source": []
  }
 ],
 "metadata": {
  "kernelspec": {
   "display_name": "Python (Machine_Learning)",
   "language": "python",
   "name": "tensorflow"
  },
  "language_info": {
   "codemirror_mode": {
    "name": "ipython",
    "version": 3
   },
   "file_extension": ".py",
   "mimetype": "text/x-python",
   "name": "python",
   "nbconvert_exporter": "python",
   "pygments_lexer": "ipython3",
   "version": "3.6.8"
  }
 },
 "nbformat": 4,
 "nbformat_minor": 2
}
