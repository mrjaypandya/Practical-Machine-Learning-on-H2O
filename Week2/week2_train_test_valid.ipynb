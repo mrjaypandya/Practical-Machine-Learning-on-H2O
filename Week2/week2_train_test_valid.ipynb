{
 "cells": [
  {
   "cell_type": "code",
   "execution_count": 1,
   "metadata": {},
   "outputs": [],
   "source": [
    "import h2o"
   ]
  },
  {
   "cell_type": "code",
   "execution_count": 3,
   "metadata": {},
   "outputs": [
    {
     "name": "stdout",
     "output_type": "stream",
     "text": [
      "Checking whether there is an H2O instance running at http://localhost:54321..... not found.\n",
      "Attempting to start a local H2O server...\n",
      "  Java Version: openjdk version \"10.0.2\" 2018-07-17; OpenJDK Runtime Environment (build 10.0.2+13-Ubuntu-1ubuntu0.18.04.4); OpenJDK 64-Bit Server VM (build 10.0.2+13-Ubuntu-1ubuntu0.18.04.4, mixed mode)\n",
      "  Starting server from /home/jay/.conda/envs/tensorflow/lib/python3.6/site-packages/h2o/backend/bin/h2o.jar\n",
      "  Ice root: /tmp/tmpo56nbsfb\n",
      "  JVM stdout: /tmp/tmpo56nbsfb/h2o_jay_started_from_python.out\n",
      "  JVM stderr: /tmp/tmpo56nbsfb/h2o_jay_started_from_python.err\n",
      "  Server is running at http://127.0.0.1:54321\n",
      "Connecting to H2O server at http://127.0.0.1:54321... successful.\n"
     ]
    },
    {
     "data": {
      "text/html": [
       "<div style=\"overflow:auto\"><table style=\"width:50%\"><tr><td>H2O cluster uptime:</td>\n",
       "<td>04 secs</td></tr>\n",
       "<tr><td>H2O cluster timezone:</td>\n",
       "<td>Asia/Kolkata</td></tr>\n",
       "<tr><td>H2O data parsing timezone:</td>\n",
       "<td>UTC</td></tr>\n",
       "<tr><td>H2O cluster version:</td>\n",
       "<td>3.22.1.2</td></tr>\n",
       "<tr><td>H2O cluster version age:</td>\n",
       "<td>2 days </td></tr>\n",
       "<tr><td>H2O cluster name:</td>\n",
       "<td>H2O_from_python_jay_9rohxq</td></tr>\n",
       "<tr><td>H2O cluster total nodes:</td>\n",
       "<td>1</td></tr>\n",
       "<tr><td>H2O cluster free memory:</td>\n",
       "<td>1.439 Gb</td></tr>\n",
       "<tr><td>H2O cluster total cores:</td>\n",
       "<td>4</td></tr>\n",
       "<tr><td>H2O cluster allowed cores:</td>\n",
       "<td>4</td></tr>\n",
       "<tr><td>H2O cluster status:</td>\n",
       "<td>accepting new members, healthy</td></tr>\n",
       "<tr><td>H2O connection url:</td>\n",
       "<td>http://127.0.0.1:54321</td></tr>\n",
       "<tr><td>H2O connection proxy:</td>\n",
       "<td>None</td></tr>\n",
       "<tr><td>H2O internal security:</td>\n",
       "<td>False</td></tr>\n",
       "<tr><td>H2O API Extensions:</td>\n",
       "<td>XGBoost, Algos, AutoML, Core V3, Core V4</td></tr>\n",
       "<tr><td>Python version:</td>\n",
       "<td>3.6.8 final</td></tr></table></div>"
      ],
      "text/plain": [
       "--------------------------  ----------------------------------------\n",
       "H2O cluster uptime:         04 secs\n",
       "H2O cluster timezone:       Asia/Kolkata\n",
       "H2O data parsing timezone:  UTC\n",
       "H2O cluster version:        3.22.1.2\n",
       "H2O cluster version age:    2 days\n",
       "H2O cluster name:           H2O_from_python_jay_9rohxq\n",
       "H2O cluster total nodes:    1\n",
       "H2O cluster free memory:    1.439 Gb\n",
       "H2O cluster total cores:    4\n",
       "H2O cluster allowed cores:  4\n",
       "H2O cluster status:         accepting new members, healthy\n",
       "H2O connection url:         http://127.0.0.1:54321\n",
       "H2O connection proxy:\n",
       "H2O internal security:      False\n",
       "H2O API Extensions:         XGBoost, Algos, AutoML, Core V3, Core V4\n",
       "Python version:             3.6.8 final\n",
       "--------------------------  ----------------------------------------"
      ]
     },
     "metadata": {},
     "output_type": "display_data"
    }
   ],
   "source": [
    "h2o.init()"
   ]
  },
  {
   "cell_type": "code",
   "execution_count": 4,
   "metadata": {},
   "outputs": [],
   "source": [
    "people = h2o.get_frame(\"people\")"
   ]
  },
  {
   "cell_type": "code",
   "execution_count": 5,
   "metadata": {},
   "outputs": [
    {
     "data": {
      "text/html": [
       "<table>\n",
       "<thead>\n",
       "<tr><th style=\"text-align: right;\">  id</th><th>bloodType  </th><th style=\"text-align: right;\">    age</th><th style=\"text-align: right;\">  healthEating</th><th style=\"text-align: right;\">  activeLifestyle</th><th style=\"text-align: right;\">  income</th></tr>\n",
       "</thead>\n",
       "<tbody>\n",
       "<tr><td style=\"text-align: right;\">   1</td><td>A          </td><td style=\"text-align: right;\">31.5161</td><td style=\"text-align: right;\">             4</td><td style=\"text-align: right;\">                3</td><td style=\"text-align: right;\">   33100</td></tr>\n",
       "<tr><td style=\"text-align: right;\">   2</td><td>A          </td><td style=\"text-align: right;\">55.0503</td><td style=\"text-align: right;\">             3</td><td style=\"text-align: right;\">                4</td><td style=\"text-align: right;\">   54900</td></tr>\n",
       "<tr><td style=\"text-align: right;\">   3</td><td>O          </td><td style=\"text-align: right;\">37.2219</td><td style=\"text-align: right;\">             7</td><td style=\"text-align: right;\">                3</td><td style=\"text-align: right;\">   40500</td></tr>\n",
       "<tr><td style=\"text-align: right;\">   4</td><td>O          </td><td style=\"text-align: right;\">59.5018</td><td style=\"text-align: right;\">             7</td><td style=\"text-align: right;\">                6</td><td style=\"text-align: right;\">   60400</td></tr>\n",
       "<tr><td style=\"text-align: right;\">   5</td><td>O          </td><td style=\"text-align: right;\">62.202 </td><td style=\"text-align: right;\">             2</td><td style=\"text-align: right;\">                7</td><td style=\"text-align: right;\">   59100</td></tr>\n",
       "<tr><td style=\"text-align: right;\">   6</td><td>AB         </td><td style=\"text-align: right;\">20.1412</td><td style=\"text-align: right;\">             5</td><td style=\"text-align: right;\">                9</td><td style=\"text-align: right;\">   29300</td></tr>\n",
       "<tr><td style=\"text-align: right;\">   7</td><td>B          </td><td style=\"text-align: right;\">42.821 </td><td style=\"text-align: right;\">             3</td><td style=\"text-align: right;\">                6</td><td style=\"text-align: right;\">   41300</td></tr>\n",
       "<tr><td style=\"text-align: right;\">   8</td><td>A          </td><td style=\"text-align: right;\">59.9437</td><td style=\"text-align: right;\">             1</td><td style=\"text-align: right;\">                3</td><td style=\"text-align: right;\">   56400</td></tr>\n",
       "<tr><td style=\"text-align: right;\">   9</td><td>A          </td><td style=\"text-align: right;\">43.9174</td><td style=\"text-align: right;\">             5</td><td style=\"text-align: right;\">                7</td><td style=\"text-align: right;\">   45900</td></tr>\n",
       "<tr><td style=\"text-align: right;\">  10</td><td>A          </td><td style=\"text-align: right;\">39.4609</td><td style=\"text-align: right;\">             5</td><td style=\"text-align: right;\">                7</td><td style=\"text-align: right;\">   40000</td></tr>\n",
       "</tbody>\n",
       "</table>"
      ]
     },
     "metadata": {},
     "output_type": "display_data"
    },
    {
     "data": {
      "text/plain": []
     },
     "execution_count": 5,
     "metadata": {},
     "output_type": "execute_result"
    }
   ],
   "source": [
    "people"
   ]
  },
  {
   "cell_type": "code",
   "execution_count": 15,
   "metadata": {},
   "outputs": [],
   "source": [
    "train, valid, test = people.split_frame(\n",
    "    ratios = [0.81, 0.09],\n",
    "    destination_frames = [\"people_train\",\"people_valid\",\"peole_test\"],\n",
    "    seed = 123\n",
    "    )"
   ]
  },
  {
   "cell_type": "code",
   "execution_count": 16,
   "metadata": {},
   "outputs": [
    {
     "name": "stdout",
     "output_type": "stream",
     "text": [
      "803/103/94\n"
     ]
    }
   ],
   "source": [
    "print(\"%d/%d/%d\" % (train.nrows,valid.nrows, test.nrows))"
   ]
  },
  {
   "cell_type": "code",
   "execution_count": null,
   "metadata": {},
   "outputs": [],
   "source": []
  }
 ],
 "metadata": {
  "kernelspec": {
   "display_name": "Python (Machine_Learning)",
   "language": "python",
   "name": "tensorflow"
  },
  "language_info": {
   "codemirror_mode": {
    "name": "ipython",
    "version": 3
   },
   "file_extension": ".py",
   "mimetype": "text/x-python",
   "name": "python",
   "nbconvert_exporter": "python",
   "pygments_lexer": "ipython3",
   "version": "3.6.8"
  }
 },
 "nbformat": 4,
 "nbformat_minor": 2
}
